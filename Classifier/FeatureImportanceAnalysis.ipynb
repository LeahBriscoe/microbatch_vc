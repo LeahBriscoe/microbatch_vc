{
 "cells": [
  {
   "cell_type": "code",
   "execution_count": 1,
   "metadata": {},
   "outputs": [],
   "source": [
    "import pandas as pd\n",
    "import numpy as np\n"
   ]
  },
  {
   "cell_type": "code",
   "execution_count": 14,
   "metadata": {},
   "outputs": [],
   "source": [
    "rf_df = pd.read_csv(\"/Users/leahbriscoe/Documents/MicroBatch/microbatch_vc/data/CRC_wirbel_otu_DataAugmentation/kmer_BatchCorrected_DiseaseState_DataAugmentationfilter_TRUE_trans_clr_scale_rf_importance.csv\",\\\n",
    "                   index_col=0)"
   ]
  },
  {
   "cell_type": "code",
   "execution_count": 15,
   "metadata": {},
   "outputs": [],
   "source": [
    "row_means = rf_df.mean(axis=1)\n",
    "row_means = row_means.sort_values(axis=0, ascending=False)"
   ]
  },
  {
   "cell_type": "code",
   "execution_count": 18,
   "metadata": {},
   "outputs": [
    {
     "data": {
      "text/plain": [
       "257"
      ]
     },
     "execution_count": 18,
     "metadata": {},
     "output_type": "execute_result"
    }
   ],
   "source": [
    "list(row_means.index).index(\"batch_labels_factor3\")"
   ]
  },
  {
   "cell_type": "code",
   "execution_count": 19,
   "metadata": {},
   "outputs": [
    {
     "data": {
      "text/plain": [
       "(306, 50)"
      ]
     },
     "execution_count": 19,
     "metadata": {},
     "output_type": "execute_result"
    }
   ],
   "source": [
    "rf_df.shape"
   ]
  },
  {
   "cell_type": "code",
   "execution_count": 12,
   "metadata": {},
   "outputs": [
    {
     "data": {
      "text/plain": [
       "AAGCAG                  0.004958\n",
       "CTATTC                  0.004928\n",
       "ATAGGC                  0.004675\n",
       "ATGCAC                  0.004603\n",
       "ATAGCG                  0.004411\n",
       "ATGCAG                  0.004124\n",
       "TCTGCA                  0.003694\n",
       "ACAGCA                  0.003478\n",
       "GAGCTA                  0.003426\n",
       "CCGCTA                  0.002930\n",
       "CGAATA                  0.002797\n",
       "GCGTAA                  0.002794\n",
       "AGATGC                  0.002688\n",
       "CTTGCA                  0.002558\n",
       "AAACCC                  0.002515\n",
       "GGCCTA                  0.002506\n",
       "GCAGAA                  0.002501\n",
       "CCCCCC                  0.002470\n",
       "AGCAGA                  0.002338\n",
       "CCCCAA                  0.002294\n",
       "CTGCAG                  0.002280\n",
       "ACACCT                  0.002247\n",
       "CTGTAC                  0.002192\n",
       "CAGATG                  0.002187\n",
       "CCCAAC                  0.002172\n",
       "GCAGTA                  0.002152\n",
       "TATGCA                  0.002148\n",
       "CAGAAA                  0.002083\n",
       "CCAGAA                  0.002048\n",
       "GATGCA                  0.001965\n",
       "                          ...   \n",
       "CTTTCA                  0.000108\n",
       "TGTGAA                  0.000108\n",
       "TGATAA                  0.000108\n",
       "ACAACT                  0.000108\n",
       "CACGCC                  0.000107\n",
       "TATCAA                  0.000107\n",
       "ACGCCG                  0.000107\n",
       "AATACA                  0.000107\n",
       "ATCCAT                  0.000106\n",
       "TAGGAA                  0.000105\n",
       "ATAGTA                  0.000104\n",
       "CCTAAA                  0.000103\n",
       "AATACT                  0.000103\n",
       "AATGGT                  0.000103\n",
       "ATTTAG                  0.000103\n",
       "CGCGAA                  0.000097\n",
       "AGAATA                  0.000097\n",
       "GCGTCA                  0.000094\n",
       "TAAAGA                  0.000092\n",
       "AATTAG                  0.000092\n",
       "ATATTA                  0.000091\n",
       "AACGGC                  0.000091\n",
       "GAAACA                  0.000081\n",
       "AATATC                  0.000073\n",
       "batch_labels_factor4    0.000066\n",
       "ATAATC                  0.000065\n",
       "batch_labels_factor7    0.000060\n",
       "GAGGGC                  0.000054\n",
       "batch_labels_factor5    0.000016\n",
       "batch_labels_factor2    0.000000\n",
       "Length: 2086, dtype: float64"
      ]
     },
     "execution_count": 12,
     "metadata": {},
     "output_type": "execute_result"
    }
   ],
   "source": [
    "row_means"
   ]
  }
 ],
 "metadata": {
  "kernelspec": {
   "display_name": "Python 3",
   "language": "python",
   "name": "python3"
  },
  "language_info": {
   "codemirror_mode": {
    "name": "ipython",
    "version": 3
   },
   "file_extension": ".py",
   "mimetype": "text/x-python",
   "name": "python",
   "nbconvert_exporter": "python",
   "pygments_lexer": "ipython3",
   "version": "3.6.8"
  }
 },
 "nbformat": 4,
 "nbformat_minor": 2
}
