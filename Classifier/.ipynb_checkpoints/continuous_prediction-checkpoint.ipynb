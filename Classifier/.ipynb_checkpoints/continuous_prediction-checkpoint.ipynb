{
 "cells": [
  {
   "cell_type": "code",
   "execution_count": 1,
   "metadata": {},
   "outputs": [],
   "source": [
    "from sklearn import model_selection \n",
    "import pandas as pd\n",
    "import utils_bmi\n",
    "import numpy as np\n",
    "from scipy import interpolate\n",
    "import os\n",
    "import seaborn as sns\n",
    "\n",
    "\n",
    "import numpy as np\n",
    "import matplotlib.pyplot as plt\n",
    "from matplotlib.colors import ListedColormap\n",
    "from sklearn.model_selection import train_test_split,KFold\n",
    "\n",
    "from sklearn.preprocessing import StandardScaler\n",
    "from sklearn.datasets import make_moons, make_circles, make_classification\n",
    "from sklearn.neural_network import MLPClassifier\n",
    "from sklearn.neighbors import KNeighborsClassifier\n",
    "from sklearn.svm import SVC\n",
    "\n",
    "from sklearn.gaussian_process import GaussianProcessClassifier\n",
    "from sklearn.gaussian_process.kernels import RBF\n",
    "from sklearn.tree import DecisionTreeClassifier\n",
    "from sklearn.ensemble import RandomForestClassifier, AdaBoostClassifier\n",
    "from sklearn.naive_bayes import GaussianNB\n",
    "from sklearn.discriminant_analysis import QuadraticDiscriminantAnalysis\n",
    "\n",
    "from sklearn import metrics\n",
    "from sklearn.metrics import mean_squared_error \n",
    "from sklearn.linear_model import LinearRegression"
   ]
  },
  {
   "cell_type": "code",
   "execution_count": 2,
   "metadata": {},
   "outputs": [],
   "source": [
    "column_of_interest = 'bmi_corrected'"
   ]
  },
  {
   "cell_type": "code",
   "execution_count": 3,
   "metadata": {},
   "outputs": [
    {
     "name": "stdout",
     "output_type": "stream",
     "text": [
      "norm\n",
      "no_scale_no_clr\n",
      "scale_no_clr\n",
      "no_scale_clr\n",
      "scale_clr\n"
     ]
    }
   ],
   "source": [
    "data_folder = \"/Users/leahbriscoe/Documents/MicroBatch/microbatch_vc/data/AGP_max_k6/\"#microbatch_vc/data/AGP_reprocess_k6\" #\"WR_AD\")#\n",
    "\n",
    "plot_folder = \"/Users/leahbriscoe/Documents/MicroBatch/microbatch_vc/plots/AGP_max_k6/\" #+ str(\"AGP_2018_biomotu_k7_feces\")# str(\"WR_AD\")\n",
    "#os.mkdir(plot_folder)\n",
    "methods = [\"norm\",\"no_scale_no_clr\",\"scale_no_clr\",\"no_scale_clr\",\"scale_clr\"]\n",
    "\n",
    "# [\"raw\",\"bmc\",\"ComBat\",\"ComBat_with_batch2\",\"pca_regress_out_scale_first2\",\"clr_pca_regress_out_no_scale_first2\",\n",
    "#            \"pca_regress_out_scale_first5\",\"clr_pca_regress_out_no_scale_first5\",\"limma\"]#\"refactor\",\"refactor_shift1\",\"smartsva\"]#[\"raw\",\"bmc\",\"pca_regress_out_scale_first1\",\"clr_pca_regress_out_scale_first1\",\"clr_pca_regress_out_no_scale_first1\"]\n",
    "data_type = \"kmer\"\n",
    "column_of_interest = 'bmi_cor'#'bmi_corrected'#\"diabetes\"\n",
    "\n",
    "\n",
    "methods_dict = utils_bmi.load_data(data_folder,methods,data_type)\n",
    "#[\"rel_ab\",\"ComBat_mle\",\"ComBat\",\"percentile_norm\",\"slope_correction\",\"limma\",\"bmc\",\"pca_regress_out\"]\n"
   ]
  },
  {
   "cell_type": "code",
   "execution_count": 3,
   "metadata": {},
   "outputs": [
    {
     "name": "stderr",
     "output_type": "stream",
     "text": [
      "/Users/leahbriscoe/anaconda3/lib/python3.6/site-packages/IPython/core/interactiveshell.py:3020: DtypeWarning: Columns (1,25,28,29,30,31,32,57,65,73,77,79,85,94,95,96,97,98,99,100,101,102,103,104,105,106,107,108,109,110,111,112,113,114,115,116,117,118,121,122,123,124,125,126,127,128,129,130,131,132,133,134,135,136,137,138,139,140,141,142,143,144,145,146,147,148,149,150,151,152,153,154,155,156,157,158,159,160,161,162,163,164,165,166,169,170,171,172,173,174,175,176,177,178,184,189,192,193,194,203,206,208,227,237,240,242,313,314,315,316,328,349,351,352,353,354,355,356,359,360,361,362,363,364,365,366,367,368,369,370,376,383,387,399,405,432,433,434,446,463,498,549,568,572,575,582,583,600,602,603,615,622,634,648,656,692,711,712,713,714,715,716,718,762,765,766,767,768,769,770,771,772) have mixed types. Specify dtype option on import or set low_memory=False.\n",
      "  interactivity=interactivity, compiler=compiler, result=result)\n"
     ]
    }
   ],
   "source": [
    "metadata = pd.read_csv(data_folder + \"/metadata.txt\",delimiter=\"\\t\")"
   ]
  },
  {
   "cell_type": "code",
   "execution_count": 51,
   "metadata": {},
   "outputs": [],
   "source": [
    "metadata[\"continuous_var\"] = [float('Nan') if i == 'not applicable' or i == 'not provided' or \n",
    "                              i == \"Not provided\" or i== \"Unspecified\" or i == \"Not applicable\" \n",
    "                              else float(i) for i in list(metadata[column_of_interest])]\n"
   ]
  },
  {
   "cell_type": "code",
   "execution_count": 53,
   "metadata": {},
   "outputs": [],
   "source": [
    "names = [\"Linear Regression\"]\n",
    "\n",
    "#all_methods_metrics = dict()\n",
    "#all_methods_means = pd.DataFrame(index = methods, columns= names)\n",
    "all_methods_stats = dict()"
   ]
  },
  {
   "cell_type": "code",
   "execution_count": 54,
   "metadata": {},
   "outputs": [
    {
     "name": "stdout",
     "output_type": "stream",
     "text": [
      "norm\n",
      "no_scale_no_clr\n",
      "scale_no_clr\n",
      "no_scale_clr\n",
      "scale_clr\n"
     ]
    }
   ],
   "source": [
    "n_repeats = 4\n",
    "n_splits = 5\n",
    "for method in methods:\n",
    "    print(method)\n",
    "    X = []\n",
    "    y = []\n",
    "\n",
    "    \n",
    "    all_methods_stats[method] = dict()\n",
    "    X = np.array(methods_dict[method].transpose())\n",
    "    y = np.array(metadata.loc[methods_dict[method].columns][\"continuous_var\"])\n",
    "    y = [float(\"nan\") if y_i == \"Not provided\" else float(y_i) for y_i in y]\n",
    "    na_mask = pd.isna(y)\n",
    "    y = np.array(y)\n",
    "    y = y[~na_mask]\n",
    "    X = X[~na_mask,:]\n",
    "\n",
    "    rskf = model_selection.KFold(n_splits=5, random_state=123)\n",
    "    \n",
    "    cv_pearson = []\n",
    "    cv_mse = []\n",
    "    for train_index, test_index in rskf.split(X, y):\n",
    "        #print(cv_it)\n",
    "        X_train, X_test = X[train_index,], X[test_index,]\n",
    "        y_train, y_test = y[train_index], y[test_index]\n",
    "\n",
    "        reg = LinearRegression().fit(X_train, y_train)\n",
    "        pred = reg.predict(X_test)\n",
    "        cv_pearson.append(np.corrcoef(x=list(y_test),y=list(pred))[0,1])\n",
    "        cv_mse.append(mean_squared_error(list(y_test),list(pred) ))\n",
    "     \n",
    "    \n",
    "    all_methods_stats[method]['pearson'] = cv_pearson\n",
    "    all_methods_stats[method]['mse'] = cv_mse\n",
    "    \n",
    "      "
   ]
  },
  {
   "cell_type": "code",
   "execution_count": 55,
   "metadata": {},
   "outputs": [
    {
     "data": {
      "text/plain": [
       "{'norm': {'pearson': [-0.033496273657443315,\n",
       "   -0.018157227370629338,\n",
       "   -0.014941488204417923,\n",
       "   0.017111268253090357,\n",
       "   0.08002814355710233],\n",
       "  'mse': [4357.754992259197,\n",
       "   2600.7413884417524,\n",
       "   1157.9993390941138,\n",
       "   476.2117925813708,\n",
       "   110.26224122201566]},\n",
       " 'no_scale_no_clr': {'pearson': [1.0,\n",
       "   0.9999999999999999,\n",
       "   1.0,\n",
       "   0.9999999999999998,\n",
       "   1.0],\n",
       "  'mse': [5.249394883445305e-24,\n",
       "   2.1032214237430517e-23,\n",
       "   5.950795801966669e-24,\n",
       "   2.383127730519234e-25,\n",
       "   3.3618747626034516e-25]},\n",
       " 'scale_no_clr': {'pearson': [1.0,\n",
       "   0.9999999999999999,\n",
       "   0.9999999999999998,\n",
       "   1.0,\n",
       "   1.0],\n",
       "  'mse': [5.893449620804277e-24,\n",
       "   1.25384933725834e-22,\n",
       "   2.82533130141971e-23,\n",
       "   8.480318459941963e-24,\n",
       "   1.0603399903124426e-24]},\n",
       " 'no_scale_clr': {'pearson': [1.0, 1.0, 0.9999999999999998, 1.0, 1.0],\n",
       "  'mse': [1.2314711577755124e-24,\n",
       "   1.2022384106087441e-25,\n",
       "   3.0289453689524094e-25,\n",
       "   8.464615851013313e-26,\n",
       "   9.99146633775932e-26]},\n",
       " 'scale_clr': {'pearson': [0.9999999999999999,\n",
       "   1.0,\n",
       "   1.0,\n",
       "   0.9999999999999998,\n",
       "   1.0],\n",
       "  'mse': [1.5816969895559989e-24,\n",
       "   1.2554152699831315e-25,\n",
       "   8.356499068193909e-26,\n",
       "   8.746358097979881e-26,\n",
       "   9.091214789891498e-26]}}"
      ]
     },
     "execution_count": 55,
     "metadata": {},
     "output_type": "execute_result"
    }
   ],
   "source": [
    "all_methods_stats"
   ]
  },
  {
   "cell_type": "code",
   "execution_count": 62,
   "metadata": {},
   "outputs": [],
   "source": [
    "df_mse = pd.DataFrame()\n",
    "for m in methods:\n",
    "    df_mse[m] = pd.Series(all_methods_stats[m]['mse'])"
   ]
  },
  {
   "cell_type": "code",
   "execution_count": 67,
   "metadata": {},
   "outputs": [
    {
     "data": {
      "image/png": "[encoded data removed]",
      "text/plain": [
       "<Figure size 432x288 with 1 Axes>"
      ]
     },
     "metadata": {
      "needs_background": "light"
     },
     "output_type": "display_data"
    }
   ],
   "source": [
    "df_pearson = pd.DataFrame()\n",
    "for m in methods:\n",
    "    df_pearson[m] = pd.Series(all_methods_stats[m]['pearson'])\n",
    "\n",
    "boxplot = df_pearson.boxplot()\n",
    "#boxplot.xticks(rotation=90)"
   ]
  },
  {
   "cell_type": "code",
   "execution_count": 26,
   "metadata": {},
   "outputs": [
    {
     "data": {
      "text/plain": [
       "Index(['raw', 'bmc', 'pca_regress_out_scale_first2',\n",
       "       'clr_pca_regress_out_no_scale_first2', 'pca_regress_out_scale_first5',\n",
       "       'clr_pca_regress_out_no_scale_first5', 'ComBat', 'ComBat_with_batch2'],\n",
       "      dtype='object')"
      ]
     },
     "execution_count": 26,
     "metadata": {},
     "output_type": "execute_result"
    }
   ],
   "source": [
    " df_pearson.columns"
   ]
  },
  {
   "cell_type": "code",
   "execution_count": 68,
   "metadata": {},
   "outputs": [
    {
     "data": {
      "text/plain": [
       "Text(0.5,1,'Pearson')"
      ]
     },
     "execution_count": 68,
     "metadata": {},
     "output_type": "execute_result"
    },
    {
     "data": {
      "image/png": "[encoded data removed]",
      "text/plain": [
       "<Figure size 432x288 with 1 Axes>"
      ]
     },
     "metadata": {
      "needs_background": "light"
     },
     "output_type": "display_data"
    }
   ],
   "source": [
    "\n",
    "\n",
    " \n",
    "# Make boxplot for one group only\n",
    "g=sns.boxplot( data = df_pearson)\n",
    "g.set_xticklabels(rotation=30,labels = df_pearson.columns)\n",
    "g.set_title('Pearson')"
   ]
  },
  {
   "cell_type": "code",
   "execution_count": 65,
   "metadata": {},
   "outputs": [
    {
     "data": {
      "text/html": [
       "<div>\n",
       "<style scoped>\n",
       "    .dataframe tbody tr th:only-of-type {\n",
       "        vertical-align: middle;\n",
       "    }\n",
       "\n",
       "    .dataframe tbody tr th {\n",
       "        vertical-align: top;\n",
       "    }\n",
       "\n",
       "    .dataframe thead th {\n",
       "        text-align: right;\n",
       "    }\n",
       "</style>\n",
       "<table border=\"1\" class=\"dataframe\">\n",
       "  <thead>\n",
       "    <tr style=\"text-align: right;\">\n",
       "      <th></th>\n",
       "      <th>norm</th>\n",
       "      <th>no_scale_no_clr</th>\n",
       "      <th>scale_no_clr</th>\n",
       "      <th>no_scale_clr</th>\n",
       "      <th>scale_clr</th>\n",
       "    </tr>\n",
       "  </thead>\n",
       "  <tbody>\n",
       "    <tr>\n",
       "      <th>0</th>\n",
       "      <td>4357.754992</td>\n",
       "      <td>5.249395e-24</td>\n",
       "      <td>5.893450e-24</td>\n",
       "      <td>1.231471e-24</td>\n",
       "      <td>1.581697e-24</td>\n",
       "    </tr>\n",
       "    <tr>\n",
       "      <th>1</th>\n",
       "      <td>2600.741388</td>\n",
       "      <td>2.103221e-23</td>\n",
       "      <td>1.253849e-22</td>\n",
       "      <td>1.202238e-25</td>\n",
       "      <td>1.255415e-25</td>\n",
       "    </tr>\n",
       "    <tr>\n",
       "      <th>2</th>\n",
       "      <td>1157.999339</td>\n",
       "      <td>5.950796e-24</td>\n",
       "      <td>2.825331e-23</td>\n",
       "      <td>3.028945e-25</td>\n",
       "      <td>8.356499e-26</td>\n",
       "    </tr>\n",
       "    <tr>\n",
       "      <th>3</th>\n",
       "      <td>476.211793</td>\n",
       "      <td>2.383128e-25</td>\n",
       "      <td>8.480318e-24</td>\n",
       "      <td>8.464616e-26</td>\n",
       "      <td>8.746358e-26</td>\n",
       "    </tr>\n",
       "    <tr>\n",
       "      <th>4</th>\n",
       "      <td>110.262241</td>\n",
       "      <td>3.361875e-25</td>\n",
       "      <td>1.060340e-24</td>\n",
       "      <td>9.991466e-26</td>\n",
       "      <td>9.091215e-26</td>\n",
       "    </tr>\n",
       "  </tbody>\n",
       "</table>\n",
       "</div>"
      ],
      "text/plain": [
       "          norm  no_scale_no_clr  scale_no_clr  no_scale_clr     scale_clr\n",
       "0  4357.754992     5.249395e-24  5.893450e-24  1.231471e-24  1.581697e-24\n",
       "1  2600.741388     2.103221e-23  1.253849e-22  1.202238e-25  1.255415e-25\n",
       "2  1157.999339     5.950796e-24  2.825331e-23  3.028945e-25  8.356499e-26\n",
       "3   476.211793     2.383128e-25  8.480318e-24  8.464616e-26  8.746358e-26\n",
       "4   110.262241     3.361875e-25  1.060340e-24  9.991466e-26  9.091215e-26"
      ]
     },
     "execution_count": 65,
     "metadata": {},
     "output_type": "execute_result"
    }
   ],
   "source": [
    "df_mse"
   ]
  },
  {
   "cell_type": "code",
   "execution_count": 66,
   "metadata": {},
   "outputs": [
    {
     "data": {
      "text/plain": [
       "Text(0.5,1,'Pearson')"
      ]
     },
     "execution_count": 66,
     "metadata": {},
     "output_type": "execute_result"
    },
    {
     "data": {
      "image/png": "[encoded data removed]",
      "text/plain": [
       "<Figure size 432x288 with 1 Axes>"
      ]
     },
     "metadata": {
      "needs_background": "light"
     },
     "output_type": "display_data"
    }
   ],
   "source": [
    "g=sns.boxplot( data = df_mse.transpose())\n",
    "g.set_xticklabels(rotation=30,labels = df_mse.columns)\n",
    "g.set_title('Pearson')"
   ]
  },
  {
   "cell_type": "code",
   "execution_count": 64,
   "metadata": {},
   "outputs": [
    {
     "name": "stdout",
     "output_type": "stream",
     "text": [
      "Linear Regression\n",
      "norm\n"
     ]
    },
    {
     "ename": "NameError",
     "evalue": "name 'all_methods_auc_stats' is not defined",
     "output_type": "error",
     "traceback": [
      "\u001b[0;31m---------------------------------------------------------------------------\u001b[0m",
      "\u001b[0;31mNameError\u001b[0m                                 Traceback (most recent call last)",
      "\u001b[0;32m<ipython-input-64-a10401de88b6>\u001b[0m in \u001b[0;36m<module>\u001b[0;34m\u001b[0m\n\u001b[1;32m      7\u001b[0m             \u001b[0mprint\u001b[0m\u001b[0;34m(\u001b[0m\u001b[0;36m1\u001b[0m\u001b[0;34m-\u001b[0m\u001b[0mnp\u001b[0m\u001b[0;34m.\u001b[0m\u001b[0mmean\u001b[0m\u001b[0;34m(\u001b[0m\u001b[0mall_methods_auc_stats\u001b[0m\u001b[0;34m[\u001b[0m\u001b[0mmethod\u001b[0m\u001b[0;34m]\u001b[0m\u001b[0;34m[\u001b[0m\u001b[0mn\u001b[0m\u001b[0;34m]\u001b[0m\u001b[0;34m[\u001b[0m\u001b[0;34m'auc_all'\u001b[0m\u001b[0;34m]\u001b[0m\u001b[0;34m)\u001b[0m\u001b[0;34m)\u001b[0m\u001b[0;34m\u001b[0m\u001b[0;34m\u001b[0m\u001b[0m\n\u001b[1;32m      8\u001b[0m         \u001b[0;32melse\u001b[0m\u001b[0;34m:\u001b[0m\u001b[0;34m\u001b[0m\u001b[0;34m\u001b[0m\u001b[0m\n\u001b[0;32m----> 9\u001b[0;31m             \u001b[0mprint\u001b[0m\u001b[0;34m(\u001b[0m\u001b[0mnp\u001b[0m\u001b[0;34m.\u001b[0m\u001b[0mmean\u001b[0m\u001b[0;34m(\u001b[0m\u001b[0mall_methods_auc_stats\u001b[0m\u001b[0;34m[\u001b[0m\u001b[0mmethod\u001b[0m\u001b[0;34m]\u001b[0m\u001b[0;34m[\u001b[0m\u001b[0mn\u001b[0m\u001b[0;34m]\u001b[0m\u001b[0;34m[\u001b[0m\u001b[0;34m'auc_all'\u001b[0m\u001b[0;34m]\u001b[0m\u001b[0;34m)\u001b[0m\u001b[0;34m)\u001b[0m\u001b[0;34m\u001b[0m\u001b[0;34m\u001b[0m\u001b[0m\n\u001b[0m\u001b[1;32m     10\u001b[0m \u001b[0;34m\u001b[0m\u001b[0m\n",
      "\u001b[0;31mNameError\u001b[0m: name 'all_methods_auc_stats' is not defined"
     ]
    }
   ],
   "source": [
    "auc_fix = False\n",
    "for n in names:\n",
    "    print(n)\n",
    "    for method in methods:\n",
    "        print(method)\n",
    "        if auc_fix:\n",
    "            print(1-np.mean(all_methods_auc_stats[method][n]['auc_all']))\n",
    "        else: \n",
    "            print(np.mean(all_methods_auc_stats[method][n]['auc_all']))\n",
    "        "
   ]
  },
  {
   "cell_type": "code",
   "execution_count": 51,
   "metadata": {},
   "outputs": [
    {
     "data": {
      "text/plain": [
       "array(['Healthy', 'Healthy', 'Healthy', 'Healthy', 'Healthy', 'Healthy',\n",
       "       'Healthy', 'Healthy', 'Healthy', 'Healthy', 'Healthy', 'Healthy',\n",
       "       'Healthy', 'Healthy', 'Healthy', 'Healthy', 'Healthy', 'Healthy',\n",
       "       'Healthy', 'Healthy', 'Healthy', 'Healthy', 'Healthy', 'Healthy',\n",
       "       'Healthy', 'Healthy', 'Healthy', 'Healthy', 'Healthy', 'Healthy',\n",
       "       'Healthy', 'Healthy', 'Healthy', 'Healthy', 'Healthy', 'Healthy',\n",
       "       'Healthy', 'Healthy', 'Healthy', 'Healthy', 'Healthy', 'Healthy',\n",
       "       'Healthy', 'Healthy', 'Healthy', 'Healthy', 'Healthy', 'Healthy',\n",
       "       'Healthy', 'Healthy', 'Healthy', 'Healthy', 'Healthy', 'Healthy',\n",
       "       'Healthy', 'Healthy', 'Healthy', 'Healthy', 'Healthy', 'Healthy',\n",
       "       'Healthy', 'Healthy', 'Healthy', 'Healthy', 'Healthy', 'Healthy',\n",
       "       'Healthy', 'Healthy', 'Healthy', 'Healthy', 'Healthy', 'Healthy',\n",
       "       'Healthy', 'Healthy', 'Healthy', 'Healthy', 'Healthy', 'Healthy',\n",
       "       'Healthy', 'Healthy', 'Healthy', 'Healthy', 'Healthy', 'Healthy',\n",
       "       'Healthy', 'Healthy', 'Healthy', 'Healthy', 'Healthy', 'Healthy',\n",
       "       'Healthy', 'Healthy', 'Healthy', 'Healthy', 'Healthy', 'Healthy',\n",
       "       'Healthy', 'Healthy', 'Healthy', 'Healthy', 'Healthy', 'Healthy',\n",
       "       'Healthy', 'Healthy', 'Healthy', 'Healthy', 'Healthy', 'Healthy',\n",
       "       'Healthy', 'Healthy', 'Healthy', 'Healthy', 'Healthy', 'Healthy',\n",
       "       'Healthy', 'Healthy', 'Healthy', 'Healthy', 'Healthy', 'Healthy',\n",
       "       'Healthy', 'Healthy', 'Healthy', 'Healthy', 'Healthy', 'Healthy',\n",
       "       'Healthy', 'Healthy', 'Healthy', 'Healthy', 'Healthy', 'Healthy',\n",
       "       'Healthy', 'Healthy', 'Healthy', 'Healthy', 'Healthy', 'Healthy',\n",
       "       'Healthy', 'Healthy', 'Healthy', 'Healthy', 'Healthy', 'Healthy',\n",
       "       'Healthy', 'Healthy', 'Healthy', 'Healthy', 'Healthy', 'Healthy',\n",
       "       'Healthy', 'Healthy', 'Healthy', 'Healthy', 'Healthy', 'Healthy',\n",
       "       'Healthy', 'Healthy', 'Healthy', 'Healthy', 'Healthy', 'Healthy',\n",
       "       'Healthy', 'Healthy', 'Healthy', 'Healthy', 'Healthy', 'Healthy',\n",
       "       'Healthy', 'Healthy', 'Healthy', 'Healthy', 'Healthy', 'Healthy',\n",
       "       'Healthy', 'Healthy', 'Healthy', 'Healthy', 'Healthy', 'Healthy',\n",
       "       'Healthy', 'Healthy', 'Healthy', 'Healthy', 'Healthy', 'Healthy',\n",
       "       'Healthy', 'Healthy', 'Healthy', 'Healthy', 'Healthy', 'Healthy',\n",
       "       'Healthy', 'Healthy', 'Healthy', 'Healthy', 'Healthy', 'Healthy',\n",
       "       'Healthy', 'Healthy', 'Healthy', 'Healthy', 'Healthy', 'Healthy',\n",
       "       'Healthy', 'Healthy', 'Healthy', 'Healthy', 'Healthy', 'Healthy',\n",
       "       'Healthy', 'Healthy', 'Healthy', 'Healthy', 'Healthy', 'Healthy',\n",
       "       'Healthy', 'Healthy', 'Healthy', 'Healthy', 'Healthy', 'Healthy',\n",
       "       'Healthy', 'Healthy', 'Healthy', 'Healthy', 'Healthy', 'Healthy',\n",
       "       'Healthy', 'Healthy', 'Healthy', 'Healthy', 'Healthy', 'Healthy',\n",
       "       'Healthy', 'Healthy', 'Healthy', 'Healthy', 'Healthy', 'Healthy',\n",
       "       'Healthy', 'Healthy', 'Healthy', 'Healthy', 'Healthy', 'Healthy',\n",
       "       'Healthy', 'Healthy', 'Healthy', 'Healthy', 'Healthy', 'Healthy',\n",
       "       'Healthy', 'Healthy', 'Healthy', 'Healthy', 'Healthy', 'Healthy',\n",
       "       'Healthy', 'Healthy', 'Healthy', 'Healthy', 'Healthy', 'Healthy',\n",
       "       'Healthy', 'Healthy', 'Healthy', 'Healthy', 'Healthy', 'Healthy',\n",
       "       'Healthy', 'Healthy', 'Healthy', 'Healthy', 'Healthy', 'Healthy',\n",
       "       'Healthy', 'Healthy', 'Healthy', 'Healthy', 'Healthy', 'Healthy',\n",
       "       'Healthy', 'Healthy', 'Healthy', 'Healthy', 'Healthy', 'Healthy',\n",
       "       'Healthy', 'Healthy', 'Healthy', 'Healthy', 'Healthy', 'Healthy',\n",
       "       'Healthy', 'Healthy', 'Healthy', 'Healthy', 'Healthy', 'Healthy',\n",
       "       'Healthy', 'Healthy', 'Healthy', 'Healthy', 'Healthy', 'Healthy',\n",
       "       'Healthy', 'Healthy', 'Healthy', 'Healthy', 'Healthy', 'Healthy',\n",
       "       'Healthy', 'Healthy', 'Healthy', 'Healthy', 'Healthy', 'Healthy',\n",
       "       'Healthy', 'Healthy', 'Healthy', 'Healthy', 'Healthy', 'Healthy',\n",
       "       'Healthy', 'Healthy', 'Healthy', 'Healthy', 'Healthy', 'Healthy',\n",
       "       'Healthy', 'Healthy', 'Healthy', 'Healthy', 'Healthy', 'Healthy',\n",
       "       'Healthy', 'Healthy', 'Healthy', 'Healthy', 'Healthy', 'Healthy',\n",
       "       'Healthy', 'Healthy', 'Healthy', 'Healthy', 'Healthy', 'Healthy',\n",
       "       'Healthy', 'Healthy', 'Healthy', 'Healthy', 'Healthy', 'Healthy',\n",
       "       'Healthy', 'Healthy', 'Healthy', 'Healthy', 'Healthy', 'Healthy',\n",
       "       'Healthy', 'Healthy', 'Healthy', 'Healthy', 'Healthy', 'Healthy',\n",
       "       'Healthy', 'Healthy', 'Healthy', 'Healthy', 'Healthy', 'Healthy',\n",
       "       'Healthy', 'Healthy', 'Healthy', 'Healthy', 'Healthy', 'Healthy',\n",
       "       'Healthy', 'Healthy', 'Healthy', 'Healthy', 'Healthy', 'Healthy',\n",
       "       'Healthy', 'Healthy', 'Healthy', 'Healthy', 'Healthy', 'Healthy',\n",
       "       'Healthy', 'Healthy', 'Healthy', 'Healthy', 'Healthy', 'Healthy',\n",
       "       'Healthy', 'Healthy', 'Healthy', 'Healthy', 'Healthy', 'Healthy',\n",
       "       'Healthy', 'Healthy', 'Healthy', 'Healthy', 'Healthy', 'Healthy',\n",
       "       'Healthy', 'Healthy', 'Healthy', 'Healthy', 'Healthy', 'Healthy',\n",
       "       'Healthy', 'Healthy', 'Healthy', 'Healthy', 'Healthy', 'Healthy',\n",
       "       'Healthy', 'Healthy', 'Healthy', 'Healthy', 'Healthy', 'Healthy',\n",
       "       'Healthy', 'Healthy', 'Diabetes', 'Healthy', 'Healthy', 'Healthy',\n",
       "       'Healthy', 'Healthy', 'Healthy', 'Healthy', 'Healthy', 'Healthy',\n",
       "       'Healthy', 'Healthy', 'Healthy', 'Healthy', 'Healthy', 'Healthy',\n",
       "       'Healthy', 'Healthy', 'Healthy', 'Healthy', 'Healthy', 'Healthy',\n",
       "       'Healthy', 'Healthy', 'Healthy', 'Healthy', 'Healthy', 'Healthy',\n",
       "       'Healthy', 'Healthy', 'Healthy', 'Healthy', 'Healthy', 'Healthy',\n",
       "       'Healthy', 'Healthy', 'Healthy', 'Healthy', 'Healthy', 'Healthy',\n",
       "       'Healthy', 'Healthy', 'Healthy', 'Healthy', 'Healthy', 'Healthy',\n",
       "       'Healthy', 'Healthy', 'Healthy', 'Healthy', 'Healthy', 'Healthy',\n",
       "       'Healthy', 'Healthy', 'Healthy', 'Healthy', 'Healthy', 'Healthy',\n",
       "       'Healthy', 'Healthy', 'Healthy', 'Healthy', 'Healthy', 'Healthy',\n",
       "       'Healthy', 'Healthy', 'Healthy', 'Healthy', 'Healthy', 'Healthy',\n",
       "       'Healthy', 'Healthy', 'Healthy', 'Healthy', 'Healthy', 'Healthy',\n",
       "       'Healthy', 'Healthy', 'Healthy', 'Healthy', 'Healthy', 'Healthy',\n",
       "       'Healthy', 'Healthy', 'Healthy', 'Healthy', 'Diabetes', 'Healthy',\n",
       "       'Healthy', 'Healthy', 'Healthy', 'Healthy', 'Healthy', 'Healthy',\n",
       "       'Healthy', 'Healthy', 'Healthy', 'Healthy', 'Healthy', 'Healthy',\n",
       "       'Healthy', 'Healthy', 'Healthy', 'Healthy', 'Healthy', 'Healthy',\n",
       "       'Healthy', 'Healthy', 'Healthy', 'Healthy', 'Healthy', 'Healthy',\n",
       "       'Healthy', 'Healthy', 'Healthy', 'Healthy', 'Healthy', 'Healthy',\n",
       "       'Healthy', 'Healthy', 'Healthy', 'Healthy', 'Healthy', 'Healthy',\n",
       "       'Healthy', 'Healthy', 'Healthy', 'Healthy', 'Healthy', 'Healthy',\n",
       "       'Healthy', 'Healthy', 'Healthy', 'Healthy', 'Healthy', 'Healthy',\n",
       "       'Healthy', 'Healthy', 'Healthy', 'Diabetes', 'Healthy', 'Healthy',\n",
       "       'Healthy', 'Healthy', 'Healthy', 'Healthy', 'Diabetes', 'Diabetes',\n",
       "       'Diabetes', 'Diabetes', 'Diabetes', 'Diabetes', 'Diabetes',\n",
       "       'Diabetes', 'Diabetes', 'Diabetes', 'Diabetes', 'Diabetes',\n",
       "       'Diabetes', 'Diabetes', 'Diabetes', 'Diabetes', 'Diabetes',\n",
       "       'Diabetes', 'Diabetes', 'Diabetes', 'Diabetes', 'Diabetes',\n",
       "       'Diabetes', 'Diabetes', 'Diabetes', 'Diabetes', 'Diabetes',\n",
       "       'Diabetes', 'Diabetes', 'Diabetes', 'Diabetes', 'Diabetes',\n",
       "       'Diabetes', 'Diabetes', 'Healthy', 'Diabetes', 'Diabetes',\n",
       "       'Diabetes', 'Diabetes', 'Healthy', 'Diabetes', 'Diabetes',\n",
       "       'Diabetes', 'Diabetes', 'Diabetes', 'Diabetes', 'Diabetes',\n",
       "       'Healthy', 'Diabetes', 'Diabetes', 'Diabetes', 'Diabetes',\n",
       "       'Diabetes', 'Diabetes', 'Healthy', 'Diabetes', 'Diabetes',\n",
       "       'Diabetes', 'Diabetes', 'Diabetes', 'Diabetes', 'Diabetes',\n",
       "       'Diabetes', 'Diabetes', 'Diabetes', 'Diabetes', 'Diabetes',\n",
       "       'Diabetes', 'Healthy', 'Diabetes', 'Healthy', 'Healthy', 'Healthy',\n",
       "       'Healthy', 'Healthy', 'Healthy', 'Healthy', 'Healthy', 'Healthy',\n",
       "       'Healthy', 'Healthy', 'Healthy', 'Healthy', 'Healthy', 'Healthy',\n",
       "       'Healthy', 'Healthy', 'Healthy', 'Healthy', 'Healthy', 'Healthy',\n",
       "       'Healthy', 'Healthy', 'Healthy', 'Healthy', 'Healthy', 'Diabetes',\n",
       "       'Healthy', 'Healthy', 'Healthy', 'Healthy', 'Healthy', 'Healthy',\n",
       "       'Healthy', 'Healthy', 'Healthy', 'Healthy', 'Healthy', 'Healthy',\n",
       "       'Healthy', 'Healthy', 'Healthy', 'Healthy', 'Healthy', 'Healthy',\n",
       "       'Healthy', 'Healthy', 'Healthy', 'Diabetes', 'Healthy', 'Healthy',\n",
       "       'Healthy', 'Healthy', 'Healthy', 'Healthy', 'Healthy', 'Healthy',\n",
       "       'Healthy', 'Healthy', 'Healthy', 'Diabetes', 'Healthy', 'Healthy',\n",
       "       'Healthy', 'Healthy', 'Healthy', 'Healthy', 'Healthy', 'Healthy',\n",
       "       'Healthy', 'Healthy', 'Healthy', 'Healthy', 'Healthy', 'Healthy',\n",
       "       'Healthy', 'Healthy', 'Healthy', 'Healthy', 'Healthy', 'Healthy',\n",
       "       'Healthy', 'Healthy', 'Healthy', 'Healthy', 'Healthy', 'Healthy',\n",
       "       'Healthy', 'Healthy', 'Healthy', 'Healthy', 'Healthy', 'Healthy',\n",
       "       'Diabetes', 'Healthy', 'Healthy', 'Healthy', 'Healthy', 'Healthy',\n",
       "       'Diabetes', 'Healthy', 'Healthy', 'Diabetes', 'Healthy', 'Healthy',\n",
       "       'Healthy', 'Healthy', 'Healthy', 'Healthy', 'Healthy', 'Healthy',\n",
       "       'Healthy', 'Healthy', 'Healthy', 'Healthy', 'Healthy', 'Healthy',\n",
       "       'Healthy', 'Healthy', 'Healthy', 'Healthy', 'Healthy', 'Healthy',\n",
       "       'Healthy', 'Healthy', 'Healthy', 'Healthy', 'Healthy', 'Healthy',\n",
       "       'Healthy', 'Healthy', 'Healthy', 'Healthy', 'Healthy', 'Healthy',\n",
       "       'Healthy', 'Healthy', 'Healthy', 'Healthy', 'Healthy', 'Healthy',\n",
       "       'Healthy', 'Healthy', 'Healthy', 'Healthy', 'Healthy', 'Healthy',\n",
       "       'Healthy', 'Healthy', 'Healthy', 'Healthy', 'Healthy', 'Healthy',\n",
       "       'Healthy', 'Diabetes', 'Healthy', 'Healthy', 'Healthy', 'Healthy',\n",
       "       'Healthy', 'Healthy', 'Healthy', 'Healthy', 'Healthy', 'Healthy',\n",
       "       'Healthy', 'Healthy', 'Healthy', 'Healthy', 'Healthy', 'Healthy',\n",
       "       'Healthy', 'Healthy', 'Healthy', 'Healthy', 'Healthy', 'Healthy',\n",
       "       'Healthy', 'Healthy', 'Healthy', 'Healthy', 'Healthy', 'Healthy',\n",
       "       'Healthy', 'Healthy', 'Healthy', 'Healthy', 'Healthy', 'Healthy',\n",
       "       'Healthy', 'Healthy', 'Healthy', 'Healthy', 'Healthy', 'Healthy',\n",
       "       'Healthy', 'Healthy', 'Healthy', 'Healthy', 'Healthy', 'Healthy',\n",
       "       'Healthy', 'Healthy', 'Healthy', 'Healthy', 'Healthy', 'Healthy',\n",
       "       'Healthy', 'Healthy', 'Healthy', 'Healthy', 'Healthy', 'Healthy',\n",
       "       'Healthy', 'Healthy', 'Healthy', 'Healthy', 'Healthy', 'Healthy',\n",
       "       'Healthy', 'Healthy', 'Healthy', 'Healthy', 'Healthy', 'Healthy',\n",
       "       'Healthy', 'Healthy', 'Healthy', 'Healthy', 'Healthy', 'Healthy',\n",
       "       'Healthy', 'Healthy', 'Healthy', 'Healthy', 'Healthy', 'Healthy',\n",
       "       'Healthy', 'Healthy', 'Healthy', 'Healthy', 'Healthy', 'Healthy',\n",
       "       'Healthy', 'Healthy', 'Diabetes', 'Diabetes', 'Diabetes',\n",
       "       'Diabetes', 'Diabetes', 'Diabetes', 'Diabetes', 'Diabetes',\n",
       "       'Healthy', 'Diabetes', 'Diabetes', 'Diabetes', 'Diabetes',\n",
       "       'Diabetes', 'Healthy', 'Diabetes', 'Diabetes', 'Diabetes',\n",
       "       'Diabetes', 'Diabetes', 'Diabetes', 'Diabetes', 'Diabetes',\n",
       "       'Diabetes', 'Diabetes', 'Healthy', 'Diabetes', 'Healthy',\n",
       "       'Diabetes', 'Diabetes', 'Healthy', 'Diabetes', 'Healthy',\n",
       "       'Healthy', 'Diabetes', 'Diabetes', 'Diabetes', 'Diabetes',\n",
       "       'Healthy', 'Diabetes', 'Healthy', 'Healthy', 'Healthy', 'Diabetes',\n",
       "       'Diabetes', 'Diabetes', 'Healthy', 'Diabetes', 'Diabetes',\n",
       "       'Healthy', 'Diabetes', 'Healthy', 'Diabetes', 'Diabetes',\n",
       "       'Diabetes', 'Healthy', 'Diabetes', 'Diabetes', 'Diabetes',\n",
       "       'Healthy', 'Diabetes', 'Diabetes', 'Diabetes', 'Healthy',\n",
       "       'Diabetes'], dtype='<U8')"
      ]
     },
     "execution_count": 51,
     "metadata": {},
     "output_type": "execute_result"
    }
   ],
   "source": [
    "y_scores\n"
   ]
  },
  {
   "cell_type": "code",
   "execution_count": 54,
   "metadata": {},
   "outputs": [
    {
     "name": "stderr",
     "output_type": "stream",
     "text": [
      "/Users/leahbriscoe/anaconda3/lib/python3.6/site-packages/matplotlib/figure.py:459: UserWarning: matplotlib is currently using a non-GUI backend, so cannot show the figure\n",
      "  \"matplotlib is currently using a non-GUI backend, \"\n",
      "/Users/leahbriscoe/anaconda3/lib/python3.6/site-packages/matplotlib/figure.py:459: UserWarning: matplotlib is currently using a non-GUI backend, so cannot show the figure\n",
      "  \"matplotlib is currently using a non-GUI backend, \"\n"
     ]
    },
    {
     "data": {
      "image/png": "[encoded data removed]",
      "text/plain": [
       "<Figure size 432x288 with 1 Axes>"
      ]
     },
     "metadata": {},
     "output_type": "display_data"
    },
    {
     "data": {
      "image/png": "[encoded data removed]",
      "text/plain": [
       "<Figure size 432x288 with 1 Axes>"
      ]
     },
     "metadata": {},
     "output_type": "display_data"
    }
   ],
   "source": [
    "for name in names:    \n",
    "    text_size = 10\n",
    "    title = 'ROC curves'\n",
    "    x_label = 'False positive rate'\n",
    "    y_label = 'True positive rate'\n",
    "\n",
    "\n",
    "\n",
    "    nplots=1\n",
    "    plot_par_factor=2.26\n",
    "    runs_cv_folds = 10\n",
    "    plot_alpha=0.2\n",
    "    fig, ax = plt.subplots(nplots, sharex=True, sharey=True)\n",
    "    import seaborn as sns\n",
    "    sns.set()\n",
    "    current_palette = sns.color_palette()\n",
    "    #sns.palplot(current_palette)\n",
    "    palette = sns.color_palette(\"hls\", len(methods))\n",
    "    plot_color = palette.as_hex()\n",
    "    plot_marker = ['None','None']\n",
    "    plot_ls = ['-','--']\n",
    "    plot_lw = 2\n",
    "    plot_title = \"test\"\n",
    "\n",
    "    for i in range(0,len(methods)):\n",
    "        #'Naive Bayes''Random Forest'\n",
    "        if auc_fix:\n",
    "            fpr_all = 1- np.array(all_methods_auc_stats[methods[i]][name]['fpr_all'])\n",
    "            tpr_i = 1- np.array(all_methods_auc_stats[methods[i]][name]['tpr_i'])\n",
    "            tpr_all = 1-np.array(all_methods_auc_stats[methods[i]][name]['tpr_all'])\n",
    "        else:\n",
    "            fpr_all = all_methods_auc_stats[methods[i]][name]['fpr_all']\n",
    "            tpr_i = all_methods_auc_stats[methods[i]][name]['tpr_i']\n",
    "            tpr_all = all_methods_auc_stats[methods[i]][name]['tpr_all']\n",
    "\n",
    "        ax.fill_between(fpr_all, tpr_all-np.std(tpr_i, axis=0)*plot_par_factor/np.sqrt(runs_cv_folds), tpr_all+np.std(tpr_i, axis=0)*plot_par_factor/np.sqrt(runs_cv_folds), color=plot_color[i], lw=0, alpha=plot_alpha)\n",
    "        ax.plot(fpr_all, tpr_all, color=plot_color[i], ls='-', lw=plot_lw, marker=plot_marker[0])\n",
    "\n",
    "    # fig.subplots_adjust(hspace=0)\n",
    "    ax.set_xlabel(x_label, size=text_size)\n",
    "    ax.tick_params(labelsize=text_size, axis='x')\n",
    "    ax.set_ylabel(y_label, size=text_size)\n",
    "    ax.tick_params(labelsize=text_size, axis='y')\n",
    "    #ax.text(plot_title,plot_title,plot_title, va='center', ha='center', size=text_size+2)\n",
    "    ax.set_xlim([0.0, 1.0])\n",
    "    ax.set_ylim([0.0, 1.0])\n",
    "    # ax.set_yticklabels(ax.get_yticks()[:-1])\n",
    "    # ax.set_title(title, size=text_size+2)\n",
    "    #leg = ax.legend()\n",
    "    #leg_col = [plt.Rectangle((0, 0), 1, 1, fc=s, linewidth=0) for s in plot_color] + [plt.Line2D([0,1], [0,1], c='k', ls='-', lw=2)] + [plt.Line2D([0,1], [0,1], c='k', ls='--', lw=2)]\n",
    "    #leg = ax.legend(leg_col, prop={'size':text_size}, loc='center left', bbox_to_anchor=(1.02,1), numpoints=1)\n",
    "    #leg.get_frame().set_alpha(0)\n",
    "\n",
    "    class LegendObject(object):\n",
    "        def __init__(self, facecolor='white', edgecolor='white', dashed=False):\n",
    "            self.facecolor = facecolor\n",
    "            self.edgecolor = edgecolor\n",
    "            self.dashed = dashed\n",
    "\n",
    "        def legend_artist(self, legend, orig_handle, fontsize, handlebox):\n",
    "            x0, y0 = handlebox.xdescent, handlebox.ydescent\n",
    "            width, height = handlebox.width, handlebox.height\n",
    "            patch = mpatches.Rectangle(\n",
    "                # create a rectangle that is filled with color\n",
    "                [x0, y0], width, height, facecolor=self.facecolor,\n",
    "                # and whose edges are the faded color\n",
    "                edgecolor=self.edgecolor, lw=3)\n",
    "            handlebox.add_artist(patch)\n",
    "\n",
    "            # if we're creating the legend for a dashed line,\n",
    "            # manually add the dash in to our rectangle\n",
    "            if self.dashed:\n",
    "                patch1 = mpatches.Rectangle(\n",
    "                    [x0 + 2*width/5, y0], width/5, height, facecolor=self.edgecolor,\n",
    "                    transform=handlebox.get_transform())\n",
    "                handlebox.add_artist(patch1)\n",
    "\n",
    "            return patch\n",
    "\n",
    "    from matplotlib.colors import colorConverter as cc\n",
    "    import matplotlib.patches as mpatches\n",
    "    bg = np.array([1, 1, 1])  # background of the legend is white\n",
    "    colors = plot_color\n",
    "    # with alpha = .5, the faded color is the average of the background and color\n",
    "    colors_faded = [(np.array(cc.to_rgb(color)) + bg) / 2.0 for color in colors]\n",
    "\n",
    "    ax.legend(list(range(6)), methods[0:6],\n",
    "               handler_map={\n",
    "                   0: LegendObject(colors[0], colors_faded[0]),\n",
    "                   1: LegendObject(colors[1], colors_faded[1]),\n",
    "                   2: LegendObject(colors[2], colors_faded[2]),\n",
    "                   3: LegendObject(colors[3], colors_faded[3]),\n",
    "                   4: LegendObject(colors[4], colors_faded[4]),\n",
    "                   5: LegendObject(colors[5], colors_faded[5])\n",
    "                })\n",
    "    ax.set_facecolor('white')\n",
    "    #ax.title('AUC confidence interval plot')\n",
    "    fig.tight_layout()\n",
    "    #fig.set_axis_on()\n",
    "    ax.grid(color = \"grey\")\n",
    "    fig.show()\n",
    "\n",
    "\n",
    "    fig.savefig(str(plot_folder) + '/AUC_' + str(name) + str('.pdf'))\n"
   ]
  },
  {
   "cell_type": "code",
   "execution_count": 30,
   "metadata": {},
   "outputs": [],
   "source": []
  },
  {
   "cell_type": "code",
   "execution_count": 17,
   "metadata": {},
   "outputs": [
    {
     "data": {
      "text/plain": [
       "'/Users/leahbriscoe/Documents/MicroBatch/MicrobiomeDenoisingData/WR_AD'"
      ]
     },
     "execution_count": 17,
     "metadata": {},
     "output_type": "execute_result"
    }
   ],
   "source": [
    "plot_folder"
   ]
  },
  {
   "cell_type": "code",
   "execution_count": 32,
   "metadata": {},
   "outputs": [],
   "source": [
    "fpr_all = 1-np.array(all_methods_auc_stats[methods[i]]['Naive Bayes']['fpr_all'])"
   ]
  },
  {
   "cell_type": "code",
   "execution_count": 33,
   "metadata": {},
   "outputs": [
    {
     "data": {
      "text/plain": [
       "array([1.        , 0.30909091, 0.30909091, 0.30909091, 0.30909091,\n",
       "       0.30909091, 0.30863636, 0.30863636, 0.30818182, 0.30818182,\n",
       "       0.30772727, 0.30772727, 0.30727273, 0.30727273, 0.30681818,\n",
       "       0.30681818, 0.30636364, 0.30636364, 0.30590909, 0.30590909,\n",
       "       0.30545455, 0.30545455, 0.305     , 0.305     , 0.30454545,\n",
       "       0.30454545, 0.30409091, 0.30409091, 0.30363636, 0.30363636,\n",
       "       0.30318182, 0.30318182, 0.30272727, 0.30272727, 0.30227273,\n",
       "       0.30227273, 0.30181818, 0.30181818, 0.30136364, 0.30136364,\n",
       "       0.30090909, 0.30090909, 0.30045455, 0.30045455, 0.3       ,\n",
       "       0.3       , 0.29909091, 0.29909091, 0.29863636, 0.29863636,\n",
       "       0.29818182, 0.29818182, 0.29772727, 0.29772727, 0.29727273,\n",
       "       0.29727273, 0.29681818, 0.29681818, 0.29636364, 0.29636364,\n",
       "       0.29590909, 0.29590909, 0.29545455, 0.29545455, 0.295     ,\n",
       "       0.295     , 0.29454545, 0.29454545, 0.29409091, 0.29409091,\n",
       "       0.29363636, 0.29363636, 0.29318182, 0.29318182, 0.29272727,\n",
       "       0.29272727, 0.29227273, 0.29227273, 0.29136364, 0.29136364,\n",
       "       0.29090909, 0.29090909, 0.29045455, 0.29045455, 0.29      ,\n",
       "       0.29      , 0.28954545, 0.28954545, 0.28909091, 0.28909091,\n",
       "       0.28863636, 0.28863636, 0.28818182, 0.28818182, 0.28772727,\n",
       "       0.28772727, 0.28727273, 0.28727273, 0.28590909, 0.28590909,\n",
       "       0.28545455, 0.28545455, 0.285     , 0.285     , 0.28454545,\n",
       "       0.28454545, 0.28409091, 0.28409091, 0.28363636, 0.28363636,\n",
       "       0.28318182, 0.28318182, 0.28272727, 0.28272727, 0.28227273,\n",
       "       0.28227273, 0.28181818, 0.28181818, 0.28136364, 0.28136364,\n",
       "       0.28090909, 0.28090909, 0.27954545, 0.27954545, 0.27909091,\n",
       "       0.27909091, 0.27863636, 0.27863636, 0.27818182, 0.27818182,\n",
       "       0.27727273, 0.27727273, 0.27681818, 0.27681818, 0.27636364,\n",
       "       0.27636364, 0.27590909, 0.27590909, 0.27545455, 0.27545455,\n",
       "       0.275     , 0.275     , 0.27454545, 0.27454545, 0.27409091,\n",
       "       0.27409091, 0.        ])"
      ]
     },
     "execution_count": 33,
     "metadata": {},
     "output_type": "execute_result"
    }
   ],
   "source": [
    "fpr_all"
   ]
  },
  {
   "cell_type": "code",
   "execution_count": null,
   "metadata": {},
   "outputs": [],
   "source": []
  },
  {
   "cell_type": "code",
   "execution_count": null,
   "metadata": {},
   "outputs": [],
   "source": []
  }
 ],
 "metadata": {
  "kernelspec": {
   "display_name": "Python 3",
   "language": "python",
   "name": "python3"
  },
  "language_info": {
   "codemirror_mode": {
    "name": "ipython",
    "version": 3
   },
   "file_extension": ".py",
   "mimetype": "text/x-python",
   "name": "python",
   "nbconvert_exporter": "python",
   "pygments_lexer": "ipython3",
   "version": "3.6.8"
  }
 },
 "nbformat": 4,
 "nbformat_minor": 2
}
