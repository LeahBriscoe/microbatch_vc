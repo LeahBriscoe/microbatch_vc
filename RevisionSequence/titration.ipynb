{
 "cells": [
  {
   "cell_type": "code",
   "execution_count": 20,
   "metadata": {},
   "outputs": [],
   "source": [
    "import sys\n",
    "import pandas as pd\n",
    "import random\n",
    "from collections import Counter\n",
    "random.seed(0)"
   ]
  },
  {
   "cell_type": "code",
   "execution_count": 22,
   "metadata": {},
   "outputs": [],
   "source": [
    "main_dir =\"/u/home/b/briscoel/project-halperin/MicroBatch/data/\"\n",
    "script_folder= \"/u/home/b/briscoel/project-halperin/MicroBatch/RevisionSequence/\"\n",
    "local = True\n",
    "\n",
    "sys.argv = [ \"Thomasr_complete_otu\",\"rel\",\"\"]\n",
    "\n",
    "if local:\n",
    "    main_dir = \"/Users/leahbriscoe/Documents/MicroBatch/microbatch_vc/data/\"\n",
    "    script_folder = \"/Users/leahbriscoe/Documents/MicroBatch/microbatch_vc/RevisionSequence/\"\n",
    "\n",
    "folder = sys.argv[0] # \"AGPr_max_k5\" #\"AGPr_complete_otu\" \n",
    "trans = sys.argv[1] #\"rel\"\n",
    "correction= sys.argv[2] #\"rel\"\n",
    "data_dir = main_dir + folder + \"/\"\n",
    "d1 = 'FengQ_2015'\n",
    "d2 = 'ZellerG_2014'\n"
   ]
  },
  {
   "cell_type": "code",
   "execution_count": 13,
   "metadata": {},
   "outputs": [],
   "source": [
    "metadata_table = pd.read_csv(data_dir + \"metadata.txt\", delimiter = \"\\t\",header=0)\n",
    "\n",
    "if correction == \"\":\n",
    "    feature_table = pd.read_csv(data_dir  + \"feature_table_\" + trans + \".txt\" ,delimiter = \"\\t\",header=0)\n",
    "else:\n",
    "    feature_table = pd.read_csv(data_dir  +\"feature_table_\" + trans + \"_\" + correction + \".txt\" ,delimiter = \"\\t\",header=0)"
   ]
  },
  {
   "cell_type": "code",
   "execution_count": 17,
   "metadata": {},
   "outputs": [],
   "source": [
    "control_metadata1 = metadata_table[(metadata_table['bin_crc_normal'] == 0 ) & (metadata_table['dataset_name'] ==  d1) ]\n",
    "case_metadata1 = metadata_table[(metadata_table['bin_crc_normal'] == 1) & (metadata_table['dataset_name'] ==  d1)]\n",
    "\n",
    "control_metadata2 = metadata_table[(metadata_table['bin_crc_normal'] == 0 ) & (metadata_table['dataset_name'] ==  d2) ]\n",
    "case_metadata2 = metadata_table[(metadata_table['bin_crc_normal'] == 1) & (metadata_table['dataset_name'] ==  d2)]\n",
    "\n",
    "control_samples_d1 = control_metadata1.index\n",
    "case_samples_d1 = case_metadata1.index\n",
    "\n",
    "control_samples_d2 = control_metadata1.index\n",
    "case_samples_d1 = case_metadata1.index"
   ]
  },
  {
   "cell_type": "code",
   "execution_count": 21,
   "metadata": {},
   "outputs": [
    {
     "data": {
      "text/plain": [
       "Counter({'FengQ_2015': 154,\n",
       "         'HanniganGD_2017': 82,\n",
       "         'ThomasAM_2018a': 80,\n",
       "         'ThomasAM_2018b': 60,\n",
       "         'VogtmannE_2016': 110,\n",
       "         'YuJ_2015': 128,\n",
       "         'ZellerG_2014': 199})"
      ]
     },
     "execution_count": 21,
     "metadata": {},
     "output_type": "execute_result"
    }
   ],
   "source": [
    "Counter(metadata_table['dataset_name'])"
   ]
  }
 ],
 "metadata": {
  "kernelspec": {
   "display_name": "Python 3",
   "language": "python",
   "name": "python3"
  },
  "language_info": {
   "codemirror_mode": {
    "name": "ipython",
    "version": 3
   },
   "file_extension": ".py",
   "mimetype": "text/x-python",
   "name": "python",
   "nbconvert_exporter": "python",
   "pygments_lexer": "ipython3",
   "version": "3.6.8"
  }
 },
 "nbformat": 4,
 "nbformat_minor": 2
}
