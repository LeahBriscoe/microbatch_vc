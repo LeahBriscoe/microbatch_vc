{
 "cells": [
  {
   "cell_type": "code",
   "execution_count": 11,
   "metadata": {},
   "outputs": [],
   "source": [
    "args =  [\"classifier.py\",\"/Users/leahbriscoe/Documents/MicroBatch/microbatch_vc\", \"CRC_k6&CRC_k7\", \"kmer\",\\\n",
    "         \"BatchCorrected\",  \"bin_crc_normal\",1,0,1,1] \n"
   ]
  },
  {
   "cell_type": "code",
   "execution_count": 62,
   "metadata": {},
   "outputs": [],
   "source": [
    "import sys\n",
    "import pandas as pd\n",
    "import utils\n",
    "import numpy as np\n",
    "from sklearn.preprocessing import StandardScaler, normalize\n",
    "from sklearn.ensemble import RandomForestClassifier\n",
    "from sklearn import model_selection \n",
    "from sklearn.decomposition import PCA\n",
    "from sklearn.model_selection import GridSearchCV, cross_val_score\n",
    "import statsmodels.formula.api as sm\n",
    "from sklearn.metrics import roc_auc_score\n",
    "from collections import Counter\n",
    "\n"
   ]
  },
  {
   "cell_type": "code",
   "execution_count": 58,
   "metadata": {},
   "outputs": [
    {
     "name": "stdout",
     "output_type": "stream",
     "text": [
      "1\n"
     ]
    }
   ],
   "source": [
    "greater_folder = args[1] # what folder do you save your different datasets in\n",
    "study_names = args[2].split(\"&\")  # what is the name of the dataset (tells the program which folder to check)\n",
    "data_type = args[3] # type of data. kmer vs OTU\n",
    "\n",
    "prefix_name = args[4] # what is the prefix of the file name\n",
    "column_of_interest = args[5] # what is the phenotype you are predicting (use the same name in the column of the metadata you want to predict), this programs reads from metadata.txt\n",
    "\n",
    "norm_input = bool(int(args[6]))\n",
    "map_with_accession = bool(int(args[7]))\n",
    "\n",
    "if len(args) > 5:\n",
    "    label_pos_or_neg = int(args[8]) # do you want to treat CRC as positive class or negative class? \n",
    "    target_label = args[9] # phenotype representing positive class or negative class? eg. CRC eg. H\n",
    "    print(target_label)\n",
    "else:\n",
    "    label_pos_or_neg = 1\n",
    "    target_label = 1\n",
    "use_domain_pheno = False # for when running raw to compare to domain pheno\n",
    "data_folders = [greater_folder + \"/data/\" + study_name + \"/\" for study_name in study_names]   \n",
    "\n",
    "num_pcs = 20\n",
    "\n",
    "rf_params = ['criterion','max_features','min_samples_leaf', 'n_estimators']"
   ]
  },
  {
   "cell_type": "code",
   "execution_count": 14,
   "metadata": {},
   "outputs": [],
   "source": [
    "#########################################################################\n",
    "###### COMMENTARY: load data from your k-mer matrix, load metadata ######\n",
    "#########################################################################\n",
    "\n",
    "feature_table_dict = utils.load_feature_table(data_folders,data_type = data_type)\n",
    "metadata = pd.read_csv(data_folders[0] + \"metadata.txt\",delimiter=\"\\t\")\n",
    "\n",
    "if norm_input:\n",
    "    for d in range(len(study_names)):\n",
    "        #feature_table_dict[d] = normalize(np.array(feature_table_dict[d].transpose()), axis = 1, norm = 'l1')\n",
    "        temp = pd.DataFrame(normalize(feature_table_dict[d].transpose(), axis = 1, norm = 'l1').transpose())\n",
    "        temp.index = feature_table_dict[d].index\n",
    "        temp.columns = feature_table_dict[d].columns\n",
    "        feature_table_dict[d] = temp\n",
    "\n"
   ]
  },
  {
   "cell_type": "code",
   "execution_count": null,
   "metadata": {},
   "outputs": [],
   "source": []
  },
  {
   "cell_type": "code",
   "execution_count": 15,
   "metadata": {},
   "outputs": [],
   "source": [
    "if \"AGP\" in study_names[0]:\n",
    "    for d in range(len(study_names)):\n",
    "        tissue_samples = metadata.index[metadata['body_habitat.x'] == \"UBERON:feces\"]\n",
    "\n",
    "        feature_table_dict[d] = feature_table_dict[d][tissue_samples]\n",
    "        metadata = metadata.loc[tissue_samples]\n",
    "\n"
   ]
  },
  {
   "cell_type": "code",
   "execution_count": 16,
   "metadata": {},
   "outputs": [],
   "source": [
    "labels = metadata[column_of_interest]\n"
   ]
  },
  {
   "cell_type": "code",
   "execution_count": 32,
   "metadata": {},
   "outputs": [],
   "source": [
    "def pca_regression(y,X):\n",
    "    model = sm.OLS(y,X)\n",
    "    results = model.fit()\n",
    "    predictedValues = results.predict()\n",
    "    residuals = y - predictedValues\n",
    "    return(residuals)\n",
    "\n",
    "def RF_grid_search(data,labels,param_dict):\n",
    "    rf = RandomForestClassifier()\n",
    "    clf = GridSearchCV(rf, param_dict,scoring=\"roc_auc\")\n",
    "    clf.fit(data, labels)\n",
    "\n",
    "    print(\"Best parameters set found on development set:\")\n",
    "    best_params = clf.best_params_)\n",
    "    return clf,best_params\n",
    "\n",
    "def RF_cv(data,labels,param_dict):\n",
    "    clf = RandomForestClassifier(max_depth=5, random_state=0,n_estimators = param_dict['n_estimators'],\\\n",
    "            criterion = param_dict['criterion'],min_samples_leaf = param_dict['min_samples_leaf'],\\\n",
    "                           max_features = param_dict['max_features'])\n",
    "    results = cross_val_score(clf,X=data,y=labels,scoring=\"roc_auc\")\n",
    "    return clf\n",
    "   "
   ]
  },
  {
   "cell_type": "code",
   "execution_count": 18,
   "metadata": {},
   "outputs": [],
   "source": [
    "# outline\n",
    "# for data_table:\n",
    "    # test train split\n",
    "    # for train\n",
    "    # for PC number:\n",
    "        # regress out PCs\n",
    "        # for grid cell:\n",
    "            # get accuracy:\n",
    "        # get max accuracy\n",
    "    # get max accuracy across PCs\n",
    "    # for test\n",
    "    # get the test accuracy with best parameters\n",
    "    # save best grid and best PCs"
   ]
  },
  {
   "cell_type": "code",
   "execution_count": 19,
   "metadata": {},
   "outputs": [],
   "source": [
    "# get PC scores\n",
    "pc_table_dict = dict()\n",
    "feature_table_np = dict()\n",
    "labels_np = dict()\n",
    "pca = PCA(n_components=num_pcs,svd_solver='randomized')\n",
    "for d in range(len(study_names)):\n",
    "    temp = feature_table_dict[d].transpose()\n",
    "    pca.fit(temp)\n",
    "    pc_table_dict[d] = pca.transform(temp)\n",
    "    \n",
    "    feature_table_np[d] = np.array(feature_table_dict[0])\n",
    "    labels_np[d] = np.array(labels)\n",
    "    \n",
    "  \n"
   ]
  },
  {
   "cell_type": "code",
   "execution_count": 20,
   "metadata": {},
   "outputs": [],
   "source": [
    "n_splits = 2\n",
    "n_repeats = 1\n",
    "rskf = model_selection.RepeatedStratifiedKFold(n_splits=n_splits, n_repeats=n_repeats, random_state=123)\n",
    "parameter_dict = {'n_estimators':[100, 1000],'criterion': ['entropy','gini'],'min_samples_leaf': [5],\\\n",
    "                 'max_features':[0.3]}    "
   ]
  },
  {
   "cell_type": "code",
   "execution_count": null,
   "metadata": {},
   "outputs": [],
   "source": []
  },
  {
   "cell_type": "code",
   "execution_count": 77,
   "metadata": {},
   "outputs": [
    {
     "name": "stdout",
     "output_type": "stream",
     "text": [
      "[  0   1   2   3   4   6   7  12  14  19  22  23  25  29  30  31  32  33\n",
      "  36  39  42  44  45  46  47  48  52  55  57  62  64  65  70  71  72  73\n",
      "  76  78  79  80  81  82  84  88  89  90  91  92  93  97  98  99 100 101\n",
      " 102 103 106 107 108 109 112 118 119 121 123 124 125 126 128 135 136 138\n",
      " 143 144 146 149 151 153 157 160 161 162 170 171 174 177 178 180 182 184\n",
      " 185 188 189 191 193 194 195 196 198 200 203 204 205 207 208 209 210 212\n",
      " 214 215 216 217 218 220 221 222 228 229 231 232 233 237 240 241 242 243\n",
      " 246 247 251 253 256 257 258 261 262 263 264 270 271 275 278 279 281 282\n",
      " 283 284 285 288 295 297 301 303 307 309 311 313 314 316 318 319 320 322\n",
      " 323 324 325 327 328 330 331 332 335 336 337 339 342 343 345 346 349 350\n",
      " 354 359 360 361 364 365 370 371 373 376 381 382 385 386 388 391 394 396\n",
      " 398 402 403 408 412 413 418 419 421 422 423 425 426 431 433 434 436 438\n",
      " 439 444 445 446 448 449 450 453 454 455 457 459 461 462 463 464]\n",
      "[  5   8   9  10  11  13  15  16  17  18  20  21  24  26  27  28  34  35\n",
      "  37  38  40  41  43  49  50  51  53  54  56  58  59  60  61  63  66  67\n",
      "  68  69  74  75  77  83  85  86  87  94  95  96 104 105 110 111 113 114\n",
      " 115 116 117 120 122 127 129 130 131 132 133 134 137 139 140 141 142 145\n",
      " 147 148 150 152 154 155 156 158 159 163 164 165 166 167 168 169 172 173\n",
      " 175 176 179 181 183 186 187 190 192 197 199 201 202 206 211 213 219 223\n",
      " 224 225 226 227 230 234 235 236 238 239 244 245 248 249 250 252 254 255\n",
      " 259 260 265 266 267 268 269 272 273 274 276 277 280 286 287 289 290 291\n",
      " 292 293 294 296 298 299 300 302 304 305 306 308 310 312 315 317 321 326\n",
      " 329 333 334 338 340 341 344 347 348 351 352 353 355 356 357 358 362 363\n",
      " 366 367 368 369 372 374 375 377 378 379 380 383 384 387 389 390 392 393\n",
      " 395 397 399 400 401 404 405 406 407 409 410 411 414 415 416 417 420 424\n",
      " 427 428 429 430 432 435 437 440 441 442 443 447 451 452 456 458 460]\n"
     ]
    },
    {
     "ename": "NameError",
     "evalue": "name 'RF_grid_search' is not defined",
     "output_type": "error",
     "traceback": [
      "\u001b[0;31m---------------------------------------------------------------------------\u001b[0m",
      "\u001b[0;31mNameError\u001b[0m                                 Traceback (most recent call last)",
      "\u001b[0;32m<ipython-input-77-8f763b62eefb>\u001b[0m in \u001b[0;36m<module>\u001b[0;34m\u001b[0m\n\u001b[1;32m     30\u001b[0m \u001b[0;34m\u001b[0m\u001b[0m\n\u001b[1;32m     31\u001b[0m             \u001b[0;31m# perform grid search on train\u001b[0m\u001b[0;34m\u001b[0m\u001b[0;34m\u001b[0m\u001b[0;34m\u001b[0m\u001b[0m\n\u001b[0;32m---> 32\u001b[0;31m             \u001b[0mbest_train_model\u001b[0m\u001b[0;34m,\u001b[0m \u001b[0mbest_params\u001b[0m \u001b[0;34m=\u001b[0m \u001b[0mRF_grid_search\u001b[0m\u001b[0;34m(\u001b[0m\u001b[0mX_train_corrected\u001b[0m\u001b[0;34m,\u001b[0m \u001b[0my_train\u001b[0m\u001b[0;34m,\u001b[0m\u001b[0mparameter_dict\u001b[0m\u001b[0;34m)\u001b[0m\u001b[0;34m\u001b[0m\u001b[0;34m\u001b[0m\u001b[0m\n\u001b[0m\u001b[1;32m     33\u001b[0m             \u001b[0my_train_pred_prob\u001b[0m \u001b[0;34m=\u001b[0m \u001b[0mbest_train_model\u001b[0m\u001b[0;34m.\u001b[0m\u001b[0mpredict_proba\u001b[0m\u001b[0;34m(\u001b[0m\u001b[0mX_train_corrected\u001b[0m\u001b[0;34m)\u001b[0m\u001b[0;34m\u001b[0m\u001b[0;34m\u001b[0m\u001b[0m\n\u001b[1;32m     34\u001b[0m             \u001b[0mresults_dict\u001b[0m\u001b[0;34m[\u001b[0m\u001b[0;34m'train_auc'\u001b[0m\u001b[0;34m]\u001b[0m \u001b[0;34m=\u001b[0m \u001b[0mroc_auc_score\u001b[0m\u001b[0;34m(\u001b[0m\u001b[0my_true\u001b[0m \u001b[0;34m=\u001b[0m \u001b[0my_train\u001b[0m\u001b[0;34m,\u001b[0m \u001b[0my_score\u001b[0m \u001b[0;34m=\u001b[0m \u001b[0my_train_pred_prob\u001b[0m\u001b[0;34m[\u001b[0m\u001b[0;34m:\u001b[0m\u001b[0;34m,\u001b[0m\u001b[0;36m1\u001b[0m\u001b[0;34m]\u001b[0m\u001b[0;34m)\u001b[0m\u001b[0;34m\u001b[0m\u001b[0;34m\u001b[0m\u001b[0m\n",
      "\u001b[0;31mNameError\u001b[0m: name 'RF_grid_search' is not defined"
     ]
    }
   ],
   "source": [
    "# Regress out PCs\n",
    "\n",
    "# For each dataset (kmer size)\n",
    "for d in range(1):#len(study_names)):\n",
    "    \n",
    "    results_dict = dict()\n",
    "    X = feature_table_np[d].transpose()\n",
    "    y = labels_np[d]\n",
    "    pc_scores = pc_table_dict[d] # get pc scores\n",
    "    na_mask = pd.isna(y)\n",
    "    \n",
    "    X = X[~na_mask,:]\n",
    "    y = y[~na_mask]\n",
    "    pc_scores = pc_scores[~na_mask,:]\n",
    "    # for each test train split in 5 fold cross validation\n",
    "    for train_index, test_index in rskf.split(X, y):\n",
    "        print(train_index)\n",
    "        print(test_index)\n",
    "        \n",
    "        X_train, X_test = X[train_index,], X[test_index,]\n",
    "        y_train, y_test = y[train_index], y[test_index]\n",
    "        pc_scores_train, pc_scores_test =  pc_scores[train_index], pc_scores[test_index]\n",
    "        \n",
    "        # for each PC we regress out \n",
    "        for p in range(0,num_pcs):\n",
    "            if p == 0:\n",
    "                X_train_corrected = X_train\n",
    "            else:\n",
    "                X_train_corrected = pca_regression(X_train,pc_scores_train[:,0:p])\n",
    "            \n",
    "            # perform grid search on train\n",
    "            best_train_model, best_params = RF_grid_search(X_train_corrected, y_train,parameter_dict)\n",
    "            y_train_pred_prob = best_train_model.predict_proba(X_train_corrected)\n",
    "            results_dict['train_auc'] = roc_auc_score(y_true = y_train, y_score = y_train_pred_prob[:,1])\n",
    "            \n",
    "            # perform cv result on test with best param\n",
    "            #best_train_model, best_params = RF_grid_search(X_train_corrected, y_train,parameter_dict)\n",
    "            #y_train_pred_prob = best_train_model.predict_proba(X_train_corrected)\n",
    "            \n",
    "            #results_dict['test_auc'] = roc_auc_score(y_true = y_test, y_score = y_test_pred_prob[:,1])\n",
    "\n",
    "\n",
    "        \n",
    "        \n",
    "        \n",
    "    "
   ]
  },
  {
   "cell_type": "code",
   "execution_count": 66,
   "metadata": {},
   "outputs": [
    {
     "data": {
      "text/plain": [
       "Counter({1.0: 99, 0.0: 134})"
      ]
     },
     "execution_count": 66,
     "metadata": {},
     "output_type": "execute_result"
    }
   ],
   "source": [
    "clf = RandomForestClassifier(max_depth=5, random_state=0,n_estimators = param_dict['n_estimators'],\\\n",
    "            criterion = param_dict['criterion'],min_samples_leaf = param_dict['min_samples_leaf'],\\\n",
    "                           max_features = param_dict['max_features'])\n",
    "    results = cross_val_score(clf,X=data,y=labels,scoring=\"roc_auc\")\n",
    "\n"
   ]
  },
  {
   "cell_type": "code",
   "execution_count": 73,
   "metadata": {},
   "outputs": [],
   "source": []
  },
  {
   "cell_type": "code",
   "execution_count": null,
   "metadata": {},
   "outputs": [],
   "source": []
  },
  {
   "cell_type": "code",
   "execution_count": 74,
   "metadata": {},
   "outputs": [
    {
     "data": {
      "text/plain": [
       "array([1., 1., 1., 1., 1.])"
      ]
     },
     "execution_count": 74,
     "metadata": {},
     "output_type": "execute_result"
    }
   ],
   "source": [
    "y_train_pred[0:5]"
   ]
  },
  {
   "cell_type": "code",
   "execution_count": 65,
   "metadata": {},
   "outputs": [
    {
     "data": {
      "text/plain": [
       "Counter({1.0: 98, 0.0: 135})"
      ]
     },
     "execution_count": 65,
     "metadata": {},
     "output_type": "execute_result"
    }
   ],
   "source": [
    "Counter(y_train_pred)"
   ]
  },
  {
   "cell_type": "code",
   "execution_count": 75,
   "metadata": {},
   "outputs": [
    {
     "ename": "ValueError",
     "evalue": "bad input shape (233, 2)",
     "output_type": "error",
     "traceback": [
      "\u001b[0;31m---------------------------------------------------------------------------\u001b[0m",
      "\u001b[0;31mValueError\u001b[0m                                Traceback (most recent call last)",
      "\u001b[0;32m<ipython-input-75-068050c20d68>\u001b[0m in \u001b[0;36m<module>\u001b[0;34m\u001b[0m\n\u001b[0;32m----> 1\u001b[0;31m \u001b[0mroc_auc_score\u001b[0m\u001b[0;34m(\u001b[0m\u001b[0my_true\u001b[0m \u001b[0;34m=\u001b[0m \u001b[0my_train\u001b[0m\u001b[0;34m,\u001b[0m \u001b[0my_score\u001b[0m \u001b[0;34m=\u001b[0m \u001b[0my_train_pred_prob\u001b[0m\u001b[0;34m)\u001b[0m\u001b[0;34m\u001b[0m\u001b[0;34m\u001b[0m\u001b[0m\n\u001b[0m",
      "\u001b[0;32m~/anaconda3/lib/python3.6/site-packages/sklearn/metrics/ranking.py\u001b[0m in \u001b[0;36mroc_auc_score\u001b[0;34m(y_true, y_score, average, sample_weight)\u001b[0m\n\u001b[1;32m    275\u001b[0m     return _average_binary_score(\n\u001b[1;32m    276\u001b[0m         \u001b[0m_binary_roc_auc_score\u001b[0m\u001b[0;34m,\u001b[0m \u001b[0my_true\u001b[0m\u001b[0;34m,\u001b[0m \u001b[0my_score\u001b[0m\u001b[0;34m,\u001b[0m \u001b[0maverage\u001b[0m\u001b[0;34m,\u001b[0m\u001b[0;34m\u001b[0m\u001b[0;34m\u001b[0m\u001b[0m\n\u001b[0;32m--> 277\u001b[0;31m         sample_weight=sample_weight)\n\u001b[0m\u001b[1;32m    278\u001b[0m \u001b[0;34m\u001b[0m\u001b[0m\n\u001b[1;32m    279\u001b[0m \u001b[0;34m\u001b[0m\u001b[0m\n",
      "\u001b[0;32m~/anaconda3/lib/python3.6/site-packages/sklearn/metrics/base.py\u001b[0m in \u001b[0;36m_average_binary_score\u001b[0;34m(binary_metric, y_true, y_score, average, sample_weight)\u001b[0m\n\u001b[1;32m     73\u001b[0m \u001b[0;34m\u001b[0m\u001b[0m\n\u001b[1;32m     74\u001b[0m     \u001b[0;32mif\u001b[0m \u001b[0my_type\u001b[0m \u001b[0;34m==\u001b[0m \u001b[0;34m\"binary\"\u001b[0m\u001b[0;34m:\u001b[0m\u001b[0;34m\u001b[0m\u001b[0;34m\u001b[0m\u001b[0m\n\u001b[0;32m---> 75\u001b[0;31m         \u001b[0;32mreturn\u001b[0m \u001b[0mbinary_metric\u001b[0m\u001b[0;34m(\u001b[0m\u001b[0my_true\u001b[0m\u001b[0;34m,\u001b[0m \u001b[0my_score\u001b[0m\u001b[0;34m,\u001b[0m \u001b[0msample_weight\u001b[0m\u001b[0;34m=\u001b[0m\u001b[0msample_weight\u001b[0m\u001b[0;34m)\u001b[0m\u001b[0;34m\u001b[0m\u001b[0;34m\u001b[0m\u001b[0m\n\u001b[0m\u001b[1;32m     76\u001b[0m \u001b[0;34m\u001b[0m\u001b[0m\n\u001b[1;32m     77\u001b[0m     \u001b[0mcheck_consistent_length\u001b[0m\u001b[0;34m(\u001b[0m\u001b[0my_true\u001b[0m\u001b[0;34m,\u001b[0m \u001b[0my_score\u001b[0m\u001b[0;34m,\u001b[0m \u001b[0msample_weight\u001b[0m\u001b[0;34m)\u001b[0m\u001b[0;34m\u001b[0m\u001b[0;34m\u001b[0m\u001b[0m\n",
      "\u001b[0;32m~/anaconda3/lib/python3.6/site-packages/sklearn/metrics/ranking.py\u001b[0m in \u001b[0;36m_binary_roc_auc_score\u001b[0;34m(y_true, y_score, sample_weight)\u001b[0m\n\u001b[1;32m    270\u001b[0m \u001b[0;34m\u001b[0m\u001b[0m\n\u001b[1;32m    271\u001b[0m         fpr, tpr, tresholds = roc_curve(y_true, y_score,\n\u001b[0;32m--> 272\u001b[0;31m                                         sample_weight=sample_weight)\n\u001b[0m\u001b[1;32m    273\u001b[0m         \u001b[0;32mreturn\u001b[0m \u001b[0mauc\u001b[0m\u001b[0;34m(\u001b[0m\u001b[0mfpr\u001b[0m\u001b[0;34m,\u001b[0m \u001b[0mtpr\u001b[0m\u001b[0;34m,\u001b[0m \u001b[0mreorder\u001b[0m\u001b[0;34m=\u001b[0m\u001b[0;32mTrue\u001b[0m\u001b[0;34m)\u001b[0m\u001b[0;34m\u001b[0m\u001b[0;34m\u001b[0m\u001b[0m\n\u001b[1;32m    274\u001b[0m \u001b[0;34m\u001b[0m\u001b[0m\n",
      "\u001b[0;32m~/anaconda3/lib/python3.6/site-packages/sklearn/metrics/ranking.py\u001b[0m in \u001b[0;36mroc_curve\u001b[0;34m(y_true, y_score, pos_label, sample_weight, drop_intermediate)\u001b[0m\n\u001b[1;32m    532\u001b[0m     \"\"\"\n\u001b[1;32m    533\u001b[0m     fps, tps, thresholds = _binary_clf_curve(\n\u001b[0;32m--> 534\u001b[0;31m         y_true, y_score, pos_label=pos_label, sample_weight=sample_weight)\n\u001b[0m\u001b[1;32m    535\u001b[0m \u001b[0;34m\u001b[0m\u001b[0m\n\u001b[1;32m    536\u001b[0m     \u001b[0;31m# Attempt to drop thresholds corresponding to points in between and\u001b[0m\u001b[0;34m\u001b[0m\u001b[0;34m\u001b[0m\u001b[0;34m\u001b[0m\u001b[0m\n",
      "\u001b[0;32m~/anaconda3/lib/python3.6/site-packages/sklearn/metrics/ranking.py\u001b[0m in \u001b[0;36m_binary_clf_curve\u001b[0;34m(y_true, y_score, pos_label, sample_weight)\u001b[0m\n\u001b[1;32m    320\u001b[0m     \u001b[0mcheck_consistent_length\u001b[0m\u001b[0;34m(\u001b[0m\u001b[0my_true\u001b[0m\u001b[0;34m,\u001b[0m \u001b[0my_score\u001b[0m\u001b[0;34m,\u001b[0m \u001b[0msample_weight\u001b[0m\u001b[0;34m)\u001b[0m\u001b[0;34m\u001b[0m\u001b[0;34m\u001b[0m\u001b[0m\n\u001b[1;32m    321\u001b[0m     \u001b[0my_true\u001b[0m \u001b[0;34m=\u001b[0m \u001b[0mcolumn_or_1d\u001b[0m\u001b[0;34m(\u001b[0m\u001b[0my_true\u001b[0m\u001b[0;34m)\u001b[0m\u001b[0;34m\u001b[0m\u001b[0;34m\u001b[0m\u001b[0m\n\u001b[0;32m--> 322\u001b[0;31m     \u001b[0my_score\u001b[0m \u001b[0;34m=\u001b[0m \u001b[0mcolumn_or_1d\u001b[0m\u001b[0;34m(\u001b[0m\u001b[0my_score\u001b[0m\u001b[0;34m)\u001b[0m\u001b[0;34m\u001b[0m\u001b[0;34m\u001b[0m\u001b[0m\n\u001b[0m\u001b[1;32m    323\u001b[0m     \u001b[0massert_all_finite\u001b[0m\u001b[0;34m(\u001b[0m\u001b[0my_true\u001b[0m\u001b[0;34m)\u001b[0m\u001b[0;34m\u001b[0m\u001b[0;34m\u001b[0m\u001b[0m\n\u001b[1;32m    324\u001b[0m     \u001b[0massert_all_finite\u001b[0m\u001b[0;34m(\u001b[0m\u001b[0my_score\u001b[0m\u001b[0;34m)\u001b[0m\u001b[0;34m\u001b[0m\u001b[0;34m\u001b[0m\u001b[0m\n",
      "\u001b[0;32m~/anaconda3/lib/python3.6/site-packages/sklearn/utils/validation.py\u001b[0m in \u001b[0;36mcolumn_or_1d\u001b[0;34m(y, warn)\u001b[0m\n\u001b[1;32m    612\u001b[0m         \u001b[0;32mreturn\u001b[0m \u001b[0mnp\u001b[0m\u001b[0;34m.\u001b[0m\u001b[0mravel\u001b[0m\u001b[0;34m(\u001b[0m\u001b[0my\u001b[0m\u001b[0;34m)\u001b[0m\u001b[0;34m\u001b[0m\u001b[0;34m\u001b[0m\u001b[0m\n\u001b[1;32m    613\u001b[0m \u001b[0;34m\u001b[0m\u001b[0m\n\u001b[0;32m--> 614\u001b[0;31m     \u001b[0;32mraise\u001b[0m \u001b[0mValueError\u001b[0m\u001b[0;34m(\u001b[0m\u001b[0;34m\"bad input shape {0}\"\u001b[0m\u001b[0;34m.\u001b[0m\u001b[0mformat\u001b[0m\u001b[0;34m(\u001b[0m\u001b[0mshape\u001b[0m\u001b[0;34m)\u001b[0m\u001b[0;34m)\u001b[0m\u001b[0;34m\u001b[0m\u001b[0;34m\u001b[0m\u001b[0m\n\u001b[0m\u001b[1;32m    615\u001b[0m \u001b[0;34m\u001b[0m\u001b[0m\n\u001b[1;32m    616\u001b[0m \u001b[0;34m\u001b[0m\u001b[0m\n",
      "\u001b[0;31mValueError\u001b[0m: bad input shape (233, 2)"
     ]
    }
   ],
   "source": []
  }
 ],
 "metadata": {
  "kernelspec": {
   "display_name": "Python 3",
   "language": "python",
   "name": "python3"
  },
  "language_info": {
   "codemirror_mode": {
    "name": "ipython",
    "version": 3
   },
   "file_extension": ".py",
   "mimetype": "text/x-python",
   "name": "python",
   "nbconvert_exporter": "python",
   "pygments_lexer": "ipython3",
   "version": "3.6.8"
  }
 },
 "nbformat": 4,
 "nbformat_minor": 2
}
