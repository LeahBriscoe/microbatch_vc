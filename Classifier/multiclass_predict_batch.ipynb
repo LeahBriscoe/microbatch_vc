{
 "cells": [
  {
   "cell_type": "code",
   "execution_count": 1,
   "metadata": {},
   "outputs": [],
   "source": [
    "import utils\n",
    "\n",
    "import numpy as np\n",
    "import pandas as pd\n",
    "from sklearn.multiclass import OneVsRestClassifier\n",
    "from sklearn.svm import SVC\n",
    "from collections import Counter\n",
    "from sklearn import model_selection \n",
    "from sklearn.linear_model import LogisticRegression\n",
    "from sklearn import metrics\n",
    "# plotting libraries\n",
    "\n",
    "import matplotlib.pyplot as plt\n",
    "import seaborn as sns"
   ]
  },
  {
   "cell_type": "code",
   "execution_count": 2,
   "metadata": {},
   "outputs": [],
   "source": [
    "study_name = \"AGP_9000_pca\"#\"AGP_2018_biomotu_k5_feces_healthy\"#\"AGP_2018_biomotu_k7_feces_healthy\" #\n",
    "\n",
    "data_folder = \"/Users/leahbriscoe/Documents/MicroBatch/MicrobiomeDenoisingData/\" + str(study_name)#\"WR_AD\")#\n",
    "\n",
    "plot_folder = \"/Users/leahbriscoe/Documents/MicroBatch/MicrobiomeDenoising_Plots/\" + str(study_name)# str(\"WR_AD\")\n",
    "#os.mkdir(plot_folder)\n"
   ]
  },
  {
   "cell_type": "code",
   "execution_count": 3,
   "metadata": {},
   "outputs": [],
   "source": [
    "def load_pcscores(data_folder,method,data_type):\n",
    "\n",
    "    pcscores = pd.read_csv(str(data_folder +\"/\" + \"pcascore_\" + data_type + \"_\" + method +\".csv\"),index_col=0)\n",
    "    return pcscores"
   ]
  },
  {
   "cell_type": "code",
   "execution_count": 4,
   "metadata": {},
   "outputs": [],
   "source": [
    "data_type = \"otu\"\n",
    "data_type_input = \"otu\"\n",
    "method_input = \"clr\"\n",
    "#pcscores_kmer = load_pcscores(data_folder,method = method_input,data_type=data_type_input)\n",
    "#pcscores_otu = utils.load_pcscores(data_folder,method=\"clr\",data_type=\"otu\")\n",
    "pcscores_otu = load_pcscores(data_folder,method=method_input,data_type=data_type_input)\n",
    "metadata = pd.read_csv(data_folder + \"/metadata.txt\",delimiter=\"\\t\")"
   ]
  },
  {
   "cell_type": "code",
   "execution_count": 5,
   "metadata": {},
   "outputs": [],
   "source": [
    "column_of_interest = 'center_project_name'\n",
    "pc_selection =\"allbefore\"#\"oneatatime\"# \"chunks\"##\n",
    " #\"kmer\""
   ]
  },
  {
   "cell_type": "code",
   "execution_count": 6,
   "metadata": {},
   "outputs": [],
   "source": [
    "if data_type == \"otu\":\n",
    "    X_orig = np.array(pcscores_otu)\n",
    "    y_orig = np.array(metadata.loc[pcscores_otu.index][column_of_interest])\n",
    "else:\n",
    "    \n",
    "    X_orig = np.array(pcscores_kmer)\n",
    "    y_orig = np.array(metadata.loc[pcscores_kmer.index][column_of_interest])\n"
   ]
  },
  {
   "cell_type": "code",
   "execution_count": 7,
   "metadata": {},
   "outputs": [],
   "source": [
    "total_pcs = 22"
   ]
  },
  {
   "cell_type": "code",
   "execution_count": 8,
   "metadata": {},
   "outputs": [],
   "source": [
    "paradigm = \"binary\""
   ]
  },
  {
   "cell_type": "code",
   "execution_count": 9,
   "metadata": {},
   "outputs": [
    {
     "name": "stdout",
     "output_type": "stream",
     "text": [
      "0\n"
     ]
    },
    {
     "name": "stderr",
     "output_type": "stream",
     "text": [
      "/Users/leahbriscoe/anaconda3/lib/python3.6/site-packages/sklearn/model_selection/_split.py:605: Warning: The least populated class in y has only 1 members, which is too few. The minimum number of members in any class cannot be less than n_splits=5.\n",
      "  % (min_groups, self.n_splits)), Warning)\n",
      "/Users/leahbriscoe/anaconda3/lib/python3.6/site-packages/ipykernel_launcher.py:69: RuntimeWarning: invalid value encountered in long_scalars\n"
     ]
    },
    {
     "name": "stdout",
     "output_type": "stream",
     "text": [
      "1\n",
      "2\n",
      "3\n",
      "4\n",
      "5\n",
      "6\n",
      "7\n",
      "8\n",
      "9\n",
      "10\n",
      "11\n",
      "12\n",
      "13\n",
      "14\n",
      "15\n",
      "16\n",
      "17\n",
      "18\n",
      "19\n",
      "20\n",
      "21\n"
     ]
    }
   ],
   "source": [
    "tpr_batches_mean = pd.DataFrame(index = list(range(1,23)), columns= list(range(1,(total_pcs+1))))\n",
    "tpr_batches_std = pd.DataFrame(index = list(range(1,23)), columns= list(range(1,(total_pcs+1))))\n",
    "fpr_batches_mean = pd.DataFrame(index = list(range(1,23)), columns= list(range(1,(total_pcs+1))))\n",
    "fpr_batches_std = pd.DataFrame(index = list(range(1,23)), columns= list(range(1,(total_pcs+1))))\n",
    "auc_batches_mean = pd.DataFrame(index = list(range(1,23)), columns= list(range(1,(total_pcs+1))))\n",
    "auc_batches_std = pd.DataFrame(index = list(range(1,23)), columns= list(range(1,(total_pcs+1))))\n",
    "\n",
    "\n",
    "last_pc_list = list(range(1,(total_pcs+1))) \n",
    "\n",
    "if pc_selection == \"allbefore\":\n",
    "    first_pc_list = np.repeat(0, total_pcs, axis=0)\n",
    "elif pc_selection == \"oneatatime\":\n",
    "    first_pc_list = np.array(last_pc_list) - 1\n",
    "elif pc_selection == \"chunks\":\n",
    "    first_pc_list = [1,6]\n",
    "    last_pc_list = [5,10]\n",
    "\n",
    "\n",
    "   \n",
    "\n",
    "for set_num in range(len(last_pc_list)):\n",
    "    print(set_num)\n",
    "    first_pc = first_pc_list[set_num]\n",
    "    last_pc = last_pc_list[set_num]\n",
    "    X = np.array(X_orig)[:,first_pc:last_pc]\n",
    "    y = y_orig\n",
    "\n",
    "    n_repeats = 1\n",
    "    n_splits = 5\n",
    "    rskf = model_selection.RepeatedStratifiedKFold(n_splits=n_splits, n_repeats=n_repeats, random_state=123)\n",
    "\n",
    "    tpr_batches = pd.DataFrame(index = list(range(1,23)), columns= list(range(1,(n_splits+1))))\n",
    "    fpr_batches = pd.DataFrame(index = list(range(1,23)), columns= list(range(1,(n_splits+1))))\n",
    "    auc_batches = pd.DataFrame(index = list(range(1,23)), columns= list(range(1,(n_splits+1))))\n",
    "    it = 0\n",
    "    for train_index, test_index in rskf.split(X, y):\n",
    "        it+=1\n",
    "        #print(cv_it)\n",
    "        X_train, X_test = X[train_index,], X[test_index,]\n",
    "        y_train, y_test = y[train_index], y[test_index]\n",
    "\n",
    "        if paradigm == 'multiclass':\n",
    "            clf = OneVsRestClassifier(SVC()).fit(X_train, y_train)\n",
    "            preds = clf.predict(X_test)\n",
    "\n",
    "            for batch_num in range(1,23):\n",
    "                one_class_truth = np.array(y_test == ('AG' + str(batch_num)))\n",
    "                one_class_pred = np.array(preds == ('AG' + str(batch_num)))\n",
    "                fp = one_class_pred & (one_class_truth==False)\n",
    "                tpr = sum(one_class_truth & one_class_pred)/sum(one_class_pred)\n",
    "                fpr = sum(fp)/sum(one_class_truth == False)\n",
    "                tpr_batches.loc[batch_num][it] = tpr\n",
    "                fpr_batches.loc[batch_num][it] = fpr\n",
    "        else:\n",
    "            #print(\"other\")\n",
    "            for batch_num in range(1,23):\n",
    "                current_batch = \"AG\" + str(batch_num) \n",
    "                if current_batch in Counter(y_orig).keys():\n",
    "                    \n",
    "                    y_train_mod = [1 if i == current_batch else 0 for i in y_train]\n",
    "                    one_class_truth = np.array([1 if i == current_batch else 0 for i in y_test]) # y_test_mod\n",
    "                    clf_binary = LogisticRegression(random_state=0).fit(X_train, y_train_mod)\n",
    "                    one_class_pred = np.array(clf_binary.predict(X_test))\n",
    "                    \n",
    "                    #print(sum(one_class_pred))\n",
    "\n",
    "                    fp = one_class_pred & (one_class_truth==0)\n",
    "                    tpr = sum(one_class_truth & one_class_pred)/sum(one_class_pred)\n",
    "                    fpr = sum(fp)/sum(one_class_truth == 0)\n",
    "                    tpr_batches.loc[batch_num][it] = tpr\n",
    "                    fpr_batches.loc[batch_num][it] = fpr\n",
    "                    \n",
    "                    one_class_pred_prob = np.array(clf_binary.predict_proba(X_test))\n",
    "                    \n",
    "                    fpr, tpr, thresholds = metrics.roc_curve(one_class_truth, one_class_pred_prob[:,1],pos_label=1)\n",
    "                    auc = metrics.auc(fpr, tpr)\n",
    "                    \n",
    "                    auc_batches.loc[batch_num][it] = auc\n",
    "                    #print(tpr)\n",
    "            \n",
    "            #for batch_num in range(1,23):\n",
    "                \n",
    "            #print(\"tpr \" + str(tpr) + \", fpr\" + str(fpr) )\n",
    "\n",
    "    tpr_batches_mean[set_num+1] = tpr_batches.mean(axis =1)\n",
    "    tpr_batches_std[set_num+1] = tpr_batches.std(axis =1)\n",
    "\n",
    "    fpr_batches_mean[set_num+1] = fpr_batches.mean(axis =1)\n",
    "    fpr_batches_std[set_num+1] = fpr_batches.std(axis =1)\n",
    "    if paradigm != 'multiclass':\n",
    "        auc_batches_mean[set_num+1] = auc_batches.mean(axis =1)\n",
    "        auc_batches_std[set_num+1] = auc_batches.std(axis =1)"
   ]
  },
  {
   "cell_type": "code",
   "execution_count": null,
   "metadata": {},
   "outputs": [],
   "source": []
  },
  {
   "cell_type": "code",
   "execution_count": 10,
   "metadata": {},
   "outputs": [
    {
     "data": {
      "text/plain": [
       "1884"
      ]
     },
     "execution_count": 10,
     "metadata": {},
     "output_type": "execute_result"
    }
   ],
   "source": [
    "len(y_test)"
   ]
  },
  {
   "cell_type": "code",
   "execution_count": 11,
   "metadata": {},
   "outputs": [],
   "source": [
    "\n",
    "def plot_intervals(first_batch,last_batch,input_mean, input_std,name):\n",
    "    pd_mean = input_mean.loc[first_batch:last_batch]\n",
    "    pd_std = input_std.loc[first_batch:last_batch]\n",
    "    num_instances = last_batch-first_batch + 1\n",
    "\n",
    "\n",
    "\n",
    "    nplots = 1\n",
    "    plot_alpha=0.2\n",
    "\n",
    "    # color palette\n",
    "    sns.set()\n",
    "    current_palette = sns.color_palette()\n",
    "    #sns.palplot(current_palette)\n",
    "    palette = sns.color_palette(\"hls\", num_instances)\n",
    "    plot_color = palette.as_hex()\n",
    "\n",
    "    plot_marker = ['None','None']\n",
    "    plot_ls = ['-','--']\n",
    "    plot_lw = 2\n",
    "    \n",
    "    text_size = 10\n",
    "    title = name\n",
    "    x_label = 'Number of PC'\n",
    "    y_label = 'Rate'\n",
    "\n",
    "\n",
    "\n",
    "\n",
    "    fig, ax = plt.subplots(nplots, sharex=True, sharey=True)\n",
    "\n",
    "    count_off = 0\n",
    "    for i in range(first_batch,(last_batch+1)): \n",
    "\n",
    "        #ax.fill_between(pd_mean.loc[i], pd_mean.loc[i]-pd_std.loc[i], pd_mean.loc[i]+pd_std.loc[i], color=plot_color[i-1], lw=0, alpha=plot_alpha)\n",
    "        ax.fill_between(list(range(1,total_pcs+1)), pd_mean.loc[i]-pd_std.loc[i], pd_mean.loc[i]+pd_std.loc[i], color=plot_color[count_off], lw=0, alpha=plot_alpha)\n",
    "        ax.plot(list(range(1,total_pcs+1)), pd_mean.loc[i], color=plot_color[count_off], ls='-', lw=plot_lw, marker=plot_marker[0])\n",
    "        count_off += 1\n",
    "    \n",
    "    xint = range(total_pcs+1)\n",
    "    plt.xticks(xint)\n",
    "    \n",
    "    ax.set_xlabel(x_label, size=text_size)\n",
    "    ax.tick_params(labelsize=text_size, axis='x')\n",
    "    ax.set_ylabel(y_label, size=text_size)\n",
    "    ax.tick_params(labelsize=text_size, axis='y')\n",
    "    \n",
    "    ax.set_title(title, size = text_size + 2)\n",
    "\n",
    "    class LegendObject(object):\n",
    "        def __init__(self, facecolor='white', edgecolor='white', dashed=False):\n",
    "            self.facecolor = facecolor\n",
    "            self.edgecolor = edgecolor\n",
    "            self.dashed = dashed\n",
    "\n",
    "        def legend_artist(self, legend, orig_handle, fontsize, handlebox):\n",
    "            x0, y0 = handlebox.xdescent, handlebox.ydescent\n",
    "            width, height = handlebox.width, handlebox.height\n",
    "            patch = mpatches.Rectangle(\n",
    "                # create a rectangle that is filled with color\n",
    "                [x0, y0], width, height, facecolor=self.facecolor,\n",
    "                # and whose edges are the faded color\n",
    "                edgecolor=self.edgecolor, lw=3)\n",
    "            handlebox.add_artist(patch)\n",
    "\n",
    "            # if we're creating the legend for a dashed line,\n",
    "            # manually add the dash in to our rectangle\n",
    "            if self.dashed:\n",
    "                patch1 = mpatches.Rectangle(\n",
    "                    [x0 + 2*width/5, y0], width/5, height, facecolor=self.edgecolor,\n",
    "                    transform=handlebox.get_transform())\n",
    "                handlebox.add_artist(patch1)\n",
    "\n",
    "            return patch\n",
    "\n",
    "    from matplotlib.colors import colorConverter as cc\n",
    "    import matplotlib.patches as mpatches\n",
    "    bg = np.array([1, 1, 1])  # background of the legend is white\n",
    "    colors = plot_color\n",
    "    # with alpha = .5, the faded color is the average of the background and color\n",
    "    colors_faded = [(np.array(cc.to_rgb(color)) + bg) / 2.0 for color in colors]\n",
    "\n",
    "\n",
    "    handler = dict()\n",
    "    for j in list(range(num_instances)):\n",
    "        handler[j] = LegendObject(colors[j], colors_faded[j])\n",
    "\n",
    "       \n",
    "    #list(range(first_batch,(last_batch+1))\n",
    "    ax.legend(list(range(num_instances)),  [\"AG\" + str(i) for i in range(first_batch,(last_batch+1))],\n",
    "               handler_map=handler)\n",
    "    ax.set_facecolor('white')\n",
    "    #ax.title('AUC confidence interval plot')\n",
    "    fig.tight_layout()\n",
    "    #fig.set_axis_on()\n",
    "    ax.grid(color = \"grey\",linewidth=0.2)\n",
    "    fig.show()\n",
    "    fig.savefig(str(plot_folder) + '/' + name + str('.pdf'))\n",
    "    fig.savefig(str(plot_folder) + '/' + name + str('.jpg'))"
   ]
  },
  {
   "cell_type": "code",
   "execution_count": 12,
   "metadata": {},
   "outputs": [],
   "source": [
    "\n",
    "#last_batch"
   ]
  },
  {
   "cell_type": "code",
   "execution_count": 13,
   "metadata": {},
   "outputs": [
    {
     "ename": "FileExistsError",
     "evalue": "[Errno 17] File exists: '/Users/leahbriscoe/Documents/MicroBatch/MicrobiomeDenoising_Plots/AGP_9000_pca'",
     "output_type": "error",
     "traceback": [
      "\u001b[0;31m---------------------------------------------------------------------------\u001b[0m",
      "\u001b[0;31mFileExistsError\u001b[0m                           Traceback (most recent call last)",
      "\u001b[0;32m<ipython-input-13-010e779d0ca1>\u001b[0m in \u001b[0;36m<module>\u001b[0;34m\u001b[0m\n\u001b[1;32m      1\u001b[0m \u001b[0;32mimport\u001b[0m \u001b[0mos\u001b[0m\u001b[0;34m\u001b[0m\u001b[0;34m\u001b[0m\u001b[0m\n\u001b[0;32m----> 2\u001b[0;31m \u001b[0mos\u001b[0m\u001b[0;34m.\u001b[0m\u001b[0mmkdir\u001b[0m\u001b[0;34m(\u001b[0m\u001b[0mplot_folder\u001b[0m\u001b[0;34m)\u001b[0m\u001b[0;34m\u001b[0m\u001b[0;34m\u001b[0m\u001b[0m\n\u001b[0m",
      "\u001b[0;31mFileExistsError\u001b[0m: [Errno 17] File exists: '/Users/leahbriscoe/Documents/MicroBatch/MicrobiomeDenoising_Plots/AGP_9000_pca'"
     ]
    }
   ],
   "source": [
    "import os\n",
    "os.mkdir(plot_folder)"
   ]
  },
  {
   "cell_type": "code",
   "execution_count": null,
   "metadata": {},
   "outputs": [],
   "source": [
    "# first_batch = 1\n",
    "# last_batch = 11\n",
    "# input_mean = tpr_batches_mean\n",
    "# input_std = tpr_batches_std\n",
    "tpr_batches_std = tpr_batches_std.replace([np.inf, -np.inf], np.nan)\n",
    "tpr_batches_mean = tpr_batches_mean.replace([np.inf, -np.inf], np.nan)\n",
    "\n",
    "fpr_batches_std = fpr_batches_std.replace([np.inf, -np.inf], np.nan)\n",
    "fpr_batches_mean = fpr_batches_mean.replace([np.inf, -np.inf], np.nan)\n",
    "\n",
    "plot_intervals(1,11,tpr_batches_mean,tpr_batches_std,(\"TPR_1_11_\" + data_type + pc_selection))\n",
    "    \n",
    "plot_intervals(12,22,tpr_batches_mean,tpr_batches_std,(\"TPR_12_22_\" + data_type + pc_selection))\n",
    "\n",
    "plot_intervals(1,11,fpr_batches_mean,fpr_batches_std,(\"FPR_1_11_\" + data_type + pc_selection))\n",
    "    \n",
    "plot_intervals(12,22,fpr_batches_mean,fpr_batches_std,(\"FPR_12_22_\" + data_type + pc_selection))\n",
    "\n",
    "if paradigm != 'multiclass':\n",
    "    \n",
    "    plot_intervals(1,11,auc_batches_mean,auc_batches_std,(\"AUC_1_11_\" + data_type + pc_selection))\n",
    "    plot_intervals(12,22,auc_batches_mean,auc_batches_std,(\"AUC_12_22_\" + data_type + pc_selection))\n",
    "\n"
   ]
  }
 ],
 "metadata": {
  "kernelspec": {
   "display_name": "Python 3",
   "language": "python",
   "name": "python3"
  },
  "language_info": {
   "codemirror_mode": {
    "name": "ipython",
    "version": 3
   },
   "file_extension": ".py",
   "mimetype": "text/x-python",
   "name": "python",
   "nbconvert_exporter": "python",
   "pygments_lexer": "ipython3",
   "version": "3.6.8"
  }
 },
 "nbformat": 4,
 "nbformat_minor": 2
}
