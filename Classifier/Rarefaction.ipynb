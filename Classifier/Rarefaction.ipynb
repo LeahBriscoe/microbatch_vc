{
 "cells": [
  {
   "cell_type": "code",
   "execution_count": 5,
   "metadata": {},
   "outputs": [],
   "source": [
    "import numpy as np\n",
    "from numpy.random import RandomState\n",
    "import pandas as pd"
   ]
  },
  {
   "cell_type": "code",
   "execution_count": 57,
   "metadata": {},
   "outputs": [],
   "source": [
    "# testing the original rarefaction function just to check\n",
    "def rarefaction(M, seed=0):\n",
    "    prng = RandomState(seed) # reproducible results\n",
    "    noccur = np.sum(M, axis=1) # number of occurrences for each sample\n",
    "    nvar = M.shape[1] # number of variables\n",
    "    depth = np.min(noccur) # sampling depth\n",
    "\n",
    "    Mrarefied = np.empty_like(M)\n",
    "    for i in range(M.shape[0]): # for each sample\n",
    "        p = M[i] / float(noccur[i]) # relative frequency / probability\n",
    "        #print(p)\n",
    "        choice = prng.choice(nvar, depth, p=p)\n",
    "        Mrarefied[i] = np.bincount(choice, minlength=nvar)\n",
    "\n",
    "    return Mrarefied"
   ]
  },
  {
   "cell_type": "code",
   "execution_count": 53,
   "metadata": {},
   "outputs": [],
   "source": [
    "data = pd.read_csv(\"/Users/leahbriscoe/Documents/MicroBatch/microbatch_vc/data/CRC_k7/kmer_table.txt\",delimiter=\"\\t\")\n",
    "data=data.T\n"
   ]
  },
  {
   "cell_type": "code",
   "execution_count": 39,
   "metadata": {},
   "outputs": [],
   "source": []
  },
  {
   "cell_type": "code",
   "execution_count": 54,
   "metadata": {},
   "outputs": [
    {
     "name": "stdout",
     "output_type": "stream",
     "text": [
      "(858, 8192)\n",
      "(841, 8192)\n"
     ]
    }
   ],
   "source": [
    "print(data.shape)\n",
    "data = data[np.array(data.sum(axis=1) != 0)]\n",
    "print(filt_data.shape)"
   ]
  },
  {
   "cell_type": "code",
   "execution_count": 55,
   "metadata": {},
   "outputs": [],
   "source": [
    "ref_data = abs(data-1000) # just made an example second matrix for reference (like how you use gapped k-mer)\n",
    "ref_depths = ref_data.sum(axis=1)"
   ]
  },
  {
   "cell_type": "code",
   "execution_count": 58,
   "metadata": {},
   "outputs": [],
   "source": [
    "\n",
    "rarefy_data = rarefaction(data.values)\n",
    "rarefy_data = pd.DataFrame(rarefy_data)\n"
   ]
  },
  {
   "cell_type": "code",
   "execution_count": 61,
   "metadata": {},
   "outputs": [],
   "source": [
    "sums = rarefy_data.sum(axis=1)"
   ]
  },
  {
   "cell_type": "code",
   "execution_count": 68,
   "metadata": {},
   "outputs": [],
   "source": [
    "def rarefaction_custom(M, depth, seed=0):\n",
    "    prng = RandomState(seed) # reproducible results\n",
    "    noccur = np.sum(M, axis=1) # number of occurrences for each sample\n",
    "    print(\"noccur\",noccur)\n",
    "    print(\"this is the length: \" + str(len(noccur)))\n",
    "    nvar = M.shape[1] # number of variables\n",
    " # sampling depth\n",
    "    Mrarefied = np.empty_like(M)\n",
    "    for i in range(M.shape[0]): # for each sample\n",
    "        p = M[i] / float(noccur[i]) # relative frequency / probability\n",
    "        choice = prng.choice(nvar, depth, p=p)\n",
    "        Mrarefied[i] = np.bincount(choice, minlength=nvar)\n",
    "    return Mrarefied\n"
   ]
  },
  {
   "cell_type": "code",
   "execution_count": null,
   "metadata": {},
   "outputs": [],
   "source": [
    "# Below, I used data.values rather than make a numpy copy of the original pandas dataframe\n",
    "# Another idea is to just read numpy matrix in directly instead of with pandas\n",
    "# Can you print the iterations and figure out which iteration the memory becomes full?"
   ]
  },
  {
   "cell_type": "code",
   "execution_count": 75,
   "metadata": {},
   "outputs": [
    {
     "name": "stdout",
     "output_type": "stream",
     "text": [
      "it0\n",
      "noccur [61313297]\n",
      "this is the length: 1\n",
      "sum sample: [61313297]\n",
      "new sumrow 0; [60243639]\n",
      "it1\n",
      "noccur [58001135]\n",
      "this is the length: 1\n",
      "sum sample: [58001135]\n",
      "new sumrow 0; [58015443]\n",
      "it2\n",
      "noccur [56972502]\n",
      "this is the length: 1\n",
      "sum sample: [56972502]\n",
      "new sumrow 0; [57171618]\n",
      "it3\n",
      "noccur [38923273]\n",
      "this is the length: 1\n",
      "sum sample: [38923273]\n",
      "new sumrow 0; [38704073]\n",
      "it4\n",
      "noccur [51062424]\n",
      "this is the length: 1\n",
      "sum sample: [51062424]\n",
      "new sumrow 0; [51609236]\n",
      "it5\n",
      "noccur [69365655]\n",
      "this is the length: 1\n",
      "sum sample: [69365655]\n",
      "new sumrow 0; [68376911]\n",
      "it6\n",
      "noccur [42892319]\n",
      "this is the length: 1\n",
      "sum sample: [42892319]\n",
      "new sumrow 0; [43550895]\n",
      "it7\n",
      "noccur [61456339]\n",
      "this is the length: 1\n",
      "sum sample: [61456339]\n",
      "new sumrow 0; [60099455]\n",
      "it8\n",
      "noccur [34186635]\n",
      "this is the length: 1\n",
      "sum sample: [34186635]\n",
      "new sumrow 0; [35231383]\n",
      "it9\n",
      "noccur [57048948]\n",
      "this is the length: 1\n",
      "sum sample: [57048948]\n",
      "new sumrow 0; [56322762]\n",
      "it10\n",
      "noccur [34996910]\n",
      "this is the length: 1\n",
      "sum sample: [34996910]\n",
      "new sumrow 0; [35596020]\n",
      "it11\n",
      "noccur [71650854]\n",
      "this is the length: 1\n",
      "sum sample: [71650854]\n",
      "new sumrow 0; [69858200]\n",
      "it12\n",
      "noccur [70006354]\n",
      "this is the length: 1\n",
      "sum sample: [70006354]\n",
      "new sumrow 0; [68935936]\n",
      "it13\n",
      "noccur [65755101]\n",
      "this is the length: 1\n",
      "sum sample: [65755101]\n",
      "new sumrow 0; [65382059]\n",
      "it14\n",
      "noccur [65345346]\n",
      "this is the length: 1\n",
      "sum sample: [65345346]\n",
      "new sumrow 0; [64508118]\n",
      "it15\n",
      "noccur [37693460]\n",
      "this is the length: 1\n",
      "sum sample: [37693460]\n",
      "new sumrow 0; [39036966]\n",
      "it16\n",
      "noccur [27000146]\n",
      "this is the length: 1\n",
      "sum sample: [27000146]\n",
      "new sumrow 0; [28502586]\n",
      "it17\n",
      "noccur [65384028]\n",
      "this is the length: 1\n",
      "sum sample: [65384028]\n",
      "new sumrow 0; [64555628]\n",
      "it18\n",
      "noccur [53189017]\n",
      "this is the length: 1\n",
      "sum sample: [53189017]\n",
      "new sumrow 0; [53032139]\n",
      "it19\n",
      "noccur [16474229]\n",
      "this is the length: 1\n",
      "sum sample: [16474229]\n",
      "new sumrow 0; [19059715]\n",
      "it20\n",
      "noccur [47827011]\n",
      "this is the length: 1\n",
      "sum sample: [47827011]\n",
      "new sumrow 0; [47248451]\n",
      "it21\n",
      "noccur [55646225]\n",
      "this is the length: 1\n",
      "sum sample: [55646225]\n",
      "new sumrow 0; [54803033]\n",
      "it22\n",
      "noccur [58790824]\n",
      "this is the length: 1\n",
      "sum sample: [58790824]\n",
      "new sumrow 0; [58173542]\n",
      "it23\n",
      "noccur [44678420]\n",
      "this is the length: 1\n",
      "sum sample: [44678420]\n",
      "new sumrow 0; [44027800]\n",
      "it24\n",
      "noccur [66801652]\n",
      "this is the length: 1\n",
      "sum sample: [66801652]\n",
      "new sumrow 0; [64734354]\n",
      "it25\n",
      "noccur [55214609]\n",
      "this is the length: 1\n",
      "sum sample: [55214609]\n",
      "new sumrow 0; [54582207]\n",
      "it26\n",
      "noccur [46360662]\n",
      "this is the length: 1\n",
      "sum sample: [46360662]\n",
      "new sumrow 0; [45847670]\n",
      "it27\n",
      "noccur [55902208]\n",
      "this is the length: 1\n",
      "sum sample: [55902208]\n",
      "new sumrow 0; [55791672]\n",
      "it28\n",
      "noccur [43428145]\n",
      "this is the length: 1\n",
      "sum sample: [43428145]\n",
      "new sumrow 0; [44411881]\n",
      "it29\n",
      "noccur [63652275]\n",
      "this is the length: 1\n",
      "sum sample: [63652275]\n",
      "new sumrow 0; [61425841]\n",
      "it30\n",
      "noccur [77114636]\n",
      "this is the length: 1\n",
      "sum sample: [77114636]\n",
      "new sumrow 0; [74802152]\n",
      "it31\n",
      "noccur [38479064]\n",
      "this is the length: 1\n",
      "sum sample: [38479064]\n",
      "new sumrow 0; [38462462]\n",
      "it32\n",
      "noccur [64671329]\n",
      "this is the length: 1\n",
      "sum sample: [64671329]\n",
      "new sumrow 0; [62794633]\n",
      "it33\n",
      "noccur [90387942]\n",
      "this is the length: 1\n"
     ]
    },
    {
     "ename": "KeyboardInterrupt",
     "evalue": "",
     "output_type": "error",
     "traceback": [
      "\u001b[0;31m---------------------------------------------------------------------------\u001b[0m",
      "\u001b[0;31mKeyboardInterrupt\u001b[0m                         Traceback (most recent call last)",
      "\u001b[0;32m<ipython-input-75-97dd46da285f>\u001b[0m in \u001b[0;36m<module>\u001b[0;34m\u001b[0m\n\u001b[1;32m      4\u001b[0m \u001b[0;32mfor\u001b[0m \u001b[0mi\u001b[0m \u001b[0;32min\u001b[0m \u001b[0mrange\u001b[0m\u001b[0;34m(\u001b[0m\u001b[0;36m0\u001b[0m\u001b[0;34m,\u001b[0m\u001b[0mlen\u001b[0m\u001b[0;34m(\u001b[0m\u001b[0mdata\u001b[0m\u001b[0;34m.\u001b[0m\u001b[0mvalues\u001b[0m\u001b[0;34m)\u001b[0m\u001b[0;34m)\u001b[0m\u001b[0;34m:\u001b[0m\u001b[0;34m\u001b[0m\u001b[0;34m\u001b[0m\u001b[0m\n\u001b[1;32m      5\u001b[0m     \u001b[0mprint\u001b[0m\u001b[0;34m(\u001b[0m\u001b[0;34m\"it\"\u001b[0m \u001b[0;34m+\u001b[0m \u001b[0mstr\u001b[0m\u001b[0;34m(\u001b[0m\u001b[0mi\u001b[0m\u001b[0;34m)\u001b[0m\u001b[0;34m)\u001b[0m\u001b[0;34m\u001b[0m\u001b[0;34m\u001b[0m\u001b[0m\n\u001b[0;32m----> 6\u001b[0;31m     \u001b[0mrow1result\u001b[0m \u001b[0;34m=\u001b[0m \u001b[0mrarefaction_custom\u001b[0m\u001b[0;34m(\u001b[0m\u001b[0mnp\u001b[0m\u001b[0;34m.\u001b[0m\u001b[0marray\u001b[0m\u001b[0;34m(\u001b[0m\u001b[0;34m[\u001b[0m\u001b[0mdata\u001b[0m\u001b[0;34m.\u001b[0m\u001b[0mvalues\u001b[0m\u001b[0;34m[\u001b[0m\u001b[0mi\u001b[0m\u001b[0;34m]\u001b[0m\u001b[0;34m]\u001b[0m\u001b[0;34m)\u001b[0m\u001b[0;34m,\u001b[0m\u001b[0mref_depths\u001b[0m\u001b[0;34m[\u001b[0m\u001b[0mi\u001b[0m\u001b[0;34m]\u001b[0m\u001b[0;34m)\u001b[0m\u001b[0;34m\u001b[0m\u001b[0;34m\u001b[0m\u001b[0m\n\u001b[0m\u001b[1;32m      7\u001b[0m     \u001b[0;31m#newmatrix  += row1result\u001b[0m\u001b[0;34m\u001b[0m\u001b[0;34m\u001b[0m\u001b[0;34m\u001b[0m\u001b[0m\n\u001b[1;32m      8\u001b[0m     \u001b[0mnewmatrix\u001b[0m\u001b[0;34m[\u001b[0m\u001b[0mi\u001b[0m\u001b[0;34m]\u001b[0m \u001b[0;34m=\u001b[0m \u001b[0mrow1result\u001b[0m\u001b[0;34m[\u001b[0m\u001b[0;36m0\u001b[0m\u001b[0;34m]\u001b[0m\u001b[0;34m\u001b[0m\u001b[0;34m\u001b[0m\u001b[0m\n",
      "\u001b[0;32m<ipython-input-68-44736e04fb33>\u001b[0m in \u001b[0;36mrarefaction_custom\u001b[0;34m(M, depth, seed)\u001b[0m\n\u001b[1;32m      9\u001b[0m     \u001b[0;32mfor\u001b[0m \u001b[0mi\u001b[0m \u001b[0;32min\u001b[0m \u001b[0mrange\u001b[0m\u001b[0;34m(\u001b[0m\u001b[0mM\u001b[0m\u001b[0;34m.\u001b[0m\u001b[0mshape\u001b[0m\u001b[0;34m[\u001b[0m\u001b[0;36m0\u001b[0m\u001b[0;34m]\u001b[0m\u001b[0;34m)\u001b[0m\u001b[0;34m:\u001b[0m \u001b[0;31m# for each sample\u001b[0m\u001b[0;34m\u001b[0m\u001b[0;34m\u001b[0m\u001b[0m\n\u001b[1;32m     10\u001b[0m         \u001b[0mp\u001b[0m \u001b[0;34m=\u001b[0m \u001b[0mM\u001b[0m\u001b[0;34m[\u001b[0m\u001b[0mi\u001b[0m\u001b[0;34m]\u001b[0m \u001b[0;34m/\u001b[0m \u001b[0mfloat\u001b[0m\u001b[0;34m(\u001b[0m\u001b[0mnoccur\u001b[0m\u001b[0;34m[\u001b[0m\u001b[0mi\u001b[0m\u001b[0;34m]\u001b[0m\u001b[0;34m)\u001b[0m \u001b[0;31m# relative frequency / probability\u001b[0m\u001b[0;34m\u001b[0m\u001b[0;34m\u001b[0m\u001b[0m\n\u001b[0;32m---> 11\u001b[0;31m         \u001b[0mchoice\u001b[0m \u001b[0;34m=\u001b[0m \u001b[0mprng\u001b[0m\u001b[0;34m.\u001b[0m\u001b[0mchoice\u001b[0m\u001b[0;34m(\u001b[0m\u001b[0mnvar\u001b[0m\u001b[0;34m,\u001b[0m \u001b[0mdepth\u001b[0m\u001b[0;34m,\u001b[0m \u001b[0mp\u001b[0m\u001b[0;34m=\u001b[0m\u001b[0mp\u001b[0m\u001b[0;34m)\u001b[0m\u001b[0;34m\u001b[0m\u001b[0;34m\u001b[0m\u001b[0m\n\u001b[0m\u001b[1;32m     12\u001b[0m         \u001b[0mMrarefied\u001b[0m\u001b[0;34m[\u001b[0m\u001b[0mi\u001b[0m\u001b[0;34m]\u001b[0m \u001b[0;34m=\u001b[0m \u001b[0mnp\u001b[0m\u001b[0;34m.\u001b[0m\u001b[0mbincount\u001b[0m\u001b[0;34m(\u001b[0m\u001b[0mchoice\u001b[0m\u001b[0;34m,\u001b[0m \u001b[0mminlength\u001b[0m\u001b[0;34m=\u001b[0m\u001b[0mnvar\u001b[0m\u001b[0;34m)\u001b[0m\u001b[0;34m\u001b[0m\u001b[0;34m\u001b[0m\u001b[0m\n\u001b[1;32m     13\u001b[0m     \u001b[0;32mreturn\u001b[0m \u001b[0mMrarefied\u001b[0m\u001b[0;34m\u001b[0m\u001b[0;34m\u001b[0m\u001b[0m\n",
      "\u001b[0;31mKeyboardInterrupt\u001b[0m: "
     ]
    }
   ],
   "source": [
    "\n",
    "newmatrix = np.empty(shape = data.values.shape)\n",
    "#print(len(sample))\n",
    "for i in range(0,len(data.values)):\n",
    "    print(\"it\" + str(i))\n",
    "    row1result = rarefaction_custom(np.array([data.values[i]]),ref_depths[i])\n",
    "    #newmatrix  += row1result\n",
    "    newmatrix[i] = row1result[0]\n",
    "    print(\"sum sample:\", np.sum(np.array([data.values[i]]),axis = 1))\n",
    "    print(\"new sumrow 0;\", np.sum(row1result, axis = 1))\n"
   ]
  },
  {
   "cell_type": "code",
   "execution_count": 67,
   "metadata": {},
   "outputs": [
    {
     "data": {
      "text/plain": [
       "(841, 8192)"
      ]
     },
     "execution_count": 67,
     "metadata": {},
     "output_type": "execute_result"
    }
   ],
   "source": []
  }
 ],
 "metadata": {
  "kernelspec": {
   "display_name": "Python 3",
   "language": "python",
   "name": "python3"
  },
  "language_info": {
   "codemirror_mode": {
    "name": "ipython",
    "version": 3
   },
   "file_extension": ".py",
   "mimetype": "text/x-python",
   "name": "python",
   "nbconvert_exporter": "python",
   "pygments_lexer": "ipython3",
   "version": "3.6.8"
  }
 },
 "nbformat": 4,
 "nbformat_minor": 2
}
