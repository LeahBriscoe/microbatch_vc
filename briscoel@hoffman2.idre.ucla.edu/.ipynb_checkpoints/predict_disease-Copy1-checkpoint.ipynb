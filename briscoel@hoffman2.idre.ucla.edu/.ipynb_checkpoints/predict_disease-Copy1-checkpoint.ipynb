{
 "cells": [
  {
   "cell_type": "code",
   "execution_count": 1,
   "metadata": {},
   "outputs": [],
   "source": [
    "from sklearn import model_selection \n",
    "import pandas as pd\n",
    "import utils\n",
    "import numpy as np\n",
    "from scipy import interpolate\n",
    "import os\n",
    "\n",
    "\n",
    "import numpy as np\n",
    "import matplotlib.pyplot as plt\n",
    "from matplotlib.colors import ListedColormap\n",
    "from sklearn.model_selection import train_test_split\n",
    "from sklearn.preprocessing import StandardScaler\n",
    "from sklearn.datasets import make_moons, make_circles, make_classification\n",
    "from sklearn.neural_network import MLPClassifier\n",
    "from sklearn.neighbors import KNeighborsClassifier\n",
    "from sklearn.svm import SVC\n",
    "\n",
    "from sklearn.gaussian_process import GaussianProcessClassifier\n",
    "from sklearn.gaussian_process.kernels import RBF\n",
    "from sklearn.tree import DecisionTreeClassifier\n",
    "from sklearn.ensemble import RandomForestClassifier, AdaBoostClassifier\n",
    "from sklearn.naive_bayes import GaussianNB\n",
    "from sklearn.discriminant_analysis import QuadraticDiscriminantAnalysis\n",
    "\n",
    "from sklearn import metrics\n",
    "from collections import Counter"
   ]
  },
  {
   "cell_type": "code",
   "execution_count": 18,
   "metadata": {},
   "outputs": [
    {
     "ename": "FileExistsError",
     "evalue": "[Errno 17] File exists: '/Users/leahbriscoe/Documents/MicroBatch/MicrobiomeDenoising_Plots/WR_AD'",
     "output_type": "error",
     "traceback": [
      "\u001b[0;31m---------------------------------------------------------------------------\u001b[0m",
      "\u001b[0;31mFileExistsError\u001b[0m                           Traceback (most recent call last)",
      "\u001b[0;32m<ipython-input-18-c849fba10144>\u001b[0m in \u001b[0;36m<module>\u001b[0;34m\u001b[0m\n\u001b[1;32m      1\u001b[0m \u001b[0mplot_folder\u001b[0m \u001b[0;34m=\u001b[0m \u001b[0;34m\"/Users/leahbriscoe/Documents/MicroBatch/MicrobiomeDenoising_Plots/\"\u001b[0m \u001b[0;34m+\u001b[0m \u001b[0mstr\u001b[0m\u001b[0;34m(\u001b[0m\u001b[0;34m\"WR_AD\"\u001b[0m\u001b[0;34m)\u001b[0m\u001b[0;34m\u001b[0m\u001b[0;34m\u001b[0m\u001b[0m\n\u001b[0;32m----> 2\u001b[0;31m \u001b[0mos\u001b[0m\u001b[0;34m.\u001b[0m\u001b[0mmkdir\u001b[0m\u001b[0;34m(\u001b[0m\u001b[0mplot_folder\u001b[0m\u001b[0;34m)\u001b[0m\u001b[0;34m\u001b[0m\u001b[0;34m\u001b[0m\u001b[0m\n\u001b[0m",
      "\u001b[0;31mFileExistsError\u001b[0m: [Errno 17] File exists: '/Users/leahbriscoe/Documents/MicroBatch/MicrobiomeDenoising_Plots/WR_AD'"
     ]
    }
   ],
   "source": []
  },
  {
   "cell_type": "code",
   "execution_count": null,
   "metadata": {},
   "outputs": [],
   "source": [
    "feat = \"age_reloc\""
   ]
  },
  {
   "cell_type": "code",
   "execution_count": 6,
   "metadata": {},
   "outputs": [
    {
     "name": "stdout",
     "output_type": "stream",
     "text": [
      "raw\n",
      "ComBat\n",
      "ComBat_with_batch2\n",
      "ComBat_with_biocovariates\n",
      "ComBat_with_biocovariates_with_batch2\n",
      "bmc\n",
      "pca_regress_out_scale_first5\n",
      "clr_pca_regress_out_scale_first5\n",
      "clr_pca_regress_out_no_scale_first5\n",
      "limma\n",
      "limma_batch2\n"
     ]
    }
   ],
   "source": [
    "data_folder = \"/Users/leahbriscoe/Documents/MicroBatch/microbatch_vc/data/Hispanic_k7\" #MicrobiomeDenoisingData/AGP_2018_biomotu_k7_feces\"#\"WR_AD\")#\n",
    "\n",
    "plot_folder = \"/Users/leahbriscoe/Documents/MicroBatch/microbatch_vc/plots/Hispanic_k7/\"# str(\"WR_AD\")\n",
    "#os.mkdir(plot_folder)\n",
    "\n",
    "\n",
    "#bmc&ComBat&ComBat_with_batch2&ComBat_with_biocovariates&ComBat_with_biocovariates_with_batch2&limma&limma_batch2&pca_regress_out_scale&clr_pca_regress_out_no_scal&clr_pca_regress_out_scale&refactor&refactor_shift1&smartsva\n",
    "methods = [\"raw\",\"ComBat\",\"ComBat_with_batch2\",\"ComBat_with_biocovariates\",\n",
    "           \"ComBat_with_biocovariates_with_batch2\",\"bmc\",\"pca_regress_out_scale_first5\",\n",
    "           \"clr_pca_regress_out_scale_first5\",\"clr_pca_regress_out_no_scale_first5\",\"pca_regress_out_scale_first2\",\n",
    "           \"clr_pca_regress_out_scale_first2\",\"clr_pca_regress_out_no_scale_first2\",\n",
    "           \"limma\",\"limma_batch2\"]\n",
    "data_type = \"kmer\"\n",
    "\n",
    "methods_dict = utils.load_data(data_folder,methods,data_type)\n",
    "#[\"rel_ab\",\"ComBat_mle\",\"ComBat\",\"percentile_norm\",\"slope_correction\",\"limma\",\"bmc\",\"pca_regress_out\"]\n"
   ]
  },
  {
   "cell_type": "code",
   "execution_count": 7,
   "metadata": {},
   "outputs": [],
   "source": [
    "metadata = pd.read_csv(data_folder + \"/metadata.txt\",delimiter=\"\\t\")"
   ]
  },
  {
   "cell_type": "code",
   "execution_count": 8,
   "metadata": {},
   "outputs": [],
   "source": [
    "def binarize_labels_mod(labels,pos_labels,none_labels):\n",
    "    new_labels = []\n",
    "    for lab in labels:\n",
    "        if lab in pos_labels:\n",
    "            new_labels.append(1)\n",
    "        elif lab in none_labels:\n",
    "            new_labels.append(None)\n",
    "        else:\n",
    "            new_labels.append(0)\n",
    "    return new_labels\n"
   ]
  },
  {
   "cell_type": "code",
   "execution_count": 20,
   "metadata": {},
   "outputs": [],
   "source": [
    "if feat == \"antibiotic\":\n",
    "    bin_antibiotic = binarize_labels_mod(metadata[\"antibiotic\"],pos_labels =['1'],none_labels = [\"Not provided\",float(\"Nan\"),'not provided'])\n",
    "\n",
    "    Counter(metadata[\"antibiotic\"])\n",
    "    metadata[\"bin_antibiotic\"] = bin_antibiotic\n",
    "    column_of_interest = \"bin_antibiotic\"\n",
    "    pos_label = 1 #\"Healthy\"#'1-2' #'0-0.5'#'Omnivore' # '0-1.5'\n",
    "elif feat == \"age_reloc\":\n",
    "    bin_feat = binarize_labels_mod(metadata[\"agegroup_c6_v2.x\"],pos_labels =['1','2','3'],none_labels = [\"not applicable\",float(\"Nan\"),'not provided'])\n",
    "\n",
    "    metadata[feat] = bin_feat\n",
    "    column_of_interest = feat\n",
    "    pos_label = 1 #\"Healthy\"#'1-2' #'0-0.5'#'Omnivore' # '0-1.5'\n",
    "    \n",
    "\n",
    "\n"
   ]
  },
  {
   "cell_type": "code",
   "execution_count": 46,
   "metadata": {},
   "outputs": [
    {
     "data": {
      "text/plain": [
       "Counter({'6': 454,\n",
       "         '5': 679,\n",
       "         '3': 122,\n",
       "         '4': 427,\n",
       "         '2': 75,\n",
       "         'not applicable': 124,\n",
       "         '1': 11,\n",
       "         'not provided': 3})"
      ]
     },
     "execution_count": 46,
     "metadata": {},
     "output_type": "execute_result"
    }
   ],
   "source": [
    "#Counter(metadata[\"agegroup_c6_v2.x\"])"
   ]
  },
  {
   "cell_type": "code",
   "execution_count": 49,
   "metadata": {},
   "outputs": [],
   "source": [
    "bin_feat = binarize_labels_mod(metadata[\"agegroup_c6_v2.x\"],pos_labels =['1','2','3','4'],none_labels = [\"not applicable\",float(\"Nan\"),'not provided'])\n"
   ]
  },
  {
   "cell_type": "code",
   "execution_count": 50,
   "metadata": {},
   "outputs": [
    {
     "data": {
      "text/plain": [
       "Counter({0: 1133, 1: 635, None: 127})"
      ]
     },
     "execution_count": 50,
     "metadata": {},
     "output_type": "execute_result"
    }
   ],
   "source": [
    "\n",
    "#Counter(bin_feat)"
   ]
  },
  {
   "cell_type": "code",
   "execution_count": 24,
   "metadata": {},
   "outputs": [],
   "source": []
  },
  {
   "cell_type": "code",
   "execution_count": 25,
   "metadata": {},
   "outputs": [
    {
     "data": {
      "text/plain": [
       "Counter({1.0: 513, 0.0: 1381, nan: 1})"
      ]
     },
     "execution_count": 25,
     "metadata": {},
     "output_type": "execute_result"
    }
   ],
   "source": [
    "#Counter(metadata[column_of_interest])"
   ]
  },
  {
   "cell_type": "code",
   "execution_count": 29,
   "metadata": {},
   "outputs": [],
   "source": [
    "names_orig = [\"Random Forest\",\"Naive Bayes\"]#,\"Nearest Neighbors\"]#,\"Neural Net\", \"AdaBoost\"] \"RBF SVM\",\"Linear SVM\",\n",
    "names = names_orig\n",
    "#[\"Nearest Neighbors\", \"Linear SVM\", \"RBF SVM\", \"Gaussian Process\",\n",
    "#             \"Decision Tree\", \"Random Forest\", \"Neural Net\", \"AdaBoost\",\n",
    "#             \"Naive Bayes\"]\n",
    "\n",
    "all_methods_metrics = dict()\n",
    "all_methods_means = pd.DataFrame(index = methods, columns= names)\n",
    "all_methods_auc_stats = dict()"
   ]
  },
  {
   "cell_type": "code",
   "execution_count": 30,
   "metadata": {},
   "outputs": [
    {
     "name": "stdout",
     "output_type": "stream",
     "text": [
      "raw\n",
      "Random Forest\n",
      "Naive Bayes\n",
      "ComBat\n",
      "Random Forest\n",
      "Naive Bayes\n",
      "ComBat_with_batch2\n",
      "Random Forest\n",
      "Naive Bayes\n",
      "ComBat_with_biocovariates\n",
      "Random Forest\n",
      "Naive Bayes\n",
      "ComBat_with_biocovariates_with_batch2\n",
      "Random Forest\n",
      "Naive Bayes\n",
      "bmc\n",
      "Random Forest\n",
      "Naive Bayes\n",
      "pca_regress_out_scale_first5\n",
      "Random Forest\n",
      "Naive Bayes\n",
      "clr_pca_regress_out_scale_first5\n",
      "Random Forest\n",
      "Naive Bayes\n",
      "clr_pca_regress_out_no_scale_first5\n",
      "Random Forest\n",
      "Naive Bayes\n",
      "limma\n",
      "Random Forest\n",
      "Naive Bayes\n",
      "limma_batch2\n",
      "Random Forest\n",
      "Naive Bayes\n"
     ]
    }
   ],
   "source": [
    "n_repeats = 4\n",
    "n_splits = 5\n",
    "for method in methods:\n",
    "    print(method)\n",
    "    \n",
    "    all_methods_auc_stats[method] = dict()\n",
    "    X = np.array(methods_dict[method].transpose())\n",
    "    y = np.array(metadata.loc[methods_dict[method].columns][column_of_interest])\n",
    "    na_mask = pd.isna(y)\n",
    "    y = y[~na_mask]\n",
    "    X = X[~na_mask,:]\n",
    "\n",
    "    rskf = model_selection.RepeatedStratifiedKFold(n_splits=5, n_repeats=n_repeats, random_state=123)\n",
    "    \n",
    "\n",
    "    h = .02  # step size in the mesh\n",
    "\n",
    "    \n",
    "\n",
    "    metric_classifier = pd.DataFrame(index = list(range(0,10)), columns= names)\n",
    "\n",
    "#     classifiers = [\n",
    "#         KNeighborsClassifier(3),\n",
    "#         SVC(kernel=\"linear\", C=0.025),\n",
    "#         SVC(gamma=2, C=1),\n",
    "#         GaussianProcessClassifier(1.0 * RBF(1.0)),\n",
    "#         DecisionTreeClassifier(max_depth=5),\n",
    "#         RandomForestClassifier(max_depth=5, n_estimators=10, max_features=1),\n",
    "#         MLPClassifier(alpha=1, max_iter=1000),\n",
    "#         AdaBoostClassifier(),\n",
    "#         GaussianNB(),\n",
    "#         QuadraticDiscriminantAnalysis()]\n",
    "    \n",
    "    \n",
    "#     \"Naive Bayes\",\"AdaBoost\",\"RBF SVM\",\"Linear SVM\"\n",
    "\n",
    "    classifiers = [\n",
    "        RandomForestClassifier(max_depth=5, n_estimators=10, max_features=1),\n",
    "        GaussianNB()] #KNeighborsClassifier(3)]\n",
    "    #AdaBoostClassifier(),\n",
    "    #SVC(kernel=\"linear\", C=0.025),\n",
    "    #SVC(gamma=2, C=1),\n",
    "#     ,\n",
    "#         MLPClassifier(alpha=1, max_iter=1000),\n",
    "#         AdaBoostClassifier()]\n",
    "\n",
    "\n",
    "    \n",
    "    \n",
    "    \n",
    "    \n",
    "\n",
    "    # iterate over classifiers\n",
    "    classifier_it = 0\n",
    "    for name, clf in zip(names, classifiers):\n",
    "        print(names[classifier_it])\n",
    "        all_methods_auc_stats[method][names[classifier_it]]  = dict()\n",
    "        #print(\"TRAIN:\", train_index, \"TEST:\", test_index)\n",
    "           \n",
    "        #auc_list = [] #pd.DataFrame(index = list(range(n_splits * n_repeats)))\n",
    "        #tpr_list = [] #pd.DataFrame(index = list(range(n_splits * n_repeats)))\n",
    "        #fpr_list = [] #pd.DataFrame(index = list(range(n_splits * n_repeats)))\n",
    "        \n",
    "        cv_it = 0\n",
    "        auc_all = []\n",
    "        y_tr_all = []\n",
    "        y_pr_all = []\n",
    "\n",
    "        y_tr = []\n",
    "        y_pr = []\n",
    "        for train_index, test_index in rskf.split(X, y):\n",
    "            #print(cv_it)\n",
    "            X_train, X_test = X[train_index,], X[test_index,]\n",
    "            y_train, y_test = y[train_index], y[test_index]\n",
    "            \n",
    "            clf.fit(X_train, y_train)\n",
    "            score = clf.score(X_test, y_test)\n",
    "            #print(score)\n",
    "            metric_classifier.loc[cv_it,names[classifier_it]] = score\n",
    "            \n",
    "            y_scores = clf.predict(X_test)\n",
    "            y_scores_bin = clf.predict_proba(X_test).transpose()[1]\n",
    "            y_test_bin = utils.binarize_labels(y_test,pos_label =pos_label)\n",
    "            \n",
    "            y_tr.append(y_test_bin)\n",
    "            y_pr.append(y_scores_bin)\n",
    "\n",
    "            y_tr_all.extend(y_test_bin)\n",
    "            y_pr_all.extend(y_scores_bin)\n",
    "\n",
    "            auc = metrics.roc_auc_score(y_test_bin, y_scores_bin)\n",
    "            #fpr, tpr, thresholds = metrics.roc_curve(y_test_bin, y_scores_bin)\n",
    "            #fpr_list.append(fpr)\n",
    "            #tpr_list.append(tpr)\n",
    "            auc_all.append(auc)\n",
    "            #auc_matrix.loc[cv_it,:] = auc\n",
    "            #fpr_matrix.loc[cv_it,:] = fpr\n",
    "            #tpr_matrix.loc[cv_it,:] = tpr\n",
    "\n",
    "        \n",
    "            cv_it += 1\n",
    "        fpr_all, tpr_all, thresholds_all = metrics.roc_curve(y_tr_all, y_pr_all)\n",
    "        tpr_i = []\n",
    "        for s in range(20):\n",
    "            fpr, tpr, thresholds = metrics.roc_curve(y_tr[s], y_pr[s])\n",
    "            if not np.isnan(tpr[0]):\n",
    "                tpr_i.append(interpolate.interp1d(fpr, tpr, 'nearest')(fpr_all))\n",
    "            \n",
    "        all_methods_auc_stats[method][names[classifier_it]]['fpr_all'] = fpr_all#auc_matrix\n",
    "        all_methods_auc_stats[method][names[classifier_it]]['tpr_all'] = tpr_all#auc_matrix\n",
    "        all_methods_auc_stats[method][names[classifier_it]]['tpr_i'] = tpr_i #auc_matrix\n",
    "        \n",
    "        all_methods_auc_stats[method][names[classifier_it]]['auc_all'] = auc_all #auc_matrix\n",
    "        #all_methods_auc_stats[method][names[classifier_it]]['auc'] = auc_list #auc_matrix\n",
    "        #all_methods_auc_stats[method][names[classifier_it]]['fpr'] = fpr_list #fpr_matrix\n",
    "        #all_methods_auc_stats[method][names[classifier_it]]['tpr'] = tpr_list #tpr_matrix\n",
    "        classifier_it += 1\n",
    "        \n",
    "\n",
    "    all_methods_metrics[method] = metric_classifier\n",
    "    \n",
    "    \n",
    "    all_methods_means.loc[method,:] = np.array(pd.DataFrame.mean(metric_classifier,axis =0))\n",
    "    "
   ]
  },
  {
   "cell_type": "code",
   "execution_count": 8,
   "metadata": {},
   "outputs": [],
   "source": [
    "# one_auc_track1 = []\n",
    "# one_auc_track2 = []\n",
    "# one_auc_track3 = []\n",
    "\n",
    "# for i in range(test.shape[1]):\n",
    "#     mean,q1,q2 = mean_confidence_interval(test.loc[:,i])\n",
    "#     one_auc_track1.append(mean)\n",
    "#     one_auc_track2.append(q1)\n",
    "#     one_auc_track3.append(q2)"
   ]
  },
  {
   "cell_type": "code",
   "execution_count": 32,
   "metadata": {},
   "outputs": [
    {
     "name": "stdout",
     "output_type": "stream",
     "text": [
      "Random Forest\n",
      "raw\n",
      "0.5828445924567733\n",
      "ComBat\n",
      "0.5661725138447643\n",
      "ComBat_with_batch2\n",
      "0.5472594608187752\n",
      "ComBat_with_biocovariates\n",
      "0.5562184759913326\n",
      "ComBat_with_biocovariates_with_batch2\n",
      "0.4974510414148459\n",
      "bmc\n",
      "0.5717626977454783\n",
      "pca_regress_out_scale_first5\n",
      "0.5720998302609559\n",
      "clr_pca_regress_out_scale_first5\n",
      "0.5742553728942765\n",
      "clr_pca_regress_out_no_scale_first5\n",
      "0.5958212571155832\n",
      "limma\n",
      "0.5739064828220282\n",
      "limma_batch2\n",
      "0.5387955106670113\n",
      "Naive Bayes\n",
      "raw\n",
      "0.5323740714994709\n",
      "ComBat\n",
      "0.5471095754415845\n",
      "ComBat_with_batch2\n",
      "0.5303136378245651\n",
      "ComBat_with_biocovariates\n",
      "0.5539276589055921\n",
      "ComBat_with_biocovariates_with_batch2\n",
      "0.5551378206286002\n",
      "bmc\n",
      "0.5336070045988474\n",
      "pca_regress_out_scale_first5\n",
      "0.5296769276174266\n",
      "clr_pca_regress_out_scale_first5\n",
      "0.5347723776177248\n",
      "clr_pca_regress_out_no_scale_first5\n",
      "0.53637360561824\n",
      "limma\n",
      "0.5336070045988474\n",
      "limma_batch2\n",
      "0.5554494299935997\n"
     ]
    }
   ],
   "source": [
    "auc_fix = False\n",
    "for n in names:\n",
    "    print(n)\n",
    "    for method in methods:\n",
    "        print(method)\n",
    "        if auc_fix:\n",
    "            print(1-np.mean(all_methods_auc_stats[method][n]['auc_all']))\n",
    "        else: \n",
    "            print(np.mean(all_methods_auc_stats[method][n]['auc_all']))\n",
    "        "
   ]
  },
  {
   "cell_type": "code",
   "execution_count": 40,
   "metadata": {},
   "outputs": [],
   "source": [
    "methods = [\"raw\",\"ComBat\",\"pca_regress_out_scale_first5\",\n",
    "           \"clr_pca_regress_out_scale_first5\",\"clr_pca_regress_out_no_scale_first5\",\"limma_batch2\"]\n"
   ]
  },
  {
   "cell_type": "code",
   "execution_count": 41,
   "metadata": {},
   "outputs": [
    {
     "name": "stderr",
     "output_type": "stream",
     "text": [
      "/Users/leahbriscoe/anaconda3/lib/python3.6/site-packages/matplotlib/figure.py:459: UserWarning: matplotlib is currently using a non-GUI backend, so cannot show the figure\n",
      "  \"matplotlib is currently using a non-GUI backend, \"\n",
      "/Users/leahbriscoe/anaconda3/lib/python3.6/site-packages/matplotlib/figure.py:459: UserWarning: matplotlib is currently using a non-GUI backend, so cannot show the figure\n",
      "  \"matplotlib is currently using a non-GUI backend, \"\n"
     ]
    },
    {
     "data": {
      "image/png": "[encoded data removed]",
      "text/plain": [
       "<Figure size 432x288 with 1 Axes>"
      ]
     },
     "metadata": {},
     "output_type": "display_data"
    },
    {
     "data": {
      "image/png": "[encoded data removed]",
      "text/plain": [
       "<Figure size 432x288 with 1 Axes>"
      ]
     },
     "metadata": {},
     "output_type": "display_data"
    }
   ],
   "source": [
    "for name in names:    \n",
    "    text_size = 10\n",
    "    title = 'ROC curves'\n",
    "    x_label = 'False positive rate'\n",
    "    y_label = 'True positive rate'\n",
    "\n",
    "\n",
    "\n",
    "    nplots=1\n",
    "    plot_par_factor=2.26\n",
    "    runs_cv_folds = 10\n",
    "    plot_alpha=0.2\n",
    "    fig, ax = plt.subplots(nplots, sharex=True, sharey=True)\n",
    "    import seaborn as sns\n",
    "    sns.set()\n",
    "    current_palette = sns.color_palette()\n",
    "    #sns.palplot(current_palette)\n",
    "    palette = sns.color_palette(\"hls\", len(methods))\n",
    "    plot_color = palette.as_hex()\n",
    "    plot_marker = ['None','None']\n",
    "    plot_ls = ['-','--']\n",
    "    plot_lw = 2\n",
    "    plot_title = \"test\"\n",
    "\n",
    "    for i in range(0,len(methods)):\n",
    "        #'Naive Bayes''Random Forest'\n",
    "        if auc_fix:\n",
    "            fpr_all = 1- np.array(all_methods_auc_stats[methods[i]][name]['fpr_all'])\n",
    "            tpr_i = 1- np.array(all_methods_auc_stats[methods[i]][name]['tpr_i'])\n",
    "            tpr_all = 1-np.array(all_methods_auc_stats[methods[i]][name]['tpr_all'])\n",
    "        else:\n",
    "            fpr_all = all_methods_auc_stats[methods[i]][name]['fpr_all']\n",
    "            tpr_i = all_methods_auc_stats[methods[i]][name]['tpr_i']\n",
    "            tpr_all = all_methods_auc_stats[methods[i]][name]['tpr_all']\n",
    "\n",
    "        ax.fill_between(fpr_all, tpr_all-np.std(tpr_i, axis=0)*plot_par_factor/np.sqrt(runs_cv_folds), tpr_all+np.std(tpr_i, axis=0)*plot_par_factor/np.sqrt(runs_cv_folds), color=plot_color[i], lw=0, alpha=plot_alpha)\n",
    "        ax.plot(fpr_all, tpr_all, color=plot_color[i], ls='-', lw=plot_lw, marker=plot_marker[0])\n",
    "\n",
    "    # fig.subplots_adjust(hspace=0)\n",
    "    ax.set_xlabel(x_label, size=text_size)\n",
    "    ax.tick_params(labelsize=text_size, axis='x')\n",
    "    ax.set_ylabel(y_label, size=text_size)\n",
    "    ax.tick_params(labelsize=text_size, axis='y')\n",
    "    #ax.text(plot_title,plot_title,plot_title, va='center', ha='center', size=text_size+2)\n",
    "    ax.set_xlim([0.0, 1.0])\n",
    "    ax.set_ylim([0.0, 1.0])\n",
    "    # ax.set_yticklabels(ax.get_yticks()[:-1])\n",
    "    # ax.set_title(title, size=text_size+2)\n",
    "    #leg = ax.legend()\n",
    "    #leg_col = [plt.Rectangle((0, 0), 1, 1, fc=s, linewidth=0) for s in plot_color] + [plt.Line2D([0,1], [0,1], c='k', ls='-', lw=2)] + [plt.Line2D([0,1], [0,1], c='k', ls='--', lw=2)]\n",
    "    #leg = ax.legend(leg_col, prop={'size':text_size}, loc='center left', bbox_to_anchor=(1.02,1), numpoints=1)\n",
    "    #leg.get_frame().set_alpha(0)\n",
    "\n",
    "    class LegendObject(object):\n",
    "        def __init__(self, facecolor='white', edgecolor='white', dashed=False):\n",
    "            self.facecolor = facecolor\n",
    "            self.edgecolor = edgecolor\n",
    "            self.dashed = dashed\n",
    "\n",
    "        def legend_artist(self, legend, orig_handle, fontsize, handlebox):\n",
    "            x0, y0 = handlebox.xdescent, handlebox.ydescent\n",
    "            width, height = handlebox.width, handlebox.height\n",
    "            patch = mpatches.Rectangle(\n",
    "                # create a rectangle that is filled with color\n",
    "                [x0, y0], width, height, facecolor=self.facecolor,\n",
    "                # and whose edges are the faded color\n",
    "                edgecolor=self.edgecolor, lw=3)\n",
    "            handlebox.add_artist(patch)\n",
    "\n",
    "            # if we're creating the legend for a dashed line,\n",
    "            # manually add the dash in to our rectangle\n",
    "            if self.dashed:\n",
    "                patch1 = mpatches.Rectangle(\n",
    "                    [x0 + 2*width/5, y0], width/5, height, facecolor=self.edgecolor,\n",
    "                    transform=handlebox.get_transform())\n",
    "                handlebox.add_artist(patch1)\n",
    "\n",
    "            return patch\n",
    "\n",
    "    from matplotlib.colors import colorConverter as cc\n",
    "    import matplotlib.patches as mpatches\n",
    "    bg = np.array([1, 1, 1])  # background of the legend is white\n",
    "    colors = plot_color\n",
    "    # with alpha = .5, the faded color is the average of the background and color\n",
    "    colors_faded = [(np.array(cc.to_rgb(color)) + bg) / 2.0 for color in colors]\n",
    "\n",
    "    ax.legend(list(range(6)), methods[0:6],\n",
    "               handler_map={\n",
    "                   0: LegendObject(colors[0], colors_faded[0]),\n",
    "                   1: LegendObject(colors[1], colors_faded[1]),\n",
    "                   2: LegendObject(colors[2], colors_faded[2]),\n",
    "                   3: LegendObject(colors[3], colors_faded[3]),\n",
    "                   4: LegendObject(colors[4], colors_faded[4]),\n",
    "                   5: LegendObject(colors[5], colors_faded[5])\n",
    "                })\n",
    "    ax.set_facecolor('white')\n",
    "    #ax.title('AUC confidence interval plot')\n",
    "    fig.tight_layout()\n",
    "    #fig.set_axis_on()\n",
    "    ax.grid(color = \"grey\")\n",
    "    fig.show()\n",
    "\n",
    "\n",
    "    fig.savefig(str(plot_folder) + '/AUC_' + str(name) + str('.pdf'))\n"
   ]
  },
  {
   "cell_type": "code",
   "execution_count": 30,
   "metadata": {},
   "outputs": [],
   "source": []
  },
  {
   "cell_type": "code",
   "execution_count": 17,
   "metadata": {},
   "outputs": [
    {
     "data": {
      "text/plain": [
       "'/Users/leahbriscoe/Documents/MicroBatch/MicrobiomeDenoisingData/WR_AD'"
      ]
     },
     "execution_count": 17,
     "metadata": {},
     "output_type": "execute_result"
    }
   ],
   "source": [
    "plot_folder"
   ]
  },
  {
   "cell_type": "code",
   "execution_count": 32,
   "metadata": {},
   "outputs": [],
   "source": [
    "fpr_all = 1-np.array(all_methods_auc_stats[methods[i]]['Naive Bayes']['fpr_all'])"
   ]
  },
  {
   "cell_type": "code",
   "execution_count": 33,
   "metadata": {},
   "outputs": [
    {
     "data": {
      "text/plain": [
       "array([1.        , 0.30909091, 0.30909091, 0.30909091, 0.30909091,\n",
       "       0.30909091, 0.30863636, 0.30863636, 0.30818182, 0.30818182,\n",
       "       0.30772727, 0.30772727, 0.30727273, 0.30727273, 0.30681818,\n",
       "       0.30681818, 0.30636364, 0.30636364, 0.30590909, 0.30590909,\n",
       "       0.30545455, 0.30545455, 0.305     , 0.305     , 0.30454545,\n",
       "       0.30454545, 0.30409091, 0.30409091, 0.30363636, 0.30363636,\n",
       "       0.30318182, 0.30318182, 0.30272727, 0.30272727, 0.30227273,\n",
       "       0.30227273, 0.30181818, 0.30181818, 0.30136364, 0.30136364,\n",
       "       0.30090909, 0.30090909, 0.30045455, 0.30045455, 0.3       ,\n",
       "       0.3       , 0.29909091, 0.29909091, 0.29863636, 0.29863636,\n",
       "       0.29818182, 0.29818182, 0.29772727, 0.29772727, 0.29727273,\n",
       "       0.29727273, 0.29681818, 0.29681818, 0.29636364, 0.29636364,\n",
       "       0.29590909, 0.29590909, 0.29545455, 0.29545455, 0.295     ,\n",
       "       0.295     , 0.29454545, 0.29454545, 0.29409091, 0.29409091,\n",
       "       0.29363636, 0.29363636, 0.29318182, 0.29318182, 0.29272727,\n",
       "       0.29272727, 0.29227273, 0.29227273, 0.29136364, 0.29136364,\n",
       "       0.29090909, 0.29090909, 0.29045455, 0.29045455, 0.29      ,\n",
       "       0.29      , 0.28954545, 0.28954545, 0.28909091, 0.28909091,\n",
       "       0.28863636, 0.28863636, 0.28818182, 0.28818182, 0.28772727,\n",
       "       0.28772727, 0.28727273, 0.28727273, 0.28590909, 0.28590909,\n",
       "       0.28545455, 0.28545455, 0.285     , 0.285     , 0.28454545,\n",
       "       0.28454545, 0.28409091, 0.28409091, 0.28363636, 0.28363636,\n",
       "       0.28318182, 0.28318182, 0.28272727, 0.28272727, 0.28227273,\n",
       "       0.28227273, 0.28181818, 0.28181818, 0.28136364, 0.28136364,\n",
       "       0.28090909, 0.28090909, 0.27954545, 0.27954545, 0.27909091,\n",
       "       0.27909091, 0.27863636, 0.27863636, 0.27818182, 0.27818182,\n",
       "       0.27727273, 0.27727273, 0.27681818, 0.27681818, 0.27636364,\n",
       "       0.27636364, 0.27590909, 0.27590909, 0.27545455, 0.27545455,\n",
       "       0.275     , 0.275     , 0.27454545, 0.27454545, 0.27409091,\n",
       "       0.27409091, 0.        ])"
      ]
     },
     "execution_count": 33,
     "metadata": {},
     "output_type": "execute_result"
    }
   ],
   "source": [
    "fpr_all"
   ]
  },
  {
   "cell_type": "code",
   "execution_count": null,
   "metadata": {},
   "outputs": [],
   "source": []
  },
  {
   "cell_type": "code",
   "execution_count": null,
   "metadata": {},
   "outputs": [],
   "source": []
  }
 ],
 "metadata": {
  "kernelspec": {
   "display_name": "Python 3",
   "language": "python",
   "name": "python3"
  },
  "language_info": {
   "codemirror_mode": {
    "name": "ipython",
    "version": 3
   },
   "file_extension": ".py",
   "mimetype": "text/x-python",
   "name": "python",
   "nbconvert_exporter": "python",
   "pygments_lexer": "ipython3",
   "version": "3.6.8"
  }
 },
 "nbformat": 4,
 "nbformat_minor": 2
}
