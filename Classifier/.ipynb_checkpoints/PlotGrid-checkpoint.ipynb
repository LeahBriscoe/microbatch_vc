{
 "cells": [
  {
   "cell_type": "code",
   "execution_count": 1,
   "metadata": {},
   "outputs": [],
   "source": [
    "import sys\n",
    "import pandas as pd\n",
    "import utils\n",
    "import numpy as np\n",
    "from sklearn.preprocessing import StandardScaler, normalize\n",
    "from sklearn.ensemble import RandomForestClassifier\n",
    "from sklearn import model_selection \n",
    "from sklearn.decomposition import PCA\n",
    "from sklearn.model_selection import GridSearchCV, cross_val_score, train_test_split\n",
    "import statsmodels.formula.api as sm\n",
    "from sklearn.metrics import roc_auc_score\n",
    "from collections import Counter\n",
    "from timeit import default_timer as timer\n",
    "import pickle"
   ]
  },
  {
   "cell_type": "code",
   "execution_count": 2,
   "metadata": {},
   "outputs": [],
   "source": [
    "args = sys.argv\n",
    "\n",
    "cohort_list = 'AGP_max_k5&AGP_max_k6&AGP_max_k7'#'T2D_k6&T2D_k7'#'Thomas_k6&Thomas_k7' #\"CRC_k6&CRC_k7\"#'Hispanic_k5&Hispanic_k6&Hispanic_k7'#Thomas_k6'#'Hispanic_k5&Hispanic_k6&Hispanic_k7'#'T2D_k6&T2D_k7'#\"CRC_k6&CRC_k7\"#'T2D_k6&T2D_k7' # 'AGP_max_k5&AGP_max_k6&AGP_max_k7'\n",
    "phenotype = 'bmi_corrected'#\"bin_t2d\"#'bin_crc_normal'#'antibiotic'#'bmi_corrected'#\"bin_antibiotic_last_year\"# 'bin_crc_adenomaORnormal'#\"\"bin_antibiotic_last_year\"#'bin_crc_normal'#\n",
    "pred_bool = 1\n",
    "args = ['./run_MINERVA_test_train_grid.sh','/Users/leahbriscoe/Documents/MicroBatch/microbatch_vc', cohort_list , 'kmer', 'BatchCorrected', phenotype, 1, 0,\n",
    "        10, 'minervaclrscale',\"MINERVA_grid_trans_clr_scale\",1,pred_bool]\n",
    "# args = ['./run_MINERVA_test_train_grid.sh','/Users/leahbriscoe/Documents/MicroBatch/microbatch_vc', cohort_list, 'kmer', 'BatchCorrected', phenotype, 1, 0,\n",
    "#         10, 'raw',\"raw_grid_trans_none\",0,pred_bool]\n",
    "# args = ['./run_MINERVA_test_train_grid.sh','/Users/leahbriscoe/Documents/MicroBatch/microbatch_vc', cohort_list, 'kmer', 'BatchCorrected', phenotype , 1, 0,\n",
    "#          10, 'combat',\"ComBat_grid_trans_none\",0,pred_bool]\n",
    "# args = ['./run_MINERVA_test_train_grid.sh','/Users/leahbriscoe/Documents/MicroBatch/microbatch_vc', cohort_list, 'kmer', 'BatchCorrected', phenotype , 1, 0,\n",
    "#          10, 'limma',\"limma_grid_trans_none\",0,pred_bool]\n",
    "\n",
    "# args = ['./run_MINERVA_test_train_grid.sh','/Users/leahbriscoe/Documents/MicroBatch/microbatch_vc',cohort_list, 'kmer', 'BatchCorrected', phenotype, 1, 0,\n",
    "#          10, 'bmc',\"bmc_grid_trans_none\",0,pred_bool]\n",
    "\n",
    "\n"
   ]
  },
  {
   "cell_type": "code",
   "execution_count": 3,
   "metadata": {},
   "outputs": [
    {
     "name": "stdout",
     "output_type": "stream",
     "text": [
      "['./run_MINERVA_test_train_grid.sh', '/Users/leahbriscoe/Documents/MicroBatch/microbatch_vc', 'AGP_max_k5&AGP_max_k6&AGP_max_k7', 'kmer', 'BatchCorrected', 'bmi_corrected', 1, 0, 10, 'minervaclrscale', 'MINERVA_grid_trans_clr_scale', 1, 1]\n"
     ]
    }
   ],
   "source": [
    "\n",
    "print(args)\n",
    "\n",
    "\n",
    "greater_folder = args[1] # what folder do you save your different datasets in\n",
    "study_names = args[2].split(\"&\")  # what is the name of the dataset (tells the program which folder to check)\n",
    "data_type = args[3] # type of data. kmer vs OTU\n",
    "\n",
    "prefix_name = args[4] # what is the prefix of the file name\n",
    "column_of_interest = args[5] # what is the phenotype you are predicting (use the same name in the column of the metadata you want to predict), this programs reads from metadata.txt\n",
    "\n",
    "norm_input = bool(int(args[6]))\n",
    "map_with_accession = bool(int(args[7]))\n",
    "num_pcs = 20\n",
    "num_pcs = int(args[8])\n",
    "special_name = args[9]\n",
    "method = args[10]\n",
    "if data_type == \"otu\" or data_type == \"kmer\":\n",
    "    data_folders = [greater_folder + \"/data/\" + study_name + \"/\" for study_name in study_names] \n",
    "    metadata_folder =   greater_folder + \"/data/\" + study_names[0] + \"/\"  \n",
    "else:\n",
    "    data_folders = [greater_folder + \"/data/\" + study_name + \"/\" + \"protect_\" + column_of_interest + \"/\" + prefix_name + \"_\"  for study_name in study_names] \n",
    "    metadata_folder = greater_folder + \"/data/\" + study_names[0] + \"/\" \n",
    "PC = bool(int(args[11]))\n",
    "pred = bool(int(args[12]))"
   ]
  },
  {
   "cell_type": "code",
   "execution_count": 4,
   "metadata": {},
   "outputs": [],
   "source": [
    "if pred:\n",
    "    all_datasets_dict = pickle.load(open( metadata_folder +\"_\" + special_name + \"_MINERVA_prediction_grid.pkl\", \"rb\" ))\n",
    "    trainKey = 'train_pearson_trained'\n",
    "    testKey ='test_pearson_trained'\n",
    "    valKey = 'val_pearson_trained'\n",
    "else:\n",
    "    all_datasets_dict = pickle.load(open( metadata_folder +\"_\" + special_name + \"_MINERVA_tt_grid.pkl\", \"rb\" ))\n",
    "    trainKey = 'train_auc_trained'\n",
    "    testKey ='test_auc_trained'\n",
    "    valKey = 'val_auc_trained'\n",
    "            "
   ]
  },
  {
   "cell_type": "code",
   "execution_count": 5,
   "metadata": {},
   "outputs": [],
   "source": [
    "#k5=all_datasets_dict['dataset0']\n",
    "#k6=all_datasets_dict['dataset0']\n",
    "#k7=all_datasets_dict['dataset0']"
   ]
  },
  {
   "cell_type": "code",
   "execution_count": 6,
   "metadata": {},
   "outputs": [],
   "source": [
    "# all_datasets_dict['dataset0'] = k5\n",
    "# all_datasets_dict['dataset1'] = k6\n",
    "# all_datasets_dict['dataset2'] = k7"
   ]
  },
  {
   "cell_type": "code",
   "execution_count": 7,
   "metadata": {},
   "outputs": [],
   "source": [
    "#VAL = all_datasets_dict\n",
    "#all_datasets_dict['dataset1'] = all_datasets_dict['dataset0']\n",
    "#all_datasets_dict['dataset0'] = VAL['dataset0']\n"
   ]
  },
  {
   "cell_type": "code",
   "execution_count": 8,
   "metadata": {},
   "outputs": [
    {
     "data": {
      "text/plain": [
       "dict_keys(['dataset0', 'dataset1', 'dataset2'])"
      ]
     },
     "execution_count": 8,
     "metadata": {},
     "output_type": "execute_result"
    }
   ],
   "source": [
    "all_datasets_dict.keys()"
   ]
  },
  {
   "cell_type": "code",
   "execution_count": 9,
   "metadata": {},
   "outputs": [
    {
     "data": {
      "text/plain": [
       "['AGP_max_k5', 'AGP_max_k6', 'AGP_max_k7']"
      ]
     },
     "execution_count": 9,
     "metadata": {},
     "output_type": "execute_result"
    }
   ],
   "source": [
    "study_names"
   ]
  },
  {
   "cell_type": "code",
   "execution_count": 10,
   "metadata": {},
   "outputs": [
    {
     "data": {
      "text/plain": [
       "<Figure size 640x480 with 1 Axes>"
      ]
     },
     "metadata": {},
     "output_type": "display_data"
    }
   ],
   "source": [
    "import matplotlib.pyplot as plt\n",
    "\n",
    "# check MINERVA PCs\n",
    "\n",
    "\n",
    "train_auc = []\n",
    "test_auc = []\n",
    "dataset_num = 1\n",
    "for i in range(num_pcs):\n",
    "      \n",
    "    if not PC:\n",
    "        train_auc.extend(all_datasets_dict['dataset' + str(dataset_num)][trainKey])\n",
    "        test_auc.extend(all_datasets_dict['dataset' + str(dataset_num)][testKey])\n",
    "    else:   \n",
    "        train_auc.extend(all_datasets_dict['dataset' + str(dataset_num)][\"PC\" + str(i)][trainKey])\n",
    "        test_auc.extend(all_datasets_dict['dataset' + str(dataset_num)][\"PC\" + str(i)][testKey])\n",
    "    \n",
    "x = np.array(train_auc)\n",
    "y = np.array(test_auc)\n",
    "plt.scatter( x,  y)\n",
    "\n",
    "m, b = np.polyfit(x, y, 1)\n",
    "\n",
    "plt.plot(x, m*x + b)\n",
    "\n",
    "plt.xlabel(\"Train AUC\")\n",
    "plt.ylabel(\"Test AUC\")\n",
    "plt.title(study_names[dataset_num] + \" MINERVA\")\n",
    "plt.show()"
   ]
  },
  {
   "cell_type": "code",
   "execution_count": 11,
   "metadata": {},
   "outputs": [
    {
     "data": {
      "text/plain": [
       "dict_keys(['number samples', 'PC0', 'PC1', 'PC2', 'PC3', 'PC4', 'PC5', 'PC6', 'PC7', 'PC8', 'PC9'])"
      ]
     },
     "execution_count": 11,
     "metadata": {},
     "output_type": "execute_result"
    }
   ],
   "source": [
    "all_datasets_dict['dataset0'].keys()"
   ]
  },
  {
   "cell_type": "code",
   "execution_count": 12,
   "metadata": {},
   "outputs": [],
   "source": [
    "total_pcs = 10"
   ]
  },
  {
   "cell_type": "code",
   "execution_count": 13,
   "metadata": {},
   "outputs": [
    {
     "data": {
      "image/png": "[encoded data removed]",
      "text/plain": [
       "<Figure size 432x288 with 1 Axes>"
      ]
     },
     "metadata": {
      "needs_background": "light"
     },
     "output_type": "display_data"
    }
   ],
   "source": [
    "# check MINERVA PCs\n",
    "dataset_num = 1\n",
    "\n",
    "\n",
    "train_auc = []\n",
    "test_auc = []\n",
    "for i in range(total_pcs):\n",
    "    if not PC:\n",
    "        train_auc.extend(all_datasets_dict['dataset' + str(dataset_num)][valKey])\n",
    "        test_auc.extend(all_datasets_dict['dataset' + str(dataset_num)][testKey])\n",
    "    else:   \n",
    "        train_auc.extend(all_datasets_dict['dataset' + str(dataset_num)][\"PC\" + str(i)][valKey])\n",
    "        test_auc.extend(all_datasets_dict['dataset' + str(dataset_num)][\"PC\" + str(i)][testKey])\n",
    "    \n",
    "x = np.array(train_auc)\n",
    "y = np.array(test_auc)\n",
    "plt.scatter( x,  y)\n",
    "\n",
    "m, b = np.polyfit(x, y, 1)\n",
    "\n",
    "plt.plot(x, m*x + b)\n",
    "\n",
    "plt.xlabel(\"Validation AUC\")\n",
    "plt.ylabel(\"Test AUC\")\n",
    "plt.title(study_names[dataset_num] +\" MINERVA\")\n",
    "plt.show()"
   ]
  },
  {
   "cell_type": "code",
   "execution_count": 14,
   "metadata": {},
   "outputs": [
    {
     "data": {
      "text/plain": [
       "'MINERVA_grid_trans_clr_scale'"
      ]
     },
     "execution_count": 14,
     "metadata": {},
     "output_type": "execute_result"
    }
   ],
   "source": [
    "method"
   ]
  },
  {
   "cell_type": "code",
   "execution_count": 15,
   "metadata": {},
   "outputs": [
    {
     "name": "stdout",
     "output_type": "stream",
     "text": [
      "0\n"
     ]
    },
    {
     "data": {
      "image/png": "[encoded data removed]",
      "text/plain": [
       "<Figure size 432x288 with 1 Axes>"
      ]
     },
     "metadata": {
      "needs_background": "light"
     },
     "output_type": "display_data"
    },
    {
     "name": "stdout",
     "output_type": "stream",
     "text": [
      "1\n"
     ]
    },
    {
     "data": {
      "image/png": "[encoded data removed]",
      "text/plain": [
       "<Figure size 432x288 with 1 Axes>"
      ]
     },
     "metadata": {
      "needs_background": "light"
     },
     "output_type": "display_data"
    },
    {
     "name": "stdout",
     "output_type": "stream",
     "text": [
      "2\n"
     ]
    },
    {
     "data": {
      "image/png": "[encoded data removed]",
      "text/plain": [
       "<Figure size 432x288 with 1 Axes>"
      ]
     },
     "metadata": {
      "needs_background": "light"
     },
     "output_type": "display_data"
    }
   ],
   "source": [
    "#check overall correlation or trend\n",
    "\n",
    "auc_collection = dict()\n",
    "pc_number_collection = dict()\n",
    "\n",
    "\n",
    "for dataset_num in range(len(study_names)):\n",
    "    print(dataset_num)\n",
    "    auc_val = []\n",
    "    pc_num = []\n",
    "    auc = []\n",
    "    plot_train = False\n",
    "    plot_validation = True\n",
    "    \n",
    "    if plot_validation:\n",
    "        extractKey = valKey\n",
    "    else:\n",
    "        extractKey = trainKey\n",
    "    \n",
    "    if not PC:\n",
    "        auc_val.append(np.mean(all_datasets_dict['dataset' + str(dataset_num)][valKey]))\n",
    "    else:\n",
    "\n",
    "        if plot_train:\n",
    "            ylab_input = \"Train AUC with PCs\"\n",
    "        else:\n",
    "            if plot_validation:\n",
    "                ylab_input = \"Validation AUC with PCs\"\n",
    "            else:\n",
    "                ylab_input = \"Test AUC with PCs\"\n",
    "        for i in range(total_pcs):\n",
    "            pc_num.append(i)\n",
    "            auc_val.append(np.mean(all_datasets_dict['dataset' + str(dataset_num)][\"PC\" + str(i)][valKey]))\n",
    "            if plot_train:\n",
    "                auc.append(np.mean(all_datasets_dict['dataset' + str(dataset_num)][\"PC\" + str(i)][trainKey]))\n",
    "            else:\n",
    "                if plot_validation:\n",
    "                    auc.append(np.mean(all_datasets_dict['dataset' + str(dataset_num)][\"PC\" + str(i)][valKey]))\n",
    "                else:\n",
    "                    auc.append(np.mean(all_datasets_dict['dataset' + str(dataset_num)][\"PC\" + str(i)][testKey]))\n",
    "\n",
    "            #export PC result for plotting\n",
    "            output_dict = dict()\n",
    "            if not pred:\n",
    "                methodkey = \"MINERVA_grid_PC\" + str(i) + \"_trans_clr_scale\"\n",
    "                output_dict[ methodkey]=dict()\n",
    "                output_dict[ methodkey]['Random Forest'] = dict()\n",
    "                output_dict[ methodkey]['Random Forest']['auc_all'] = all_datasets_dict['dataset' + str(dataset_num)][\"PC\" + str(i)][extractKey]\n",
    "                pickle.dump(output_dict , open( data_folders[dataset_num] +  data_type + \"_\" + prefix_name + \"_\" + column_of_interest + \"_\" + \"MINERVA_grid_PC\" + str(i) + \"_trans_clr_scale\" + \"_classification_auc.pkl\", \"wb\" ) )\n",
    "\n",
    "\n",
    "            else:\n",
    "                output_dict['pearson'] = all_datasets_dict['dataset' + str(dataset_num)][\"PC\" + str(i)][extractKey]\n",
    "                pickle.dump(output_dict , open( data_folders[dataset_num] +  data_type + \"_\" + prefix_name + \"_\" + column_of_interest + \"_\" + \"MINERVA_grid_PC\" + str(i) + \"_trans_clr_scale\" + \"_pearson_and_mse.pkl\", \"wb\" ) )\n",
    "\n",
    "\n",
    "        \n",
    "        x = np.array(pc_num)\n",
    "        y = np.array(auc)\n",
    "        plt.scatter( x,  y)\n",
    "\n",
    "        m, b = np.polyfit(x, y, 1)\n",
    "\n",
    "        plt.plot(x, m*x + b)\n",
    "\n",
    "        plt.xlabel(\"# PC\")\n",
    "        plt.ylabel(ylab_input)\n",
    "        plt.title(study_names[dataset_num] + \" MINERVA\")\n",
    "        plt.show()\n",
    "        #auc_collection.append(auc)\n",
    "    \n",
    "    \n",
    "    auc_collection[\"dataset\" + str(dataset_num)] = auc_val\n",
    "    if PC:\n",
    "        pc_number_collection[\"dataset\" + str(dataset_num)] = pc_num\n",
    "    \n",
    "\n",
    "# plt.plot(x1, y1, \"g\")\n",
    "\n",
    "\n",
    "\n",
    "# plt.plot(x2, y2, \"r\")"
   ]
  },
  {
   "cell_type": "code",
   "execution_count": 16,
   "metadata": {},
   "outputs": [
    {
     "data": {
      "text/plain": [
       "'val_pearson_trained'"
      ]
     },
     "execution_count": 16,
     "metadata": {},
     "output_type": "execute_result"
    }
   ],
   "source": [
    "extractKey\n",
    "\n"
   ]
  },
  {
   "cell_type": "code",
   "execution_count": 17,
   "metadata": {},
   "outputs": [
    {
     "name": "stdout",
     "output_type": "stream",
     "text": [
      "0\n",
      "0\n",
      "1\n",
      "0\n",
      "2\n",
      "6\n"
     ]
    }
   ],
   "source": [
    "if PC:\n",
    "    \n",
    "    best_pc_per_dataset = []\n",
    "    best_auc_per_dataset = []\n",
    "\n",
    "    for dataset_num in range(len(study_names)):\n",
    "\n",
    "\n",
    "        index_best_pc = auc_collection[\"dataset\" + str(dataset_num)].index(max(auc_collection[\"dataset\" + str(dataset_num)]))\n",
    "        print(dataset_num)\n",
    "        print(index_best_pc)\n",
    "        best_auc_per_dataset.append(auc_collection[\"dataset\" + str(dataset_num)][index_best_pc])\n",
    "        best_pc_per_dataset.append(index_best_pc)\n",
    "else:\n",
    "    best_auc_per_dataset = []\n",
    "    for dataset_num in [0,1]:\n",
    "        best_auc_per_dataset.append(auc_collection[\"dataset\" + str(dataset_num)])"
   ]
  },
  {
   "cell_type": "code",
   "execution_count": 18,
   "metadata": {},
   "outputs": [
    {
     "data": {
      "text/plain": [
       "[0.2191091320931332, 0.20340162115211682, 0.0024219795216279]"
      ]
     },
     "execution_count": 18,
     "metadata": {},
     "output_type": "execute_result"
    }
   ],
   "source": [
    "best_auc_per_dataset"
   ]
  },
  {
   "cell_type": "code",
   "execution_count": 19,
   "metadata": {},
   "outputs": [
    {
     "data": {
      "text/plain": [
       "[0.0010589830961883506,\n",
       " -0.0006114053896594466,\n",
       " 0.0018676181698057887,\n",
       " 0.00044492862918749885,\n",
       " -0.0035050110005836977,\n",
       " -0.002756626190188246,\n",
       " 0.0024219795216279,\n",
       " -0.002173528297824913,\n",
       " 0.0018894577917262698,\n",
       " -0.004083071378088852]"
      ]
     },
     "execution_count": 19,
     "metadata": {},
     "output_type": "execute_result"
    }
   ],
   "source": [
    "auc_collection[\"dataset\" + str(dataset_num)]"
   ]
  },
  {
   "cell_type": "code",
   "execution_count": 20,
   "metadata": {},
   "outputs": [],
   "source": [
    "if PC:\n",
    "    best_kmer = best_auc_per_dataset.index(max(best_auc_per_dataset))\n",
    "    best_pc = best_pc_per_dataset[best_kmer]\n",
    "else:\n",
    "    best_kmer = best_auc_per_dataset.index(max(best_auc_per_dataset))\n",
    "\n"
   ]
  },
  {
   "cell_type": "code",
   "execution_count": 21,
   "metadata": {},
   "outputs": [
    {
     "data": {
      "text/plain": [
       "0"
      ]
     },
     "execution_count": 21,
     "metadata": {},
     "output_type": "execute_result"
    }
   ],
   "source": [
    "best_kmer"
   ]
  },
  {
   "cell_type": "code",
   "execution_count": 22,
   "metadata": {},
   "outputs": [
    {
     "data": {
      "text/plain": [
       "0"
      ]
     },
     "execution_count": 22,
     "metadata": {},
     "output_type": "execute_result"
    }
   ],
   "source": [
    "best_pc"
   ]
  },
  {
   "cell_type": "code",
   "execution_count": 26,
   "metadata": {},
   "outputs": [
    {
     "name": "stdout",
     "output_type": "stream",
     "text": [
      "best_kmerAGP_max_k5\n"
     ]
    }
   ],
   "source": [
    "output_dict = dict()\n",
    "pc0_dict = dict()\n",
    "\n",
    "\n",
    "print(\"best_kmer\" + str(study_names[best_kmer]))\n",
    "if pred:\n",
    "    #pc0_dict[method]=dict()\n",
    "    if PC:\n",
    "        all_datasets_dict['dataset' + str(best_kmer)][\"PC\" + str(best_pc)][testKey]\n",
    "        output_dict['pearson'] = all_datasets_dict['dataset' + str(best_kmer)][\"PC\" + str(best_pc)][testKey]\n",
    "        pc0_dict['pearson'] = all_datasets_dict['dataset' + str(best_kmer)][\"PC0\"][testKey]\n",
    "        pickle.dump(pc0_dict , open( data_folders[best_kmer] +  data_type + \"_\" + prefix_name + \"_\" + column_of_interest + \"_MINERVA0_grid_trans_clr_scale\" + \"_pearson_and_mse.pkl\", \"wb\" ) )\n",
    "       \n",
    "    \n",
    "        \n",
    "    else:\n",
    "        output_dict['pearson'] = all_datasets_dict['dataset' + str(best_kmer)][testKey]\n",
    "    \n",
    "    \n",
    "    pickle.dump(output_dict , open( data_folders[best_kmer] +  data_type + \"_\" + prefix_name + \"_\" + column_of_interest + \"_\" + method + \"_pearson_and_mse.pkl\", \"wb\" ) )\n",
    "       \n",
    "else:\n",
    "    output_dict[method]=dict()\n",
    "    output_dict[method]['Random Forest'] = dict()\n",
    "    \n",
    "    pc0_dict['MINERVA0_grid_trans_clr_scale']=dict()\n",
    "    pc0_dict['MINERVA0_grid_trans_clr_scale']['Random Forest'] = dict()\n",
    "    \n",
    "    if PC:\n",
    "        all_datasets_dict['dataset' + str(best_kmer)][\"PC\" + str(best_pc)][testKey]\n",
    "        output_dict[method]['Random Forest']['auc_all'] = all_datasets_dict['dataset' + str(best_kmer)][\"PC\" + str(best_pc)][testKey]\n",
    "        pc0_dict['MINERVA0_grid_trans_clr_scale']['Random Forest']['auc_all'] = all_datasets_dict['dataset' + str(best_kmer)][\"PC0\"][testKey]\n",
    "        pickle.dump(pc0_dict , open( data_folders[best_kmer] +  data_type + \"_\" + prefix_name + \"_\" + column_of_interest + \"_MINERVA0_grid_trans_clr_scale\" + \"_classification_auc.pkl\", \"wb\" ) )\n",
    "       \n",
    "    \n",
    "        \n",
    "    else:\n",
    "        output_dict[method]['Random Forest']['auc_all'] = all_datasets_dict['dataset' + str(best_kmer)][testKey]\n",
    "        \n",
    "    \n",
    "    pickle.dump(output_dict , open( data_folders[best_kmer] +  data_type + \"_\" + prefix_name + \"_\" + column_of_interest + \"_\" + method + \"_classification_auc.pkl\", \"wb\" ) )\n",
    "    \n",
    "    \n",
    "    \n",
    "    "
   ]
  },
  {
   "cell_type": "code",
   "execution_count": 24,
   "metadata": {
    "scrolled": true
   },
   "outputs": [
    {
     "data": {
      "text/plain": [
       "'/Users/leahbriscoe/Documents/MicroBatch/microbatch_vc/data/AGP_max_k5/kmer_BatchCorrected_bmi_corrected_MINERVA_grid_trans_clr_scale_classification_auc.pkl'"
      ]
     },
     "execution_count": 24,
     "metadata": {},
     "output_type": "execute_result"
    }
   ],
   "source": [
    "data_folders[best_kmer] +  data_type + \"_\" + prefix_name + \"_\" + column_of_interest + \"_\" + method + \"_classification_auc.pkl\""
   ]
  },
  {
   "cell_type": "code",
   "execution_count": 25,
   "metadata": {},
   "outputs": [
    {
     "data": {
      "text/plain": [
       "'MINERVA_grid_trans_clr_scale'"
      ]
     },
     "execution_count": 25,
     "metadata": {},
     "output_type": "execute_result"
    }
   ],
   "source": [
    "method"
   ]
  }
 ],
 "metadata": {
  "kernelspec": {
   "display_name": "Python 3",
   "language": "python",
   "name": "python3"
  },
  "language_info": {
   "codemirror_mode": {
    "name": "ipython",
    "version": 3
   },
   "file_extension": ".py",
   "mimetype": "text/x-python",
   "name": "python",
   "nbconvert_exporter": "python",
   "pygments_lexer": "ipython3",
   "version": "3.6.8"
  }
 },
 "nbformat": 4,
 "nbformat_minor": 2
}
