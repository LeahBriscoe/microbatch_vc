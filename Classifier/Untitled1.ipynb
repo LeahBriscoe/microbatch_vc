{
 "cells": [
  {
   "cell_type": "code",
   "execution_count": 33,
   "metadata": {},
   "outputs": [
    {
     "name": "stdout",
     "output_type": "stream",
     "text": [
      "[[90 23 11 13]\n",
      " [ 8 16 51 37]\n",
      " [67 78  6  4]\n",
      " [33  2 18 42]]\n",
      "[137 112 155  95]\n",
      "[90 23 11 13]\n",
      "it0\n",
      "noccur [137]\n",
      "this is the length: 1\n",
      "M shape\n",
      "1\n",
      "sum sample: [137]\n",
      "new sumrow 0; [130]\n",
      "it1\n",
      "noccur [112]\n",
      "this is the length: 1\n",
      "M shape\n",
      "1\n",
      "sum sample: [112]\n",
      "new sumrow 0; [130]\n",
      "it2\n",
      "noccur [155]\n",
      "this is the length: 1\n",
      "M shape\n",
      "1\n",
      "sum sample: [155]\n",
      "new sumrow 0; [130]\n",
      "it3\n",
      "noccur [95]\n",
      "this is the length: 1\n",
      "M shape\n",
      "1\n",
      "sum sample: [95]\n",
      "new sumrow 0; [130]\n",
      "[[88. 22.  8. 12.]\n",
      " [ 9. 19. 63. 39.]\n",
      " [53. 67.  6.  4.]\n",
      " [44.  2. 21. 63.]]\n"
     ]
    }
   ],
   "source": [
    "#subsample the kmer matrix\n",
    "import pandas as pd\n",
    "import numpy as np\n",
    "import numpy as np\n",
    "from numpy.random import RandomState\n",
    "# evenmatrix=pd.read_csv('/Users/shavonna/Desktop/summer_project/gappedkmer/kmer_matrix_even.csv', sep=',',header=0,index_col=0)\n",
    "# ungappedmatrix=pd.read_csv('/Users/shavonna/Desktop/summer_project/gappedkmer/kmer_matrix_6.csv', sep=',',header=0,index_col=0)\n",
    "# sample = pd.read_csv('/Users/shavonna/Desktop/summer_project/samplematrix.csv',header=0,index_col=0)\n",
    "# evenmatrix = evenmatrix.values\n",
    "# ungappedmatrix = ungappedmatrix.values\n",
    "sample = np.array ([[90,8,67,33],[23,16,78,2],[11,51,6,18],[13,37,4,42]])\n",
    "sample = sample\n",
    "sample = sample.T\n",
    "sumrow = sample.sum(axis = 1)\n",
    "print(sample)\n",
    "print(sumrow)\n",
    "print(sample[0])\n",
    "def rarefaction(M, depth, seed=0):\n",
    "    prng = RandomState(seed) # reproducible results\n",
    "    noccur = np.sum(M, axis=1) # number of occurrences for each sample\n",
    "    print(\"noccur\",noccur)\n",
    "    print(\"this is the length: \" + str(len(noccur)))\n",
    "    nvar = M.shape[1] # number of variables\n",
    " # sampling depth\n",
    "    Mrarefied = np.empty_like(M)\n",
    "    print(\"M shape\")\n",
    "    print(M.shape[0])\n",
    "    for i in range(M.shape[0]): # for each sample\n",
    "        p = M[i] / float(noccur[i]) # relative frequency / probability\n",
    "        choice = prng.choice(nvar, depth, p=p)\n",
    "        Mrarefied[i] = np.bincount(choice, minlength=nvar)\n",
    "    return Mrarefied\n",
    "\n",
    "old_matrix = sample\n",
    "newmatrix = np.empty(shape = old_matrix.shape)\n",
    "#print(len(sample))\n",
    "for i in range(0,len(sample)):\n",
    "    print(\"it\" + str(i))\n",
    "    row1result = rarefaction(np.array([sample[i]]),130, seed=0)\n",
    "    #newmatrix  += row1result\n",
    "    newmatrix[i] = row1result[0]\n",
    "    print(\"sum sample:\", np.sum(np.array([sample[i]]),axis = 1))\n",
    "    print(\"new sumrow 0;\", np.sum(row1result, axis = 1))\n",
    "print(newmatrix)"
   ]
  },
  {
   "cell_type": "code",
   "execution_count": 31,
   "metadata": {},
   "outputs": [
    {
     "data": {
      "text/plain": [
       "4"
      ]
     },
     "execution_count": 31,
     "metadata": {},
     "output_type": "execute_result"
    }
   ],
   "source": [
    "newmatrix[0]"
   ]
  }
 ],
 "metadata": {
  "kernelspec": {
   "display_name": "Python 3",
   "language": "python",
   "name": "python3"
  },
  "language_info": {
   "codemirror_mode": {
    "name": "ipython",
    "version": 3
   },
   "file_extension": ".py",
   "mimetype": "text/x-python",
   "name": "python",
   "nbconvert_exporter": "python",
   "pygments_lexer": "ipython3",
   "version": "3.6.8"
  }
 },
 "nbformat": 4,
 "nbformat_minor": 2
}
