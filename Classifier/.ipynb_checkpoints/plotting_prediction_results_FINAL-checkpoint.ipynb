{
 "cells": [
  {
   "cell_type": "code",
   "execution_count": 1,
   "metadata": {},
   "outputs": [],
   "source": [
    "import pickle\n",
    "import pandas as pd\n",
    "import seaborn as sns\n",
    "import matplotlib.pyplot as plt\n",
    "import os\n",
    "from scipy.stats import ttest_rel\n",
    "\n",
    "\n"
   ]
  },
  {
   "cell_type": "code",
   "execution_count": 2,
   "metadata": {},
   "outputs": [],
   "source": [
    "data_folder = '/Users/leahbriscoe/Documents/MicroBatch/microbatch_vc/data/'\n",
    "plot_folder = '/Users/leahbriscoe/Documents/MicroBatch/microbatch_vc/plots/'"
   ]
  },
  {
   "cell_type": "code",
   "execution_count": null,
   "metadata": {},
   "outputs": [],
   "source": []
  },
  {
   "cell_type": "code",
   "execution_count": 3,
   "metadata": {},
   "outputs": [
    {
     "name": "stdout",
     "output_type": "stream",
     "text": [
      "HELLO\n",
      "H1\n"
     ]
    }
   ],
   "source": [
    "alternate_color = False\n",
    "simple_minerva_label = False\n",
    "\n",
    "\n",
    "inclu_DCC = False\n",
    "method_name = \"Tuned PCA corr.\"\n",
    "fixed_method_name = \"Fixed PCA corr.\"\n",
    "key =\"agp_abx_otu\"# \"gibbons_otu\"   #\"MINERVA_grid_t2d_calibrate\" \n",
    "#  \"gibbons_kmer\"    \"gibbons_otu\"    \"tom_\"  \"thomas\" \"agp_abx_otu\" \"agp_abx_kmer\" \"agp_bmi_otu\" \"agp_bmi_kmer\"\n",
    "subfile = \"\"\n",
    "select_columns_bool = False\n",
    "shortened_shortened = False\n",
    "trans_vec = True\n",
    "add_linmodel_type = False\n",
    "\n",
    "\n",
    "\n",
    "\n",
    "if \"calibrate\" in key:\n",
    "    numPc = [0,1,2,3,4,5,6,7,8,9]\n",
    "\n",
    "    if \"t2d\" in key:\n",
    "        \n",
    "        phen = [\"bin_t2d\"  for i in range(len(numPc))]\n",
    "        phen_pretty = \"Type II diabetes status\"\n",
    "        folder_names = [\"T2D_k7\" for i in range(0,len(numPc))]\n",
    "        limit_spec =(0.4,0.9)\n",
    "        \n",
    "    elif \"gibbons_kmer\" in key:\n",
    "        phen = [\"bin_crc_normal\"  for i in range(len(numPc))]\n",
    "        phen_pretty = \"CRC (CRC-16S)\"\n",
    "        folder_names = [\"CRC_k7\" for i in range(0,len(numPc))]\n",
    "        limit_spec =(0.55,0.95)\n",
    "        \n",
    "    elif \"gibbons_otu\" in key:\n",
    "        phen = [\"bin_crc_normal\"  for i in range(len(numPc))]\n",
    "        phen_pretty = \"CRC (CRC-16S OTUs)\"\n",
    "        folder_names = [\"CRC_otu\" for i in range(0,len(numPc))]\n",
    "        limit_spec =(0.55,0.95)\n",
    "        \n",
    "    elif \"thomas\" in key:\n",
    "        phen = [\"bin_crc_normal\"  for i in range(len(numPc))]\n",
    "        phen_pretty = \"CRC \\n (CRC-WGS 7-mers)\"\n",
    "        folder_names = [\"Thomas_k7\" for i in range(0,len(numPc))]\n",
    "        limit_spec =(0.52,0.92)\n",
    "        \n",
    "    elif \"tom_\" in key:\n",
    "        phen = [\"bin_crc_normal\"  for i in range(len(numPc)+1)]\n",
    "        phen_pretty = \"CRC \\n (CRC-WGS OTUs)\"\n",
    "        folder_names = [\"CRC_thomas_otu\" for i in range(0,(len(numPc)+1))]\n",
    "        limit_spec =(0.52,0.92)\n",
    "    elif \"hispanic\" in key:\n",
    "        phen = [\"antibiotic\"  for i in range(len(numPc))]\n",
    "        phen_pretty = \"Antibiotic history (HCHS/SOL)\"\n",
    "        folder_names = [\"Hispanic_k7\" for i in range(0,len(numPc))]\n",
    "        limit_spec =(0.5,0.81)   \n",
    "        \n",
    "    elif \"abx_kmer\" in key:\n",
    "        phen = [\"bin_antibiotic_last_year\"  for i in range(len(numPc))]\n",
    "        phen_pretty = \"abx (6-mer)\"\n",
    "        folder_names = [\"AGP_max_k6\" for i in range(0,len(numPc))]\n",
    "        limit_spec =(0.57,0.7)\n",
    "    \n",
    "    elif \"abx_otu\" in key:\n",
    "        phen = [\"bin_antibiotic_last_year\"  for i in range(len(numPc))]\n",
    "        phen_pretty = \"abx (OTU)\"\n",
    "        folder_names = [\"AGP_complete_otu\" for i in range(0,len(numPc))]\n",
    "        limit_spec =(0.57,0.7)\n",
    "    \n",
    "    elif \"bmi_kmer\" in key:\n",
    "        phen = [\"bmi_corrected\"  for i in range(len(numPc))]\n",
    "        phen_pretty = \"BMI (5-mer)\"\n",
    "        folder_names = [\"AGP_max_k5\" for i in range(0,len(numPc))]\n",
    "        limit_spec =(-0.12,0.30)\n",
    "    elif \"bmi_otu\" in key:\n",
    "        phen = [\"bmi_corrected\"  for i in range(len(numPc))]\n",
    "        phen_pretty = \"BMI (OTU)\"\n",
    "        folder_names = [\"AGP_complete_otu\" for i in range(0,len(numPc))]\n",
    "        limit_spec =(-0.12,0.30)\n",
    "    \n",
    "        \n",
    "        \n",
    "    if any(x in key for x in [\"t2d\",\"gibbons\",\"thomas\",\"hispanic\",\"agp_abx\",\"tom\"]):\n",
    "        metric_word = \"auc_all\"\n",
    "        chosen_classifier = \"Random Forest\"\n",
    "        title = 'AUC for prediction of ' + phen_pretty #'AUC for prediction of antibiotic history'#'Pearson correlation of predicted body mass index (BMI)'#'AUC for prediction of antibiotic history'#' #AUC for prediction of antibiotic history' #\n",
    "        phen_type = \"class\"\n",
    "    elif \"bmi\" in key:\n",
    "        metric_word = \"pearson\"\n",
    "        chosen_classifier = \"\"\n",
    "        title = 'Pearson for prediction of ' + phen_pretty #' #AUC for prediction of antibiotic history' #\n",
    "        phen_type = \"pred\"\n",
    "     \n",
    "    select_columns_bool = True\n",
    "    if simple_minerva_label:\n",
    "        select_labels = numPc #\"Refactor (n. PCs =9)\",\"SmartSVA (n. PCs =3)\",\n",
    "   \n",
    "    else:\n",
    "        select_labels = numPc#[0,1,2,3,4,5,6,7,8,9,10]#[\"raw\",\"BMC\",\"ComBat\",\"limma\",\"SmartSVA (n. PCs =5)\",\"MINERVA (n. PCs =5)\"]#[0,1,2,3,4,5,6,7,8,9,10]#\n",
    "    file_names =['MINERVA_grid_PC' + str(numPc[i]) for i in range(0,len(numPc))]\n",
    "    \n",
    "    pair_test_all = False\n",
    "    shortened=True\n",
    "    not_rotate=True\n",
    "    trans_vec = False\n",
    "    trans =  [\"clr_scale\" for i in range(0,len(numPc))]\n",
    "    \n",
    "#     if \"tom_\" in key:\n",
    "#         select_labels = [\"raw\"] + numPc#[0,1,2,3,4,5,6,7,8,9,10]#[\"raw\",\"BMC\",\"ComBat\",\"limma\",\"SmartSVA (n. PCs =5)\",\"MINERVA (n. PCs =5)\"]#[0,1,2,3,4,5,6,7,8,9,10]#\n",
    "#         file_names =[\"raw_grid\"] + ['MINERVA_grid_PC' + str(numPc[i]) for i in range(0,len(numPc))]\n",
    "#         trans_vec = True\n",
    "#         trans = [\"none\"] + [\"clr_scale\" for i in range(0,len(numPc))]\n",
    "        \n",
    "else:\n",
    "    \n",
    "    numPc = [0,0,0,0,0,0,0] \n",
    "    \n",
    "    if \"t2d\" in key:\n",
    "\n",
    "        phen = [\"bin_t2d\"  for i in range(len(numPc))]\n",
    "        phen_pretty = \"Type II diabetes status\"\n",
    "        folder_names = [\"T2D_k6\",\"T2D_k6\",\"T2D_k6\",\"T2D_k6\",\"T2D_k7\",\"T2D_k7\"]\n",
    "        limit_spec =(0.4,1)\n",
    "\n",
    "    elif \"gibbons_kmer\" in key:\n",
    "        phen = [\"bin_crc_normal\"  for i in range(len(numPc))]\n",
    "        phen_pretty = \"CRC \\n (k-mers CRC-16S)\"\n",
    "        folder_names = [\"CRC_k7\" for i in range(0,len(numPc))]\n",
    "        limit_spec =(0.52,1.0)\n",
    "        file_names = ['raw_grid',\"domaincorr_grid\",'ComBat_grid','limma_grid','bmc_grid','MINERVA_grid_PC3','MINERVA_grid_PC1'] \n",
    "\n",
    "    elif \"gibbons_otu\" in key:\n",
    "        phen = [\"bin_crc_normal\"  for i in range(len(numPc))]\n",
    "        phen_pretty = \"CRC \\n (OTU CRC-16S)\"\n",
    "        folder_names = [\"CRC_otu\" for i in range(0,len(numPc))]\n",
    "        limit_spec =(0.52,1.0)\n",
    "        file_names = ['raw_grid',\"domaincorr_grid\",'ComBatlogscale_grid','limma_grid','bmc_grid','MINERVA_grid_PC3','MINERVA_grid_PC2'] \n",
    "\n",
    "\n",
    "    elif \"thomas\" in key:\n",
    "        phen = [\"bin_crc_normal\"  for i in range(len(numPc))]\n",
    "        phen_pretty = \"CRC \\n (k-mers CRC-WGS)\"\n",
    "        folder_names = [\"Thomas_k7\",\"Thomas_k7\",\"Thomas_k6\",\"Thomas_k6\",\"Thomas_k6\",\"Thomas_k7\",\"Thomas_k7\"]\n",
    "        limit_spec =(0.53,0.93)\n",
    "        file_names = ['raw_grid',\"domaincorr_grid\",'ComBat_grid','limma_grid','bmc_grid','MINERVA_grid_PC33','MINERVA_grid_PC3'] \n",
    "\n",
    "\n",
    "#     elif \"thoma_v_otu\" in key:\n",
    "#         numPc = [0,0,0,0,0,0,0,0] \n",
    "#         phen = [\"bin_crc_normal\"  for i in range(len(numPc))]\n",
    "#         phen_pretty = \"colorectal cancer status (Thomas et al.)\"\n",
    "#         folder_names = [\"CRC_thomas_otu\",\"CRC_thomas_otu\",\"Thomas_k7\",\"Thomas_k6\",\"Thomas_k6\",\"Thomas_k6\",\"Thomas_k7\",\"Thomas_k7\"]\n",
    "#         limit_spec =(0.5,1)\n",
    "    elif \"tom_\" in key:\n",
    "        phen = [\"bin_crc_normal\"  for i in range(len(numPc))]\n",
    "        phen_pretty = \"CRC \\n (OTUs CRC-WGS)\"\n",
    "        #folder_names = [\"CRC_thomas_otu\",\"CRC_thomas_otu\",\"Thomas_k7\",\"Thomas_k6\",\"Thomas_k7\",\"Thomas_k7\"]\n",
    "        folder_names = [\"CRC_thomas_otu\",\"CRC_thomas_otu\",\"CRC_thomas_otu\",\"CRC_thomas_otu\", \"CRC_thomas_otu\",\"CRC_thomas_otu\",\"CRC_thomas_otu\"]\n",
    "        limit_spec =(0.53,0.93)\n",
    "        file_names = ['raw_grid',\"domaincorr_grid\",'ComBatlogscale_grid','limma_grid','bmc_grid','MINERVA_grid_PC3','MINERVA_grid_PC2'] \n",
    "\n",
    "\n",
    "\n",
    "    elif \"tomLODO\" in key:\n",
    "        phen = [\"bin_crc_normal\"  for i in range(len(numPc))]\n",
    "        phen_pretty = \"CRC (Thomas et al.)\"\n",
    "        folder_names = [\"CRC_thomas_otu\",\"CRC_thomas_otu\",\"Thomas_k7\",\"Thomas_k6\",\"Thomas_k7\"]\n",
    "        limit_spec =(0.3,1)\n",
    "\n",
    "    elif \"tomDC\" in key:\n",
    "        phen = [\"bin_crc_normal\",\"bin_crc_normal\",\"bin_crc_normal\",\"bin_crc_adenomaORnormal\",\"bin_crc_adenomaORnormal\",\"bin_crc_adenomaORnormal\"]\n",
    "        phen_pretty = \"CRC (Thomas et al.)\"\n",
    "        folder_names = [\"CRC_thomas_otu\",\"CRC_thomas_otu\",\"CRC_thomas_otu\",\"CRC_thomas_otu\",\"CRC_thomas_otu\",\"CRC_thomas_otu\"]\n",
    "        limit_spec =(0.3,1)\n",
    "\n",
    "    elif \"hispanic\" in key:\n",
    "        phen = [\"antibiotic\"  for i in range(len(numPc))]\n",
    "        phen_pretty = \"Antibiotic history (HCHS/SOL)\"\n",
    "        folder_names = [\"Hispanic_k6\",\"Hispanic_k6\",\"Hispanic_k6\",\"Hispanic_k6\",\"Hispanic_k7\",\"Hispanic_k7\"]\n",
    "        limit_spec =(0.5,0.9)\n",
    "\n",
    "\n",
    "\n",
    "\n",
    "    elif \"agp_bmi_kmer\" in key:\n",
    "\n",
    "        phen = [\"bmi_corrected\"  for i in range(len(numPc))]\n",
    "        phen_pretty = \"BMI \\n (k-mers AGP)\"\n",
    "        folder_names = [\"AGP_max_k5\" for i in range(len(phen))]\n",
    "        limit_spec = (-0.06,0.33)#(-0.003,0.081) #(-0.06,0.33)\n",
    "        file_names = ['raw_grid',\"domaincorr_grid\",'ComBat_grid','limma_grid','bmc_grid','MINERVA_grid_PC3','MINERVA_grid_PC1'] \n",
    "\n",
    "    elif \"agp_bmi_otu\" in key:\n",
    "        phen = [\"bmi_corrected\"  for i in range(len(numPc))]\n",
    "        phen_pretty = \"BMI \\n (OTUs AGP)\"\n",
    "        folder_names = [\"AGP_complete_otu\" for i in range(len(phen))]\n",
    "        limit_spec =(-0.06,0.33) #(-0.003,0.081) #(-0.06,0.33)\n",
    "        file_names = ['raw_grid',\"domaincorr_grid\",'ComBat_grid','limma_grid','bmc_grid','MINERVA_grid_PC3','MINERVA_grid_PC8'] \n",
    "\n",
    "    elif \"agp_abx_kmer\" in key:\n",
    "\n",
    "        phen = [\"bin_antibiotic_last_year\"  for i in range(len(numPc))]\n",
    "        phen_pretty = \"antibiotic history \\n (k-mers AGP)\"\n",
    "        folder_names = [\"AGP_max_k6\",\"AGP_max_k7\",\"AGP_max_k6\",\"AGP_max_k6\",\"AGP_max_k6\",\"AGP_max_k6\",\"AGP_max_k6\"]\n",
    "        limit_spec =(0.585,0.72)\n",
    "        file_names = ['raw_grid',\"domaincorr_grid\",'ComBat_grid','limma_grid','bmc_grid','MINERVA_grid_PC3','MINERVA_grid_PC1'] \n",
    "    elif \"agp_abx_otu\" in key:\n",
    "   \n",
    "        phen = [\"bin_antibiotic_last_year\"  for i in range(len(numPc))]\n",
    "        phen_pretty = \"antibiotic history \\n (OTUs AGP)\"\n",
    "        folder_names = [\"AGP_complete_otu\" for i in range(len(phen))]\n",
    "        limit_spec =(0.585,0.72)\n",
    "        file_names = ['raw_grid',\"domaincorr_grid\",'ComBat_grid','limma_grid','bmc_grid','MINERVA_grid_PC3','MINERVA_grid_PC2'] \n",
    "\n",
    "\n",
    "if any(x in key for x in [\"t2d\",\"gibbons\",\"thoma\",\"hispanic\",\"tom\",\"abx\"]):\n",
    "    metric_word = \"auc_all\"\n",
    "    chosen_classifier = \"Random Forest\"\n",
    "    title = 'AUC for prediction of ' + phen_pretty #'AUC for prediction of antibiotic history'#'Pearson correlation of predicted body mass index (BMI)'#'AUC for prediction of antibiotic history'#' #AUC for prediction of antibiotic history' #\n",
    "    phen_type = \"class\"\n",
    "elif \"bmi\" in key:\n",
    "    metric_word = \"pearson\"\n",
    "    chosen_classifier = \"\"\n",
    "    title = 'Pearson for prediction of ' + phen_pretty #' #AUC for prediction of antibiotic history' #\n",
    "    phen_type = \"pred\"\n",
    "\n",
    "    #select_labels = [\"Before\",\"ComBat\",\"limma\",\"BMC\",\"CLR\",\"PC Correction\\n (PC 1)\"]#[0,1,2,3,4,5,6,7,8,9,10]#[\"raw\",\"BMC\",\"ComBat\",\"limma\",\"SmartSVA (n. PCs =5)\",\"MINERVA (n. PCs =5)\"]#[0,1,2,3,4,5,6,7,8,9,10]#\n",
    "    select_labels = [\"Before\",\"ComBat\",\"limma\",\"BMC\",\"PC Correction\\n (PC 1)\"]#[0,1,2,3,4,5,6,7,8,9,10]#[\"raw\",\"BMC\",\"ComBat\",\"limma\",\"SmartSVA (n. PCs =5)\",\"MINERVA (n. PCs =5)\"]#[0,1,2,3,4,5,6,7,8,9,10]#\n",
    "\n",
    "if \"calibrate\" not in key:\n",
    "    select_columns_bool = True\n",
    "\n",
    "    pair_test_all = False\n",
    "    shortened=True\n",
    "    not_rotate=False\n",
    "    trans_vec = True\n",
    "    #trans = [\"none\",\"none\",\"none\",\"none\",\"none\",\"clr_scale\",\"clr_scale\"]\n",
    "\n",
    "\n",
    "    print(\"HELLO\")\n",
    "\n",
    "    if \"gibbons_kmer\" in key:\n",
    "        print(\"H4\")\n",
    "        trans = [\"none\",\"none\",\"none\",\"none\",\"none\",\"clr_scale\",\"clr_scale\"]\n",
    "\n",
    "        select_labels = [\"Uncorrected\",\"DCC\",\"ComBat\",\"limma\",\"BMC\",fixed_method_name,method_name] #(method_name + \" (PC 1)\")]#[0,1,2,3,4,5,6,7,8,9,10]#[\"raw\",\"BMC\",\"ComBat\",\"limma\",\"SmartSVA (n. PCs =5)\",\"MINERVA (n. PCs =5)\"]#[0,1,2,3,4,5,6,7,8,9,10]#\n",
    "\n",
    "\n",
    "    elif \"gibbons_otu\" in key:\n",
    "\n",
    "        trans = [\"none\",\"none\",\"logscale\",\"none\",\"none\",\"clr_scale\",\"clr_scale\"]\n",
    "\n",
    "        select_labels = [\"Uncorrected\",\"DCC\",\"ComBat\",\"limma\",\"BMC\",fixed_method_name,method_name]#(method_name + \" (PC 1-2)\")]#[0,1,2,3,4,5,6,7,8,9,10]#[\"raw\",\"BMC\",\"ComBat\",\"limma\",\"SmartSVA (n. PCs =5)\",\"MINERVA (n. PCs =5)\"]#[0,1,2,3,4,5,6,7,8,9,10]#\n",
    "\n",
    "\n",
    "    elif \"tom_\" in key:\n",
    "        print(\"H3\")\n",
    "\n",
    "        trans = [\"none\",\"none\",\"logscale\",\"none\",\"none\",\"clr_scale\",\"clr_scale\"]\n",
    "\n",
    "        select_labels = [\"Uncorrected\",\"DCC\",\"ComBat\",\"limma\",\"BMC\",fixed_method_name ,method_name]# + \" (PC 1-2)\")]#[0,1,2,3,4,5,6,7,8,9,10]#[\"raw\",\"BMC\",\"ComBat\",\"limma\",\"SmartSVA (n. PCs =5)\",\"MINERVA (n. PCs =5)\"]#[0,1,2,3,4,5,6,7,8,9,10]#\n",
    "\n",
    "\n",
    "\n",
    "    elif \"thomas\" in key:\n",
    "        print(\"H2\")\n",
    "        trans = [\"none\",\"none\",\"none\",\"none\",\"none\",\"clr_scale\",\"clr_scale\"]\n",
    "\n",
    "        select_labels = [\"Uncorrected\",\"DCC\",\"ComBat\",\"limma\",\"BMC\",fixed_method_name,method_name]# + \" (PC 1-3)\")]#[0,1,2,3,4,5,6,7,8,9,10]#[\"raw\",\"BMC\",\"ComBat\",\"limma\",\"SmartSVA (n. PCs =5)\",\"MINERVA (n. PCs =5)\"]#[0,1,2,3,4,5,6,7,8,9,10]#\n",
    "\n",
    "\n",
    "\n",
    "    elif \"agp_abx_otu\" in key:\n",
    "        print(\"H1\")\n",
    "        trans = [\"none\",\"none\",\"logscale\",\"none\",\"none\",\"clr_scale\",\"clr_scale\"]\n",
    "\n",
    "        select_labels = [\"Uncorrected\",\"DCC\",\"ComBat\",\"limma\",\"BMC\",fixed_method_name,method_name]# + \" (PC 1-2)\")]#[0,1,2,3,4,5,6,7,8,9,10]#[\"raw\",\"BMC\",\"ComBat\",\"limma\",\"SmartSVA (n. PCs =5)\",\"MINERVA (n. PCs =5)\"]#[0,1,2,3,4,5,6,7,8,9,10]#\n",
    "\n",
    "\n",
    "    elif \"agp_abx_kmer\" in key:\n",
    "        print(\"HE\")\n",
    "        #trans = [\"none\",\"none\",\"none\",\"none\",\"clr_scale\"]\n",
    "        #select_labels = [\"Uncorrected\",\"ComBat\",\"limma\",\"BMC\",(method_name + \"\\n (PC 1)\")]#[0,1,2,3,4,5,6,7,8,9,10]#[\"raw\",\"BMC\",\"ComBat\",\"limma\",\"SmartSVA (n. PCs =5)\",\"MINERVA (n. PCs =5)\"]#[0,1,2,3,4,5,6,7,8,9,10]#\n",
    "        trans = [\"none\",\"none\",\"none\",\"none\",\"none\",\"clr_scale\",\"clr_scale\"]\n",
    "\n",
    "        select_labels = [\"Uncorrected\",\"DCC\",\"ComBat\",\"limma\",\"BMC\",fixed_method_name ,method_name]# + \" (PC 1)\")]#[0,1,2,3,4,5,6,7,8,9,10]#[\"raw\",\"BMC\",\"ComBat\",\"limma\",\"SmartSVA (n. PCs =5)\",\"MINERVA (n. PCs =5)\"]#[0,1,2,3,4,5,6,7,8,9,10]#\n",
    "\n",
    "\n",
    "\n",
    "    elif \"agp_bmi_otu\" in key:\n",
    "        print(\"HE\")\n",
    "        trans = [\"none\",\"none\",\"logscale\",\"none\",\"none\",\"clr_scale\",\"clr_scale\"]\n",
    "\n",
    "        select_labels = [\"Uncorrected\",\"DCC\",\"ComBat\",\"limma\",\"BMC\",fixed_method_name ,method_name] # + \" (PC 1-8)\")]#[0,1,2,3,4,5,6,7,8,9,10]#[\"raw\",\"BMC\",\"ComBat\",\"limma\",\"SmartSVA (n. PCs =5)\",\"MINERVA (n. PCs =5)\"]#[0,1,2,3,4,5,6,7,8,9,10]#\n",
    "    elif \"agp_bmi_kmer\" in key:\n",
    "\n",
    "        trans = [\"none\",\"none\",\"none\",\"none\",\"none\",\"clr_scale\",\"clr_scale\"]\n",
    "\n",
    "        select_labels = [\"Uncorrected\",\"DCC\",\"ComBat\",\"limma\",\"BMC\",fixed_method_name ,method_name] # + \" (PC 1)\")]#[0,1,2,3,4,5,6,7,8,9,10]#[\"raw\",\"BMC\",\"ComBat\",\"limma\",\"SmartSVA (n. PCs =5)\",\"MINERVA (n. PCs =5)\"]#[0,1,2,3,4,5,6,7,8,9,10]#\n",
    "\n",
    "\n",
    "    else:\n",
    "        print(\"NO\")\n",
    "        select_labels = [\"Uncorrected\",\"ComBat\",\"limma\",\"BMC\",\"CLR\",\"PC Correction\\n (PC 1)\"]#[0,1,2,3,4,5,6,7,8,9,10]#[\"raw\",\"BMC\",\"ComBat\",\"limma\",\"SmartSVA (n. PCs =5)\",\"MINERVA (n. PCs =5)\"]#[0,1,2,3,4,5,6,7,8,9,10]#\n",
    "\n",
    "\n",
    "lin_model = \"reg\"\n",
    "if not trans_vec:\n",
    "    trans = [\"clr_scale\" for i in range(len(file_names))]\n",
    "data_type = \"kmer\"\n",
    "\n",
    "file_names = [file_names[f] + \"_trans_\" + trans[f] for f in range(len(file_names))]\n",
    "nice_names = [\"7\" + '-mer' for i in range(len(numPc))]\n",
    "\n",
    "if phen_type == \"cont\" or phen_type == \"pred\":\n",
    "    \n",
    "    metric_word = 'pearson' # 'auc_all'#'pearson' # 'auc_all'#''auc_all' # 'pearson' # \n",
    "    classifier_name = 'bmi_prediction' #'bin_antibiotic_last_year'### #'bin_omnivore_diet'#'' 'bin_antibiotic_last_year'# #'Naive Bayes' #'\n",
    "    classifier = 'Regression'# \"Random Forest\"##\"Random Forest\"#'Regression'#\"Random Forest\"\n",
    "    classifier_ofc = \"Lin\"\n",
    "    title = 'Pearson correlation of ' + phen_pretty# 'AUC for prediction of antibiotic history'#'AUC for prediction of antibiotic history'#'Pearson correlation of predicted body mass index (BMI)'#'AUC for prediction of antibiotic history'#' #AUC for prediction of antibiotic history' #\n",
    "    special_name = phen[0] #\"Antibiotic history class prediction\"#\"Antibiotic history class prediction\"#\"BMI prediction\" #\"Antibiotic history class prediction\"#\"BMI prediction\"# \"Antibody prediction\"# \n",
    "    sq_pearson = False\n",
    "else:\n",
    "    #'pearson' # 'auc_all'#''auc_all' # 'pearson' # \n",
    "    classifier_name = 'bin_antibiotic_last_year'### #'bin_omnivore_diet'#'' 'bin_antibiotic_last_year'# #'Naive Bayes' #'\n",
    "    classifier_ofc = \"Mixed\"\n",
    "    classifier = [chosen_classifier for f in file_names]#\"Naive Bayes\"#\"\"Naive Bayes\"#Random Forest\"#Random Forest\"#\"#'Regression'#\"Random Forest\"\n",
    "\n",
    "    #title = 'AUC for prediction of ' + phen_pretty #'AUC for prediction of antibiotic history'#'Pearson correlation of predicted body mass index (BMI)'#'AUC for prediction of antibiotic history'#' #AUC for prediction of antibiotic history' #\n",
    "    special_name = phen[0] #\"Antibiotic history class prediction\"#\"BMI prediction\" #\"Antibiotic history class prediction\"#\"BMI prediction\"# \"Antibody prediction\"# \n",
    "    sq_pearson = False\n",
    " "
   ]
  },
  {
   "cell_type": "code",
   "execution_count": 4,
   "metadata": {},
   "outputs": [
    {
     "data": {
      "text/plain": [
       "True"
      ]
     },
     "execution_count": 4,
     "metadata": {},
     "output_type": "execute_result"
    }
   ],
   "source": [
    "trans_vec\n"
   ]
  },
  {
   "cell_type": "code",
   "execution_count": 5,
   "metadata": {},
   "outputs": [
    {
     "data": {
      "text/plain": [
       "['none', 'none', 'logscale', 'none', 'none', 'clr_scale', 'clr_scale']"
      ]
     },
     "execution_count": 5,
     "metadata": {},
     "output_type": "execute_result"
    }
   ],
   "source": [
    "trans"
   ]
  },
  {
   "cell_type": "code",
   "execution_count": null,
   "metadata": {},
   "outputs": [],
   "source": []
  },
  {
   "cell_type": "code",
   "execution_count": 6,
   "metadata": {},
   "outputs": [],
   "source": [
    "df_metric = pd.DataFrame()"
   ]
  },
  {
   "cell_type": "code",
   "execution_count": 7,
   "metadata": {},
   "outputs": [
    {
     "data": {
      "text/plain": [
       "False"
      ]
     },
     "execution_count": 7,
     "metadata": {},
     "output_type": "execute_result"
    }
   ],
   "source": [
    "simple_minerva_label"
   ]
  },
  {
   "cell_type": "code",
   "execution_count": 8,
   "metadata": {
    "scrolled": true
   },
   "outputs": [
    {
     "name": "stdout",
     "output_type": "stream",
     "text": [
      "/Users/leahbriscoe/Documents/MicroBatch/microbatch_vc/data/AGP_complete_otu/kmer_BatchCorrected_bin_antibiotic_last_year_raw_grid_trans_none_classification_auc.pkl\n",
      "/Users/leahbriscoe/Documents/MicroBatch/microbatch_vc/data/AGP_complete_otu/kmer_BatchCorrected_bin_antibiotic_last_year_domaincorr_grid_trans_none_classification_auc.pkl\n",
      "/Users/leahbriscoe/Documents/MicroBatch/microbatch_vc/data/AGP_complete_otu/kmer_BatchCorrected_bin_antibiotic_last_year_ComBat_grid_trans_logscale_classification_auc.pkl\n",
      "/Users/leahbriscoe/Documents/MicroBatch/microbatch_vc/data/AGP_complete_otu/kmer_BatchCorrected_bin_antibiotic_last_year_limma_grid_trans_none_classification_auc.pkl\n",
      "/Users/leahbriscoe/Documents/MicroBatch/microbatch_vc/data/AGP_complete_otu/kmer_BatchCorrected_bin_antibiotic_last_year_bmc_grid_trans_none_classification_auc.pkl\n",
      "/Users/leahbriscoe/Documents/MicroBatch/microbatch_vc/data/AGP_complete_otu/kmer_BatchCorrected_bin_antibiotic_last_year_MINERVA_grid_PC3_trans_clr_scale_classification_auc.pkl\n",
      "/Users/leahbriscoe/Documents/MicroBatch/microbatch_vc/data/AGP_complete_otu/kmer_BatchCorrected_bin_antibiotic_last_year_MINERVA_grid_PC2_trans_clr_scale_classification_auc.pkl\n"
     ]
    }
   ],
   "source": [
    "\n",
    "for f in range(len(file_names)):\n",
    "    \n",
    "    if metric_word == 'pearson':\n",
    "        if add_linmodel_type:\n",
    "            \n",
    "            filename_temp = data_folder + folder_names[f] +\"/\" + subfile + data_type + \"_BatchCorrected_\" + phen[f] + \"_\"+ file_names[f] + \"_lin_model_\" + lin_model +\"_pearson_and_mse.pkl\"\n",
    "        \n",
    "        else:\n",
    "            # \"_lin_model_\" + lin_model +\n",
    "            filename_temp = data_folder + folder_names[f] +\"/\" + subfile + data_type + \"_BatchCorrected_\" + phen[f] + \"_\"+ file_names[f] + \"_pearson_and_mse.pkl\"\n",
    "        \n",
    "    else:\n",
    "        \n",
    "        filename_temp = data_folder + folder_names[f] + \"/\" +subfile + data_type + \"_BatchCorrected_\"+ phen[f] + \"_\" + file_names[f] + \"_classification_auc.pkl\"\n",
    "    print(filename_temp)\n",
    "    if os.path.isfile(filename_temp):\n",
    "        \n",
    "        data_temp = pickle.load( open( filename_temp ,\"rb\"))\n",
    "    \n",
    "        #methods_lists.append([k for k in data1.keys()]) \n",
    "        \n",
    "        if metric_word == \"auc_all\" or metric_word == \"accuracy\":\n",
    "            index = folder_names[f] + file_names[f] + phen[f]\n",
    "            #index = folder_names[f]\n",
    "            #index = nice_names[f] + \"_first_\" + str(numPc[f])\n",
    "            \n",
    "            if \"agp_abx\" in key:\n",
    "                \n",
    "                df_metric[index] = pd.Series(data_temp[file_names[f]][classifier[f]][metric_word][0:13])\n",
    "            else:\n",
    "                if file_names[f] == 'MINERVA_grid_PC33_trans_clr_scale':\n",
    "                    df_metric[index] = pd.Series(data_temp['MINERVA_grid_PC3_trans_clr_scale'][classifier[f]][metric_word])\n",
    "                else:\n",
    "                    df_metric[index] = pd.Series(data_temp[file_names[f]][classifier[f]][metric_word])\n",
    "            #nice_names[f] + \"_first_\" + str(numPc[f])\n",
    "        else:\n",
    "            #index = folder_names[f] + file_names[f]\n",
    "            index = file_names[f]\n",
    "            df_metric[index] = pd.Series(data_temp[metric_word])\n",
    "    else:\n",
    "        print(\"not file\")\n",
    "        print(file_names[f])\n",
    "        df_metric[nice_names[f] + file_names[f]] = 0\n",
    "        df_metric[nice_names[f] + file_names[f]] = 0\n",
    "        \n",
    "    "
   ]
  },
  {
   "cell_type": "code",
   "execution_count": 9,
   "metadata": {},
   "outputs": [
    {
     "data": {
      "text/plain": [
       "'MINERVA_grid_PC2_trans_clr_scale'"
      ]
     },
     "execution_count": 9,
     "metadata": {},
     "output_type": "execute_result"
    }
   ],
   "source": [
    "file_names[f]"
   ]
  },
  {
   "cell_type": "markdown",
   "metadata": {},
   "source": []
  },
  {
   "cell_type": "code",
   "execution_count": 10,
   "metadata": {},
   "outputs": [],
   "source": [
    "import numpy as np\n",
    "import scipy\n",
    "#delta = np.array(df_metric.iloc[:,4]-df_metric.iloc[:,0])\n",
    "#print(np.mean(delta))\n",
    "#print(scipy.stats.sem(delta))\n",
    "#df_metric"
   ]
  },
  {
   "cell_type": "code",
   "execution_count": 11,
   "metadata": {},
   "outputs": [],
   "source": [
    "#df_metric.sum(axis=1)\n",
    "#df_metric.sort_values('OTUraw')\n",
    "#In this example, there are NO "
   ]
  },
  {
   "cell_type": "code",
   "execution_count": null,
   "metadata": {},
   "outputs": [],
   "source": []
  },
  {
   "cell_type": "code",
   "execution_count": 12,
   "metadata": {},
   "outputs": [
    {
     "data": {
      "text/plain": [
       "['raw_grid_trans_none',\n",
       " 'domaincorr_grid_trans_none',\n",
       " 'ComBat_grid_trans_logscale',\n",
       " 'limma_grid_trans_none',\n",
       " 'bmc_grid_trans_none',\n",
       " 'MINERVA_grid_PC3_trans_clr_scale',\n",
       " 'MINERVA_grid_PC2_trans_clr_scale']"
      ]
     },
     "execution_count": 12,
     "metadata": {},
     "output_type": "execute_result"
    }
   ],
   "source": [
    "file_names"
   ]
  },
  {
   "cell_type": "code",
   "execution_count": null,
   "metadata": {},
   "outputs": [],
   "source": []
  },
  {
   "cell_type": "code",
   "execution_count": 13,
   "metadata": {},
   "outputs": [],
   "source": [
    "select_columns = df_metric.columns #[ i + 'clr_pca_regress_out_no_scale_first10' for i in nice_names ] \n",
    "#select_labels = [\"raw\",\"ComBat\",\"BMC\",\"limma\",\"SmartSVA\",\"Refactor\",\"MINERVA\"]\n",
    "#select_labels = numPc\n",
    "#select_labels = [\"raw\",\"MINERVA\",\"Refactor\",\"SmartSVA\"]\n",
    "\n",
    "\n",
    "# ['Refactor CLR 100 SVs','Refactor CLR 220 SVs','MINERVA 100 SVs','MINERVA 220 SVs', \n",
    "#                  \"Refactor 120 SVs\", \"SmartSVA CLR 220 SVs\",\"SmartSVA 120 SVs\"]\n",
    "\n",
    "# select_labels = [\"MINERVA no std 10 SVs\", \"MINERVA std 10 SVs\",\"SmartSVA 10 SVs\", \n",
    "#                  \"MINERVA no std 5 SVs\", \"MINERVA std 5 SVs\",\"SmartSVA 5 SVs\"]\n",
    "\n",
    "\n",
    "\n",
    "\n",
    "\n",
    "\n",
    "#[ i + ' MINERVA' for i in nice_names ] "
   ]
  },
  {
   "cell_type": "code",
   "execution_count": 14,
   "metadata": {},
   "outputs": [],
   "source": [
    "\n",
    "if sq_pearson:\n",
    "    df_metric = np.power(df_metric,2)"
   ]
  },
  {
   "cell_type": "code",
   "execution_count": 31,
   "metadata": {},
   "outputs": [
    {
     "name": "stdout",
     "output_type": "stream",
     "text": [
      "1\n",
      "6.137307854633672e-06\n",
      "meh\n",
      "2\n",
      "0.009407194548557015\n",
      "meh\n",
      "3\n",
      "0.17306342334294994\n",
      "4\n",
      "0.14404071666135093\n",
      "5\n",
      "1.0591233858459455e-06\n",
      "meh\n",
      "6\n",
      "0.42533892672439955\n"
     ]
    },
    {
     "data": {
      "image/png": "[encoded data removed]",
      "text/plain": [
       "<Figure size 432x288 with 1 Axes>"
      ]
     },
     "metadata": {},
     "output_type": "display_data"
    }
   ],
   "source": [
    "# ['6-mers norm', '6-mers no_scale_clr','6-mers scale_clr','7-mers norm','7-mers no_scale_clr','7-mers scale_clr']\n",
    "# ['6-mers Raw', '6-mers MINVERVA','6-mers MINERVA-scale', '7-mers Raw','7-mers MINVERVA','7-mers MINVERVA-scale']\n",
    "# Make boxplot for one group only\n",
    "\n",
    "\n",
    "\n",
    "\n",
    "# select_columns = ['7-merclr_pca_regress_out_no_scale_first10filter_FALSE',\n",
    "#        '7-merclr_pca_regress_out_scale_first10filter_FALSE',\n",
    "#        '7-mersmartsva_first10filter_FALSE',\n",
    "#        '7-merclr_pca_regress_out_no_scale_first5filter_FALSE',\n",
    "#        '7-merclr_pca_regress_out_scale_first5filter_FALSE',\n",
    "#        '7-mersmartsva_first5filter_FALSE']\n",
    "\n",
    "# select_labels = [\"KMER MINERVA \"]\n",
    "\n",
    "# select_columns = ['OTUraw','OTUbmc','OTUComBat','OTUlimma',\n",
    "#                                  'KMERraw','KMERbmc','KMERComBat','KMERlimma',\n",
    "#                   \"KMERsmartsva_first10\",\"KMERrefactor_first10\",\n",
    "#                  \"KMERno_scale_clr\"]\n",
    "\n",
    "# select_columns = ['OTUraw','OTUbmc','OTUComBat','OTUlimma','KMERraw',\n",
    "#                   'KMERbmc','KMERComBat','KMERlimma',\"KMERsmartsva_first10\",\n",
    "#                   \"KMERrefactor_first10\", \"KMERclr_pca_regress_out_no_scale_first10\"]\n",
    "\n",
    "# select_columns = ['OTUraw','OTUbmc','OTUComBat','OTUlimma',\n",
    "#                                  'KMERraw','KMERbmc','KMERComBat','KMERlimma',\n",
    "#                   \"KMERsmartsva_first10\",\"KMERrefactor_first10\",\n",
    "#                  \"KMERno_scale_clr\"] #clr_pca_regress_out_no_scale_first10\n",
    "\n",
    "# ['OTUraw','OTUbmc','OTUComBat','OTUlimma',\n",
    "#                                  'OTUclr_pca_regress_out_no_scale',\"KMERnorm\",\"KMERno_scale_clr\"]\n",
    "\n",
    "# select_labels = ['OTU raw','OTU BMC','OTU ComBat','OTU limma',\n",
    "#                                      \"K-mer raw\",\"K-mer BMC\", \"K-mer ComBat\",\n",
    "#                 \"K-mer limma\",\"K-mer smartsva\",\"K-mer refactor\",\"K-mer MINERVA\"]\n",
    "#['OTU raw','OTU BMC','OTU ComBat','OTU limma',\"OTU MINERVA\",\"K-mer raw\", \"K-mer MINERVA\"]\n",
    "\n",
    "\n",
    "# ['OTU raw','OTU BMC','OTU ComBat','OTU limma',\n",
    "#                                      \"K-mer raw\",\"K-mer ComBat\",\"K-mer smartsva*\",\n",
    "#                                     \"K-mer MINERVA\"]\n",
    "sns.set_style(\"whitegrid\")\n",
    "#sns.set_theme(\"whitegrid\")\n",
    "if select_columns_bool:\n",
    "    \n",
    "    #plot_color[0:4] + [plot_color[7]] + [plot_color[4]] + [plot_color[7]\n",
    "    if not_rotate:\n",
    "        \n",
    "        current_palette = sns.color_palette()\n",
    "        #sns.palplot(current_palette)\n",
    "        #palette = sns.cubehelix_palette(df_metric.shape[1])\n",
    "        palette = sns.color_palette(\"Blues\", df_metric.shape[1])\n",
    "        plot_color = [\"#ABB2B9\"] + palette.as_hex()[1:]\n",
    "        \n",
    "        \n",
    "        \n",
    "        g=sns.boxplot( data = df_metric[select_columns],palette=plot_color)\n",
    "        g.set_xticklabels(labels = select_labels) #df_metric.columns\n",
    "    else:\n",
    "        \n",
    "        \n",
    "        current_palette = sns.color_palette()\n",
    "        #sns.palplot(current_palette)\n",
    "        #palette = sns.cubehelix_palette(df_metric.shape[1])\n",
    "        if not alternate_color:\n",
    "            #palette = sns.color_palette(\"Reds\", df_metric.shape[1]-1)\n",
    "            #plot_color = palette.as_hex()[::-1] + [\"#0093FF\"]#[\"#01d3e8\"]\n",
    "            \n",
    "            #palette = sns.color_palette(\"Reds\", 2)\n",
    "            #reds_color = palette.as_hex()[1:2]\n",
    "            \n",
    "            #palette = sns.color_palette(\"Oranges\", df_metric.shape[1]-2)\n",
    "            #oranges_color = palette.as_hex()\n",
    "            \n",
    "            #plot_color = reds_color + oranges_color +[\"#0093FF\"]\n",
    "            \n",
    "            #plot_color['#808B96','#F2F4F4',]\n",
    "            #plot_color =['#e32f27','#FF9300','#FFE800','#fdd0a2',\"#72C1FC\",\"#0093FF\"]\n",
    "            #plot_color =['#e32f27','#FF9300','#FFE800','#fdd0a2',\"#0093FF\"]\n",
    "            plot_color =['#e32f27',\"#C3FFCE\",'#FF9300','#FFE800','#fdd0a2',\"#72C1FC\",\"#0093FF\"]\n",
    "            if inclu_DCC:\n",
    "                #plot_color =['#e32f27','#FF9300','#FFE800','#fdd0a2',\"#C3FFCE\",\"#72C1FC\",\"#0093FF\"]\n",
    "\n",
    "                plot_color =['#e32f27','#FF9300','#FFE800','#fdd0a2',\"#C3FFCE\",\"#72C1FC\",\"#0093FF\"]\n",
    "            if \"otu_v_something\" in key:\n",
    "                plot_color =['#e32f27',\"#C3FFCE\"]\n",
    "            \n",
    "#             if \"_v_\" in key:\n",
    "#                 plot_color =['#e32f27',\"#72C1FC\",'#e32f27','#FF9300','#FFE800','#fdd0a2',\"#72C1FC\",\"#0093FF\"]\n",
    "                \n",
    "        else:\n",
    "            palette1 = sns.color_palette(\"Reds\", 2) [::-1] \n",
    "            palette2 = sns.color_palette(\"Blues\", 2)\n",
    "            plot_color = palette1.as_hex() + palette2.as_hex()\n",
    "            \n",
    "        g=sns.boxplot( data = df_metric[select_columns],palette=plot_color)\n",
    "        g.set_xticklabels(rotation=45,labels = select_labels) #df_metric.columns\n",
    "else:\n",
    "    g=sns.boxplot( data = df_metric)\n",
    "    g.set_xticklabels(rotation=90,labels = df_metric.columns)\n",
    "g.set(ylim=limit_spec)\n",
    "\n",
    "g.set_title(title)\n",
    "\n",
    "# box_line_col = [\"#808B96\",\"#808B96\",\"#808B96\",\"#808B96\",\"#808B96\",\"#000000\",\"#000000\"]\n",
    "\n",
    "# for i,box_col in enumerate(box_line_col):\n",
    "#     mybox = g.artists[i]\n",
    "#     mybox.set_edgecolor(box_col)\n",
    "\n",
    "\n",
    "#g=sns.boxplot( data = df_metric[select_columns],palette=plot_color)\n",
    "  \n",
    "# box_pairs=[(df_metric.columns[0], df_metric.columns[1]),\n",
    "#                                       (df_metric.columns[0], df_metric.columns[2]),\n",
    "#                                       (df_metric.columns[0], df_metric.columns[3]),\n",
    "#                                       (df_metric.columns[0], df_metric.columns[4])]\n",
    "# for a,b in box_pairs:\n",
    "#     print(a,b)\n",
    "#     t_stat = scipy.stats.ttest_rel(df_metric[a],df_metric[b], axis=0, nan_policy='propagate')\n",
    "#     print(t_stat.pvalue)\n",
    "#     if t_stat.pvalue < 0.05:\n",
    "#         ax.text(x=1, y=1, s=asterisk[0], va='center') \n",
    "\n",
    "if not_rotate:\n",
    "    \n",
    "    ref_col = np.tile(df_metric.iloc[:,0], (df_metric.shape[1], 1))#[df_metric.iloc[:,0]]\n",
    "    tick_vec = g.get_xticks()[1:]\n",
    "    \n",
    "else:\n",
    "    \n",
    "    #ref_col = np.tile(df_metric.iloc[:,5], (5, 1))#[df_metric.iloc[:,4]]\n",
    "    #tick_vec = g.get_xticks()[:-1]\n",
    "    \n",
    "    #if \"_v_\" in key:\n",
    "    ref_col = np.tile(df_metric.iloc[:,0], (5, 1))#[df_metric.iloc[:,4]]\n",
    "    if any (short_key in key for short_key in [\"gibbons_kmer\",\"gibbons_otu\",\"thomas\" ,\n",
    "                                               \"tom_\",\"agp_abx_otu\",\"agp_abx_kmer\",\"agp_bmi_otu\",\n",
    "                                              \"agp_bmi_kmer\"] ):\n",
    "\n",
    "        ref_col = np.append(np.tile(df_metric.iloc[:,0], (4, 1)),[df_metric.iloc[:,1],df_metric.iloc[:,0]],0)\n",
    "    #tick_vec = g.get_xticks()[:-1]\n",
    "    tick_vec = g.get_xticks()[1:]\n",
    "        \n",
    "    \n",
    "    \n",
    "    #ref_col = np.tile(df_metric.iloc[:,4], (4, 1))\n",
    "    #ref_col = np.vstack([ref_col, df_metric.iloc[:,0]])\n",
    "    #tick_vec = g.get_xticks()\n",
    "    \n",
    "old_system = False\n",
    "if old_system:\n",
    "    asterisk = [\"ns\",\"*\",\"**\",\"***\",\"****\",\"\"]\n",
    "else:\n",
    "    asterisk = [\"*\",\"**\",\"***\",\"****\",\"\"] # new\n",
    "\n",
    "\n",
    "vertical_offset = 0.01 #0.05\n",
    "for xtick_ind in range(len(tick_vec)):\n",
    "    asterisk_color = '#e32f27'\n",
    "    #print(xtick_ind)\n",
    "   \n",
    "    \n",
    "    \n",
    "    xtick = tick_vec[xtick_ind]\n",
    "    print(xtick)\n",
    "    \n",
    "    compare_col = df_metric.iloc[:,xtick]\n",
    "    median = np.max(compare_col)\n",
    "    \n",
    "    \n",
    "    t_res = ttest_rel(ref_col[xtick_ind], compare_col,nan_policy ='omit')\n",
    "    p = t_res.pvalue\n",
    "    print(p)\n",
    "    \n",
    "    if p > 5.00e-02 and p <= 1.00e+00:\n",
    "        if old_system:\n",
    "            asterisk_index = 0\n",
    "        else:\n",
    "            asterisk_index = 4\n",
    "    \n",
    "    \n",
    "    \n",
    "    elif 1.00e-02 < p  and p <= 5.00e-02:\n",
    "        \n",
    "        if old_system:\n",
    "            asterisk_index = 1\n",
    "        else:\n",
    "            asterisk_index = 0\n",
    "        \n",
    "    elif 1.00e-03 < p and p <= 1.00e-02:\n",
    "        asterisk_index = 1\n",
    "        \n",
    "        if old_system:\n",
    "            asterisk_index = 2\n",
    "        else:\n",
    "            asterisk_index = 1\n",
    "    elif 1.00e-04 < p <= 1.00e-03:\n",
    "        if old_system:\n",
    "            asterisk_index = 3\n",
    "        else:\n",
    "            asterisk_index = 2\n",
    "    elif p <= 1.00e-04:\n",
    "        if old_system:\n",
    "            asterisk_index = 4\n",
    "        else:\n",
    "            asterisk_index = 3\n",
    "    else:\n",
    "        if old_system:\n",
    "            asterisk_index = 5\n",
    "        else:\n",
    "            asterisk_index = 4\n",
    "        \n",
    "    \n",
    "#     if p < 5.00e-02  and not_rotate and np.nanmean(ref_col[xtick_ind]) < np.nanmean(compare_col):\n",
    "#         print(\"meh\")\n",
    "#         if old_system:\n",
    "#             asterisk_index = 5\n",
    "#         else:\n",
    "#             asterisk_color = \"#808B96\"\n",
    "#     if p < 5.00e-02  and not not_rotate and np.nanmean(ref_col[xtick_ind]) > np.nanmean(compare_col):\n",
    "#         print(\"meh\")\n",
    "#         if old_system:\n",
    "#             asterisk_index = 5\n",
    "#         else:\n",
    "#             asterisk_color = \"#808B96\"\n",
    "    if p < 5.00e-02  and np.nanmean(ref_col[xtick_ind]) > np.nanmean(compare_col):\n",
    "        print(\"meh\")\n",
    "        if old_system:\n",
    "            asterisk_index = 5\n",
    "        else:\n",
    "            asterisk_color = \"#808B96\"\n",
    "        \n",
    "    #print(asterisk_index)\n",
    "    #print(asterisk[asterisk_index] )\n",
    "        \n",
    "        \n",
    "        \n",
    "        \n",
    "#     if not_rotate:\n",
    "#         g.text(xtick,median + vertical_offset,asterisk[asterisk_index], \n",
    "#             horizontalalignment='center',size='large',color=\"#808B96\",weight='semibold')\n",
    "#     else:\n",
    "        \n",
    "#         g.text(xtick,median + vertical_offset,asterisk[asterisk_index], \n",
    "#             horizontalalignment='center',size='large',color=asterisk_color,weight='semibold') #\t #\"#0093FF\"\n",
    "    \n",
    "    g.text(xtick,median + vertical_offset,asterisk[asterisk_index], \n",
    "            horizontalalignment='center',size='large',color=asterisk_color,weight='semibold') #\t #\"#0093FF\"\n",
    "    \n",
    "\n",
    "\n",
    "#g.yaxis.grid(False)\n",
    "if metric_word== \"pearson\":\n",
    "    g.set(xlabel=\"Method\", ylabel = \"Pearson Correlation\")\n",
    "    if sq_pearson:\n",
    "        g.set(xlabel=\"Method\", ylabel = \"Squared Pearson\")\n",
    "else:\n",
    "    if not_rotate:\n",
    "        if \"otu_v_kmer\" in key:\n",
    "            g.set(xlabel=\"Data type\", ylabel = \"AUC\")\n",
    "        elif \"otu_v_something\" in key:\n",
    "            g.set(xlabel=\"Methods\", ylabel = \"AUC\")\n",
    "        else:\n",
    "            g.set(xlabel=\"Number of PCs\", ylabel = \"AUC\")\n",
    "    else:\n",
    "        g.set(xlabel=\"Method\", ylabel = \"AUC\")\n",
    "\n",
    "\n",
    "\n",
    "#\n",
    "plt.rc('figure', titlesize=25)# controls default text sizes\n",
    "plt.rc('axes', titlesize=15)     # fontsize of the axes title\n",
    "plt.rc('axes', labelsize=15)    # fontsize of the x and y labels\n",
    "plt.rc('xtick', labelsize=15)    # fontsize of the tick labels\n",
    "plt.rc('ytick', labelsize=15) \n",
    "plt.rc('font', size=12) \n",
    "\n",
    "plt.tight_layout()\n",
    "plt.savefig(plot_folder + chosen_classifier + data_type + \"_\" + trans[0] + '_boxplots_' + classifier_ofc + '_' + metric_word + \"_\" + special_name + '.pdf',bbox_inches='tight')\n",
    "plt.savefig(plot_folder + chosen_classifier + data_type + \"_\" + trans[0] +  '_boxplots_' + classifier_ofc + '_' + metric_word + \"_\" + special_name + '.png',bbox_inches='tight')\n",
    "plt.show()\n",
    "\n",
    "\n",
    "\n"
   ]
  },
  {
   "cell_type": "code",
   "execution_count": 16,
   "metadata": {},
   "outputs": [],
   "source": [
    "ref_col = np.append(np.tile(df_metric.iloc[:,0], (4, 1)),[df_metric.iloc[:,1],df_metric.iloc[:,0]],0)"
   ]
  },
  {
   "cell_type": "code",
   "execution_count": 17,
   "metadata": {},
   "outputs": [],
   "source": [
    "test = np.tile(df_metric.iloc[:,0], (5, 1))"
   ]
  },
  {
   "cell_type": "code",
   "execution_count": 18,
   "metadata": {},
   "outputs": [
    {
     "data": {
      "text/plain": [
       "(6, 13)"
      ]
     },
     "execution_count": 18,
     "metadata": {},
     "output_type": "execute_result"
    }
   ],
   "source": [
    "ref_col.shape"
   ]
  },
  {
   "cell_type": "code",
   "execution_count": 19,
   "metadata": {},
   "outputs": [
    {
     "data": {
      "text/plain": [
       "True"
      ]
     },
     "execution_count": 19,
     "metadata": {},
     "output_type": "execute_result"
    }
   ],
   "source": [
    "xtick_ind = 3\n",
    "np.nanmean(ref_col[xtick_ind]) > np.nanmean(compare_col)"
   ]
  },
  {
   "cell_type": "code",
   "execution_count": 20,
   "metadata": {},
   "outputs": [],
   "source": [
    "#np.repeat(ref_col, 4)\n",
    "\n",
    "test = np.tile(ref_col, (4, 1))\n",
    "#np.append(test,df_metric.iloc[:,4],axis=1)\n",
    "\n",
    "\n",
    "\n"
   ]
  },
  {
   "cell_type": "code",
   "execution_count": 21,
   "metadata": {},
   "outputs": [
    {
     "data": {
      "text/plain": [
       "AGP_complete_oturaw_grid_trans_nonebin_antibiotic_last_year                 0.668658\n",
       "AGP_complete_otudomaincorr_grid_trans_nonebin_antibiotic_last_year          0.658764\n",
       "AGP_complete_otuComBat_grid_trans_logscalebin_antibiotic_last_year          0.666363\n",
       "AGP_complete_otulimma_grid_trans_nonebin_antibiotic_last_year               0.667281\n",
       "AGP_complete_otubmc_grid_trans_nonebin_antibiotic_last_year                 0.667321\n",
       "AGP_complete_otuMINERVA_grid_PC3_trans_clr_scalebin_antibiotic_last_year    0.621836\n",
       "AGP_complete_otuMINERVA_grid_PC2_trans_clr_scalebin_antibiotic_last_year    0.664894\n",
       "dtype: float64"
      ]
     },
     "execution_count": 21,
     "metadata": {},
     "output_type": "execute_result"
    }
   ],
   "source": [
    "df_metric.mean(axis=0)"
   ]
  },
  {
   "cell_type": "code",
   "execution_count": 22,
   "metadata": {},
   "outputs": [
    {
     "name": "stdout",
     "output_type": "stream",
     "text": [
      "p-value annotation legend:\n",
      "ns: 5.00e-02 < p <= 1.00e+00\n",
      "*: 1.00e-02 < p <= 5.00e-02\n",
      "**: 1.00e-03 < p <= 1.00e-02\n",
      "***: 1.00e-04 < p <= 1.00e-03\n",
      "****: p <= 1.00e-04\n",
      "\n",
      "AGP_complete_otuComBat_grid_trans_logscalebin_antibiotic_last_year v.s. AGP_complete_otulimma_grid_trans_nonebin_antibiotic_last_year: t-test paired samples with Bonferroni correction, P_val=9.163e-01 stat=-7.666e-01\n",
      "AGP_complete_oturaw_grid_trans_nonebin_antibiotic_last_year v.s. AGP_complete_otulimma_grid_trans_nonebin_antibiotic_last_year: t-test paired samples with Bonferroni correction, P_val=3.461e-01 stat=1.449e+00\n"
     ]
    },
    {
     "data": {
      "image/png": "[encoded data removed]",
      "text/plain": [
       "<Figure size 432x288 with 1 Axes>"
      ]
     },
     "metadata": {},
     "output_type": "display_data"
    }
   ],
   "source": [
    "import matplotlib.pyplot as plt\n",
    "import seaborn as sns\n",
    "from statannot import add_stat_annotation\n",
    "\n",
    "sns.set(style=\"whitegrid\")\n",
    "\n",
    "\n",
    "x = \"Method\"\n",
    "y = \"AUC\"\n",
    "order = ['Sun', 'Thur', 'Fri', 'Sat']\n",
    "ax = sns.boxplot(data=df_metric,palette=plot_color)\n",
    "sns.set_context(\"paper\", font_scale=1.5) \n",
    "sns.set_style(\"whitegrid\")\n",
    "if pair_test_all:\n",
    "    if shortened:\n",
    "        if shortened_shortened:\n",
    "            add_stat_annotation(ax, data=df_metric,\n",
    "                        box_pairs=[(df_metric.columns[0], df_metric.columns[1]),\n",
    "                                  (df_metric.columns[0], df_metric.columns[2]),\n",
    "                                  (df_metric.columns[0], df_metric.columns[3]),\n",
    "                                  (df_metric.columns[2], df_metric.columns[3])],\n",
    "                        test='t-test_ind', text_format='star', loc='outside', verbose=2)\n",
    "        else:\n",
    "            if key == 'Gibbons':\n",
    "                add_stat_annotation(ax, data=df_metric,\n",
    "                            box_pairs=[(df_metric.columns[0], df_metric.columns[1]),\n",
    "                                      (df_metric.columns[0], df_metric.columns[2]),\n",
    "                                      (df_metric.columns[0], df_metric.columns[3]),\n",
    "                                      (df_metric.columns[0], df_metric.columns[4]),\n",
    "                                       (df_metric.columns[1], df_metric.columns[4])],\n",
    "                            test='t-test_ind', text_format='star', loc='outside', verbose=2)\n",
    "            elif \"Thomas\" in key:\n",
    "                add_stat_annotation(ax, data=df_metric,\n",
    "                            box_pairs=[(df_metric.columns[0], df_metric.columns[1])],\n",
    "                            test='t-test_ind', text_format='star', loc='outside', verbose=2)\n",
    "            else:\n",
    "                add_stat_annotation(ax, data=df_metric,\n",
    "                            box_pairs=[(df_metric.columns[0], df_metric.columns[1]),\n",
    "                                      (df_metric.columns[0], df_metric.columns[2]),\n",
    "                                      (df_metric.columns[0], df_metric.columns[3]),\n",
    "                                      (df_metric.columns[0], df_metric.columns[4])],\n",
    "                            test='t-test_ind', text_format='star', loc='outside', verbose=2)\n",
    "\n",
    "    else:\n",
    "        add_stat_annotation(ax, data=df_metric,\n",
    "                        box_pairs=[(df_metric.columns[0], df_metric.columns[1]),\n",
    "                                  (df_metric.columns[0], df_metric.columns[2]),\n",
    "                                  (df_metric.columns[0], df_metric.columns[3]),\n",
    "                                  (df_metric.columns[0], df_metric.columns[4]),\n",
    "                                  (df_metric.columns[0], df_metric.columns[5]),\n",
    "                                  (df_metric.columns[0], df_metric.columns[6])],\n",
    "                        test='t-test_ind', text_format='star', loc='outside', verbose=2)\n",
    "\n",
    "else:\n",
    "    add_stat_annotation(ax, data=df_metric,\n",
    "                    box_pairs=[(df_metric.columns[2], df_metric.columns[3]),\n",
    "                              (df_metric.columns[0], df_metric.columns[3])],\n",
    "                    test='t-test_paired', text_format='star', loc='outside', verbose=2)\n",
    "# , (df_metric.columns[0], df_metric.columns[5])\n",
    "if not_rotate:\n",
    "    ax.set_xticklabels(labels = select_labels,fontsize= 13)\n",
    "else:\n",
    "    ax.set_xticklabels(rotation=90,labels = select_labels)\n",
    "#ax.set_yticklabels(fontsize= 10)\n",
    "ax.set(ylim=limit_spec)\n",
    "ax.set_title(title)\n",
    "plt.savefig(plot_folder + chosen_classifier + data_type + \"_\" + trans[0] + '_boxplots_' + classifier_ofc + '_' + metric_word + \"_\" + special_name + '_2.pdf',bbox_inches='tight')\n",
    "#(df_metric.columns[0], df_metric.columns[2]),\n",
    "#                              (df_metric.columns[0], df_metric.columns[3]),\n",
    "#                             (df_metric.columns[0], df_metric.columns[4]),\n",
    "#                             (df_metric.columns[0], df_metric.columns[5])"
   ]
  },
  {
   "cell_type": "code",
   "execution_count": 23,
   "metadata": {},
   "outputs": [
    {
     "data": {
      "text/plain": [
       "True"
      ]
     },
     "execution_count": 23,
     "metadata": {},
     "output_type": "execute_result"
    }
   ],
   "source": [
    "shortened"
   ]
  },
  {
   "cell_type": "code",
   "execution_count": 24,
   "metadata": {},
   "outputs": [
    {
     "data": {
      "text/plain": [
       "8.57093211481747"
      ]
     },
     "execution_count": 24,
     "metadata": {},
     "output_type": "execute_result"
    }
   ],
   "source": [
    "np.mean(np.array(df_metric.sum(axis=0)))"
   ]
  },
  {
   "cell_type": "code",
   "execution_count": 25,
   "metadata": {},
   "outputs": [],
   "source": [
    "test = df_metric.sum(axis=0)\n",
    "        \n",
    "    \n",
    "    \n",
    "    "
   ]
  },
  {
   "cell_type": "code",
   "execution_count": 26,
   "metadata": {},
   "outputs": [
    {
     "data": {
      "text/plain": [
       "AGP_complete_oturaw_grid_trans_nonebin_antibiotic_last_year                 8.692548\n",
       "AGP_complete_otudomaincorr_grid_trans_nonebin_antibiotic_last_year          8.563938\n",
       "AGP_complete_otuComBat_grid_trans_logscalebin_antibiotic_last_year          8.662718\n",
       "AGP_complete_otulimma_grid_trans_nonebin_antibiotic_last_year               8.674653\n",
       "AGP_complete_otubmc_grid_trans_nonebin_antibiotic_last_year                 8.675172\n",
       "AGP_complete_otuMINERVA_grid_PC3_trans_clr_scalebin_antibiotic_last_year    8.083871\n",
       "AGP_complete_otuMINERVA_grid_PC2_trans_clr_scalebin_antibiotic_last_year    8.643625\n",
       "dtype: float64"
      ]
     },
     "execution_count": 26,
     "metadata": {},
     "output_type": "execute_result"
    }
   ],
   "source": [
    "test"
   ]
  },
  {
   "cell_type": "code",
   "execution_count": 28,
   "metadata": {},
   "outputs": [
    {
     "data": {
      "text/plain": [
       "0"
      ]
     },
     "execution_count": 28,
     "metadata": {},
     "output_type": "execute_result"
    }
   ],
   "source": [
    "sum(np.isnan(df_metric.sum(axis=0)))"
   ]
  }
 ],
 "metadata": {
  "kernelspec": {
   "display_name": "Python 3",
   "language": "python",
   "name": "python3"
  },
  "language_info": {
   "codemirror_mode": {
    "name": "ipython",
    "version": 3
   },
   "file_extension": ".py",
   "mimetype": "text/x-python",
   "name": "python",
   "nbconvert_exporter": "python",
   "pygments_lexer": "ipython3",
   "version": "3.6.8"
  }
 },
 "nbformat": 4,
 "nbformat_minor": 2
}
