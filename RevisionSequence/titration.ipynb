{
 "cells": [
  {
   "cell_type": "code",
   "execution_count": 83,
   "metadata": {},
   "outputs": [],
   "source": [
    "import sys\n",
    "import pandas as pd\n",
    "import numpy as np\n",
    "import random\n",
    "from collections import Counter\n",
    "import scipy as sp\n",
    "from scipy import stats, optimize, interpolate\n",
    "import statsmodels.api as sm\n",
    "import statsmodels as sm\n",
    "random.seed(0)"
   ]
  },
  {
   "cell_type": "code",
   "execution_count": 22,
   "metadata": {},
   "outputs": [],
   "source": [
    "main_dir =\"/u/home/b/briscoel/project-halperin/MicroBatch/data/\"\n",
    "script_folder= \"/u/home/b/briscoel/project-halperin/MicroBatch/RevisionSequence/\"\n",
    "local = True\n",
    "\n",
    "sys.argv = [ \"Thomasr_complete_otu\",\"rel\",\"\"]\n",
    "\n",
    "if local:\n",
    "    main_dir = \"/Users/leahbriscoe/Documents/MicroBatch/microbatch_vc/data/\"\n",
    "    script_folder = \"/Users/leahbriscoe/Documents/MicroBatch/microbatch_vc/RevisionSequence/\"\n",
    "\n",
    "folder = sys.argv[0] # \"AGPr_max_k5\" #\"AGPr_complete_otu\" \n",
    "trans = sys.argv[1] #\"rel\"\n",
    "correction= sys.argv[2] #\"rel\"\n",
    "data_dir = main_dir + folder + \"/\"\n",
    "d1 = 'FengQ_2015'\n",
    "d2 = 'ZellerG_2014'\n"
   ]
  },
  {
   "cell_type": "code",
   "execution_count": 13,
   "metadata": {},
   "outputs": [],
   "source": [
    "metadata_table = pd.read_csv(data_dir + \"metadata.txt\", delimiter = \"\\t\",header=0)\n",
    "\n",
    "if correction == \"\":\n",
    "    feature_table = pd.read_csv(data_dir  + \"feature_table_\" + trans + \".txt\" ,delimiter = \"\\t\",header=0)\n",
    "else:\n",
    "    feature_table = pd.read_csv(data_dir  +\"feature_table_\" + trans + \"_\" + correction + \".txt\" ,delimiter = \"\\t\",header=0)\n",
    "\n",
    "feature_table_presence = feature_table  > 0     "
   ]
  },
  {
   "cell_type": "code",
   "execution_count": 50,
   "metadata": {},
   "outputs": [],
   "source": [
    "all_control_samples = list(metadata_table[metadata_table['bin_crc_normal'] == 0].index)\n",
    "all_case_samples = list(metadata_table[metadata_table['bin_crc_normal'] == 1].index)\n",
    "control_presence_proportion = (feature_table_presence[all_control_samples].sum(axis =1))/len(all_control_samples)\n",
    "case_presence_proportion = (feature_table_presence[all_case_samples].sum(axis =1))/len(all_case_samples)\n"
   ]
  },
  {
   "cell_type": "code",
   "execution_count": 55,
   "metadata": {},
   "outputs": [],
   "source": [
    "\n",
    "## FILTER FOR 1/3 in at least case OR control : not using for now\n",
    "prevalence_filter = np.array(control_presence_proportion > 0.33) | np.array(case_presence_proportion > 0.33)"
   ]
  },
  {
   "cell_type": "code",
   "execution_count": 58,
   "metadata": {},
   "outputs": [
    {
     "data": {
      "text/plain": [
       "123"
      ]
     },
     "execution_count": 58,
     "metadata": {},
     "output_type": "execute_result"
    }
   ],
   "source": []
  },
  {
   "cell_type": "code",
   "execution_count": 29,
   "metadata": {},
   "outputs": [],
   "source": [
    "control_metadata1 = metadata_table[(metadata_table['bin_crc_normal'] == 0 ) & (metadata_table['dataset_name'] ==  d1) ]\n",
    "case_metadata1 = metadata_table[(metadata_table['bin_crc_normal'] == 1) & (metadata_table['dataset_name'] ==  d1)]\n",
    "\n",
    "control_metadata2 = metadata_table[(metadata_table['bin_crc_normal'] == 0 ) & (metadata_table['dataset_name'] ==  d2) ]\n",
    "case_metadata2 = metadata_table[(metadata_table['bin_crc_normal'] == 1) & (metadata_table['dataset_name'] ==  d2)]\n",
    "\n",
    "control_samples_d1 = list(control_metadata1.index)\n",
    "case_samples_d1 = list(case_metadata1.index)\n",
    "\n",
    "control_samples_d2 = list(control_metadata2.index)\n",
    "case_samples_d2 = list(case_metadata2.index)\n",
    "\n",
    "min_sample_size = min([len(control_samples_d1),len(case_samples_d1),len(control_samples_d2),len(case_samples_d2)])"
   ]
  },
  {
   "cell_type": "code",
   "execution_count": 30,
   "metadata": {},
   "outputs": [
    {
     "data": {
      "text/plain": [
       "[61, 46, 66, 91]"
      ]
     },
     "execution_count": 30,
     "metadata": {},
     "output_type": "execute_result"
    }
   ],
   "source": [
    "[len(control_samples_d1),len(case_samples_d1),len(control_samples_d2),len(case_samples_d2)]"
   ]
  },
  {
   "cell_type": "code",
   "execution_count": 32,
   "metadata": {},
   "outputs": [],
   "source": [
    "control_samples_d1 = random.sample(control_samples_d1,min_sample_size)\n",
    "case_samples_d1 = random.sample(case_samples_d1,min_sample_size)\n",
    "control_samples_d2 = random.sample(control_samples_d2,min_sample_size)\n",
    "case_samples_d2 = random.sample(case_samples_d2,min_sample_size)"
   ]
  },
  {
   "cell_type": "code",
   "execution_count": 87,
   "metadata": {},
   "outputs": [
    {
     "data": {
      "text/plain": [
       "167"
      ]
     },
     "execution_count": 87,
     "metadata": {},
     "output_type": "execute_result"
    }
   ],
   "source": [
    "len(pvals_fdr)"
   ]
  },
  {
   "cell_type": "code",
   "execution_count": null,
   "metadata": {},
   "outputs": [],
   "source": []
  },
  {
   "cell_type": "code",
   "execution_count": 88,
   "metadata": {},
   "outputs": [
    {
     "name": "stdout",
     "output_type": "stream",
     "text": [
      "46\n",
      "dim feature table titrate\n",
      "(830, 46)\n",
      "(830, 46)\n",
      "45\n",
      "dim feature table titrate\n",
      "(830, 45)\n",
      "(830, 46)\n",
      "46\n",
      "dim feature table titrate\n",
      "(830, 46)\n",
      "(830, 46)\n",
      "46\n",
      "dim feature table titrate\n",
      "(830, 46)\n",
      "(830, 46)\n"
     ]
    }
   ],
   "source": [
    "replicate_titrate_rel_names = {}\n",
    "replicate_titrate_rel_fdr = {}\n",
    "\n",
    "\n",
    "\n",
    "titrate_rel_names = {}\n",
    "titrate_rel_fdr = {}\n",
    "\n",
    "fractions = [0, .25 , .50, 1] # fraction of controls replaced\n",
    "#for n in range(5):\n",
    "for f in fractions:\n",
    "    pvals = []\n",
    "    correction = \"rel\"\n",
    "    case_samples = case_samples_d1\n",
    "    control_samples = random.sample(control_samples_d1,int((1-f) * min_sample_size)) + random.sample(control_samples_d2, int(f * min_sample_size))\n",
    "    print(len(control_samples))\n",
    "    feature_table_titrate_control = feature_table[control_samples ]\n",
    "    feature_table_titrate_case = feature_table[case_samples ]\n",
    "    print(\"dim feature table titrate\")\n",
    "    print(feature_table_titrate_control.shape)\n",
    "    print(feature_table_titrate_case.shape)\n",
    "    # for each taxa\n",
    "    for tax in range(feature_table_titrate_case.shape[0]):\n",
    "        if feature_table_titrate_control.iloc[tax,:].astype(bool).sum()/float(feature_table_titrate_control.shape[1]) >= 1/3.0 or feature_table_titrate_case.iloc[tax,:].astype(bool).sum()/float(feature_table_titrate_case.shape[1]) >= 1/3.0:\n",
    "            pvals.append(sp.stats.ranksums(feature_table_titrate_control.iloc[tax,:],feature_table_titrate_case.iloc[tax,:])[1])\n",
    "        else:\n",
    "            pvals.append(1)\n",
    "        \n",
    "    pvals = np.array(pvals)\n",
    "    pvals_fdr = sm.sandbox.stats.multicomp.multipletests(np.array(pvals),alpha=0.05,method='fdr_bh')[1]\n",
    "    \n",
    "    names = []\n",
    "    fdr = []\n",
    "\n",
    "    for j in range(len(pvals_fdr)):\n",
    "        if pvals_fdr[j] <= 0.05:\n",
    "            names.append(feature_table_titrate_case.index[j])\n",
    "            fdr.append(pvals_fdr[j])\n",
    "            \n",
    "    titrate_rel_names[f] = names\n",
    "    titrate_rel_fdr[f] = fdr\n",
    "n = 1\n",
    "replicate_titrate_rel_names[n] = titrate_rel_names\n",
    "replicate_titrate_rel_fdr[n] = titrate_rel_fdr\n",
    "\n",
    "    "
   ]
  },
  {
   "cell_type": "code",
   "execution_count": 91,
   "metadata": {},
   "outputs": [
    {
     "data": {
      "text/plain": [
       "{0: ['s__Alistipes_finegoldii',\n",
       "  's__Porphyromonas_asaccharolytica',\n",
       "  's__Dialister_invisus',\n",
       "  's__Prevotella_copri',\n",
       "  's__Ruminococcaceae_bacterium_D16',\n",
       "  's__Parvimonas_unclassified',\n",
       "  's__Gemella_morbillorum',\n",
       "  's__Fusobacterium_nucleatum',\n",
       "  's__Dasheen_mosaic_virus'],\n",
       " 0.25: ['s__Dialister_invisus', 's__Prevotella_copri'],\n",
       " 0.5: ['s__Eubacterium_biforme', 's__Dialister_invisus'],\n",
       " 1: ['s__Streptococcus_australis',\n",
       "  's__Bifidobacterium_adolescentis',\n",
       "  's__Parasutterella_excrementihominis',\n",
       "  's__Eubacterium_eligens',\n",
       "  's__Eubacterium_biforme',\n",
       "  's__Collinsella_aerofaciens',\n",
       "  's__Odoribacter_splanchnicus',\n",
       "  's__Fusobacterium_nucleatum',\n",
       "  's__Dasheen_mosaic_virus']}"
      ]
     },
     "execution_count": 91,
     "metadata": {},
     "output_type": "execute_result"
    }
   ],
   "source": [
    " titrate_rel_names"
   ]
  }
 ],
 "metadata": {
  "kernelspec": {
   "display_name": "Python 3",
   "language": "python",
   "name": "python3"
  },
  "language_info": {
   "codemirror_mode": {
    "name": "ipython",
    "version": 3
   },
   "file_extension": ".py",
   "mimetype": "text/x-python",
   "name": "python",
   "nbconvert_exporter": "python",
   "pygments_lexer": "ipython3",
   "version": "3.6.8"
  }
 },
 "nbformat": 4,
 "nbformat_minor": 2
}
