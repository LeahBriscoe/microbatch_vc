{
 "cells": [
  {
   "cell_type": "code",
   "execution_count": 1,
   "metadata": {},
   "outputs": [],
   "source": [
    "import sys\n",
    "import pandas as pd\n",
    "import utils\n",
    "import numpy as np\n",
    "from sklearn.preprocessing import StandardScaler, normalize\n",
    "from sklearn.ensemble import RandomForestClassifier\n",
    "from sklearn import model_selection \n",
    "from sklearn.decomposition import PCA\n",
    "from sklearn.model_selection import GridSearchCV, cross_val_score, train_test_split\n",
    "import statsmodels.formula.api as sm\n",
    "from sklearn.metrics import roc_auc_score\n",
    "from collections import Counter\n",
    "from timeit import default_timer as timer\n",
    "import pickle"
   ]
  },
  {
   "cell_type": "code",
   "execution_count": 2,
   "metadata": {},
   "outputs": [],
   "source": [
    "args = sys.argv\n",
    "#'AGP_max_k5&\n",
    "cohort_list =\"AGP_max_k7\"#'Thomas_k6&Thomas_k7'#'CRC_thomas_otu' #'AGP_max_k6'#'AGP_max_k5'#'CRC_thomas_otu' #'AGP_max_k7'#'' 'Thomas_k6'#'Thomas_k6'#'CRC_k6'#'Thomas_k6&Thomas_k7' #'''AGP_max_k5&AGP_max_k6'#'AGP_max_k7'#'T2D_k6&T2D_k7'#'Thomas_k6&Thomas_k7' #\"CRC_k6&CRC_k7\"#'Hispanic_k5&Hispanic_k6&Hispanic_k7'#Thomas_k6'#'Hispanic_k5&Hispanic_k6&Hispanic_k7'#'T2D_k6&T2D_k7'#'T2D_k6&T2D_k7' # \n",
    "phenotype =\"bin_antibiotic_last_year\"# 'bin_crc_normal'# #bin_crc_normal'# 'bmi_corrected'# \"\"bin_t2d\"#''antibiotic'#'bmi_corrected'# 'bin_crc_adenomaORnormal'#\"\"bin_antibiotic_last_year\"#'bin_crc_normal'#\n",
    "pred_bool = 0\n",
    "val_bool = 1\n",
    "# args = ['./run_MINERVA_test_train_grid.sh','/Users/leahbriscoe/Documents/MicroBatch/microbatch_vc', cohort_list, 'kmer', 'BatchCorrected', phenotype, 1, 0,\n",
    "#         10, 'dataaug',\"dataaug_grid_trans_none\",0,pred_bool]\n",
    "args = ['./run_MINERVA_test_train_grid.sh','/Users/leahbriscoe/Documents/MicroBatch/microbatch_vc', cohort_list, 'kmer', 'BatchCorrected', phenotype, 1, 0,\n",
    "        10, 'domaincorr',\"domaincorr_grid_trans_none\",0,pred_bool]\n",
    "# args = ['./run_MINERVA_test_train_grid.sh','/Users/leahbriscoe/Documents/MicroBatch/microbatch_vc', cohort_list, 'kmer', 'BatchCorrected', phenotype, 1, 0,\n",
    "#         10, 'raw',\"raw_grid_trans_none\",0,pred_bool]\n",
    "# args = ['./run_MINERVA_test_train_grid.sh','/Users/leahbriscoe/Documents/MicroBatch/microbatch_vc', cohort_list , 'kmer', 'BatchCorrected', phenotype, 1, 0,\n",
    "#         10, 'minervaclrscale',\"MINERVA_grid_trans_clr_scale\",1,pred_bool]\n",
    "# args = ['./run_MINERVA_test_train_grid.sh','/Users/leahbriscoe/Documents/MicroBatch/microbatch_vc', cohort_list , 'kmer', 'BatchCorrected', phenotype, 1, 0,\n",
    "#         10, 'minervaclrscaleLODO',\"MINERVALODO_grid_trans_clr_scale\",1,pred_bool]\n",
    "# args = ['./run_MINERVA_test_train_grid.sh','/Users/leahbriscoe/Documents/MicroBatch/microbatch_vc', cohort_list , 'kmer', 'BatchCorrected', phenotype, 1, 0,\n",
    "#         10, 'pc_lodo',\"pc_lodo_grid_trans_clr_scale\",1,pred_bool]\n",
    "# args = ['./run_MINERVA_test_train_grid.sh','/Users/leahbriscoe/Documents/MicroBatch/microbatch_vc', cohort_list, 'kmer', 'BatchCorrected', phenotype, 1, 0,\n",
    "#         10, 'raw',\"raw_grid_trans_none\",0,pred_bool]\n",
    "# args = ['./run_MINERVA_test_train_grid.sh','/Users/leahbriscoe/Documents/MicroBatch/microbatch_vc', cohort_list, 'kmer', 'BatchCorrected', phenotype, 1, 0,\n",
    "#         10, 'rawLODO',\"rawLODO_grid_trans_none\",0,pred_bool]\n",
    "# args = ['./run_MINERVA_test_train_grid.sh','/Users/leahbriscoe/Documents/MicroBatch/microbatch_vc', cohort_list, 'kmer', 'BatchCorrected', phenotype , 1, 0,\n",
    "#          10, 'combat',\"ComBat_grid_trans_none\",0,pred_bool]\n",
    "\n",
    "# args = ['./run_MINERVA_test_train_grid.sh','/Users/leahbriscoe/Documents/MicroBatch/microbatch_vc', cohort_list, 'kmer', 'BatchCorrected', phenotype , 1, 0,\n",
    "#          10, 'minervaclrscale',\"MINERVA_grid_trans_clr_scale\",1,pred_bool]\n",
    "# args = ['./run_MINERVA_test_train_grid.sh','/Users/leahbriscoe/Documents/MicroBatch/microbatch_vc', cohort_list, 'kmer', 'BatchCorrected', phenotype , 1, 0,\n",
    "#          10, 'ComBatlogscale',\"ComBatlogscale_grid_trans_logscale\",0,pred_bool]\n",
    "# args = ['./run_MINERVA_test_train_grid.sh','/Users/leahbriscoe/Documents/MicroBatch/microbatch_vc', cohort_list, 'kmer', 'BatchCorrected', phenotype , 1, 0,\n",
    "#          10, 'ComBat',\"ComBat_grid_trans_logscale\",0,pred_bool]\n",
    "\n",
    "# args = ['./run_MINERVA_test_train_grid.sh','/Users/leahbriscoe/Documents/MicroBatch/microbatch_vc', cohort_list, 'kmer', 'BatchCorrected', phenotype , 1, 0,\n",
    "#          10, 'limma',\"limma_grid_trans_none\",0,pred_bool]\n",
    "\n",
    "# args = ['./run_MINERVA_test_train_grid.sh','/Users/leahbriscoe/Documents/MicroBatch/microbatch_vc',cohort_list, 'kmer', 'BatchCorrected', phenotype, 1, 0,\n",
    "#          10, 'bmc',\"bmc_grid_trans_none\",0,pred_bool]\n",
    "\n",
    "\n"
   ]
  },
  {
   "cell_type": "code",
   "execution_count": 3,
   "metadata": {},
   "outputs": [
    {
     "name": "stdout",
     "output_type": "stream",
     "text": [
      "['./run_MINERVA_test_train_grid.sh', '/Users/leahbriscoe/Documents/MicroBatch/microbatch_vc', 'AGP_max_k7', 'kmer', 'BatchCorrected', 'bin_antibiotic_last_year', 1, 0, 10, 'domaincorr', 'domaincorr_grid_trans_none', 0, 0]\n"
     ]
    }
   ],
   "source": [
    "\n",
    "print(args)\n",
    "\n",
    "\n",
    "greater_folder = args[1] # what folder do you save your different datasets in\n",
    "study_names = args[2].split(\"&\")  # what is the name of the dataset (tells the program which folder to check)\n",
    "data_type = args[3] # type of data. kmer vs OTU\n",
    "\n",
    "prefix_name = args[4] # what is the prefix of the file name\n",
    "column_of_interest = args[5] # what is the phenotype you are predicting (use the same name in the column of the metadata you want to predict), this programs reads from metadata.txt\n",
    "\n",
    "norm_input = bool(int(args[6]))\n",
    "map_with_accession = bool(int(args[7]))\n",
    "num_pcs = 20\n",
    "num_pcs = int(args[8])\n",
    "special_name = args[9]\n",
    "method = args[10]\n",
    "if data_type == \"otu\" or data_type == \"kmer\":\n",
    "    data_folders = [greater_folder + \"/data/\" + study_name + \"/\" for study_name in study_names] \n",
    "    metadata_folder =   greater_folder + \"/data/\" + study_names[0] + \"/\"  \n",
    "else:\n",
    "    data_folders = [greater_folder + \"/data/\" + study_name + \"/\" + \"protect_\" + column_of_interest + \"/\" + prefix_name + \"_\"  for study_name in study_names] \n",
    "    metadata_folder = greater_folder + \"/data/\" + study_names[0] + \"/\" \n",
    "PC = bool(int(args[11]))\n",
    "pred = bool(int(args[12]))"
   ]
  },
  {
   "cell_type": "code",
   "execution_count": 4,
   "metadata": {},
   "outputs": [],
   "source": [
    "if pred:\n",
    "    if val_bool:\n",
    "        all_datasets_dict = pickle.load(open( metadata_folder +\"_\" + special_name + \"_MINERVA_prediction_grid_VAL.pkl\", \"rb\" ))\n",
    "    else:\n",
    "        all_datasets_dict = pickle.load(open( metadata_folder +\"_\" + special_name + \"_MINERVA_prediction_grid.pkl\", \"rb\" ))\n",
    "    \n",
    "        \n",
    "    trainKey = 'train_pearson_trained'\n",
    "    testKey ='test_pearson_trained'\n",
    "    valKey = 'val_pearson_trained'\n",
    "else:\n",
    "    if val_bool:\n",
    "        all_datasets_dict = pickle.load(open( metadata_folder +\"_\" + special_name + \"_MINERVA_tt_grid_VAL.pkl\", \"rb\" ))\n",
    "    else:\n",
    "        all_datasets_dict = pickle.load(open( metadata_folder +\"_\" + special_name + \"_MINERVA_tt_grid.pkl\", \"rb\" ))\n",
    "    \n",
    "        \n",
    "    \n",
    "    trainKey = 'train_auc_trained'\n",
    "    testKey ='test_auc_trained'\n",
    "    valKey = 'val_auc_trained'\n",
    "            "
   ]
  },
  {
   "cell_type": "code",
   "execution_count": 5,
   "metadata": {},
   "outputs": [
    {
     "data": {
      "text/plain": [
       "dict_keys(['dataset0'])"
      ]
     },
     "execution_count": 5,
     "metadata": {},
     "output_type": "execute_result"
    }
   ],
   "source": [
    "all_datasets_dict.keys()\n",
    "#all_datasets_dict['dataset1'] =  all_datasets_dict['dataset0']"
   ]
  },
  {
   "cell_type": "code",
   "execution_count": 6,
   "metadata": {},
   "outputs": [
    {
     "data": {
      "text/plain": [
       "'bin_antibiotic_last_year'"
      ]
     },
     "execution_count": 6,
     "metadata": {},
     "output_type": "execute_result"
    }
   ],
   "source": [
    "phenotype"
   ]
  },
  {
   "cell_type": "code",
   "execution_count": 7,
   "metadata": {},
   "outputs": [],
   "source": [
    "#all_datasets_dict['dataset0'] = all_datasets_dict['dataset1']"
   ]
  },
  {
   "cell_type": "code",
   "execution_count": 8,
   "metadata": {},
   "outputs": [],
   "source": [
    "#k5=all_datasets_dict['dataset0']\n",
    "#k6=all_datasets_dict['dataset0']\n",
    "#k7=all_datasets_dict['dataset0']"
   ]
  },
  {
   "cell_type": "code",
   "execution_count": 9,
   "metadata": {},
   "outputs": [],
   "source": [
    "\n",
    "#all_datasets_dict['dataset0'] = k5\n",
    "#all_datasets_dict['dataset1'] = k6\n",
    "#all_datasets_dict['dataset2'] = k7"
   ]
  },
  {
   "cell_type": "code",
   "execution_count": 10,
   "metadata": {},
   "outputs": [
    {
     "data": {
      "text/plain": [
       "10"
      ]
     },
     "execution_count": 10,
     "metadata": {},
     "output_type": "execute_result"
    }
   ],
   "source": [
    "#VAL = all_datasets_dict\n",
    "#all_datasets_dict['dataset1'] = all_datasets_dict['dataset0']\n",
    "#all_datasets_dict['dataset0'] = VAL['dataset0']\n",
    "num_pcs"
   ]
  },
  {
   "cell_type": "code",
   "execution_count": 11,
   "metadata": {},
   "outputs": [],
   "source": [
    "pc_range = range(num_pcs)\n",
    "#pc_range = [100]"
   ]
  },
  {
   "cell_type": "code",
   "execution_count": 12,
   "metadata": {},
   "outputs": [
    {
     "data": {
      "text/plain": [
       "<Figure size 640x480 with 1 Axes>"
      ]
     },
     "metadata": {},
     "output_type": "display_data"
    }
   ],
   "source": [
    "import matplotlib.pyplot as plt\n",
    "\n",
    "# check MINERVA PCs\n",
    "\n",
    "\n",
    "train_auc = []\n",
    "test_auc = []\n",
    "dataset_num = 0\n",
    "for i in pc_range:\n",
    "      \n",
    "    if not PC:\n",
    "        train_auc.extend(all_datasets_dict['dataset' + str(dataset_num)][trainKey])\n",
    "        test_auc.extend(all_datasets_dict['dataset' + str(dataset_num)][testKey])\n",
    "    else:   \n",
    "        train_auc.extend(all_datasets_dict['dataset' + str(dataset_num)][\"PC\" + str(i)][trainKey])\n",
    "        test_auc.extend(all_datasets_dict['dataset' + str(dataset_num)][\"PC\" + str(i)][testKey])\n",
    "    \n",
    "x = np.array(train_auc)\n",
    "y = np.array(test_auc)\n",
    "plt.scatter( x,  y)\n",
    "\n",
    "m, b = np.polyfit(x, y, 1)\n",
    "\n",
    "plt.plot(x, m*x + b)\n",
    "\n",
    "plt.xlabel(\"Train AUC\")\n",
    "plt.ylabel(\"Test AUC\")\n",
    "plt.title(study_names[dataset_num] + \" MINERVA\")\n",
    "plt.show()"
   ]
  },
  {
   "cell_type": "code",
   "execution_count": 13,
   "metadata": {},
   "outputs": [],
   "source": [
    "\n",
    "#total_pcs = 5\n",
    "#num_pcs=5"
   ]
  },
  {
   "cell_type": "code",
   "execution_count": 14,
   "metadata": {},
   "outputs": [
    {
     "data": {
      "image/png": "[encoded data removed]",
      "text/plain": [
       "<Figure size 432x288 with 1 Axes>"
      ]
     },
     "metadata": {
      "needs_background": "light"
     },
     "output_type": "display_data"
    }
   ],
   "source": [
    "# check MINERVA PCs\n",
    "dataset_num = 0\n",
    "\n",
    "\n",
    "train_auc = []\n",
    "test_auc = []\n",
    "pc_range = range(num_pcs)\n",
    "for i in pc_range:\n",
    "    if not PC:\n",
    "        train_auc.extend(all_datasets_dict['dataset' + str(dataset_num)][valKey])\n",
    "        test_auc.extend(all_datasets_dict['dataset' + str(dataset_num)][testKey])\n",
    "    else:   \n",
    "        train_auc.extend(all_datasets_dict['dataset' + str(dataset_num)][\"PC\" + str(i)][valKey])\n",
    "        test_auc.extend(all_datasets_dict['dataset' + str(dataset_num)][\"PC\" + str(i)][testKey])\n",
    "    \n",
    "x = np.array(train_auc)\n",
    "y = np.array(test_auc)\n",
    "plt.scatter( x,  y)\n",
    "\n",
    "m, b = np.polyfit(x, y, 1)\n",
    "\n",
    "plt.plot(x, m*x + b)\n",
    "\n",
    "plt.xlabel(\"Validation AUC\")\n",
    "plt.ylabel(\"Test AUC\")\n",
    "plt.title(study_names[dataset_num] +\" MINERVA\")\n",
    "plt.show()"
   ]
  },
  {
   "cell_type": "code",
   "execution_count": null,
   "metadata": {},
   "outputs": [],
   "source": []
  },
  {
   "cell_type": "code",
   "execution_count": 15,
   "metadata": {},
   "outputs": [
    {
     "name": "stdout",
     "output_type": "stream",
     "text": [
      "0\n"
     ]
    }
   ],
   "source": [
    "#check overall correlation or trend\n",
    "#total_pcs=5\n",
    "auc_collection = dict()\n",
    "pc_number_collection = dict()\n",
    "\n",
    "\n",
    "for dataset_num in range(len(study_names)):\n",
    "    print(dataset_num)\n",
    "    auc_val = []\n",
    "    pc_num = []\n",
    "    auc = []\n",
    "    plot_train = False\n",
    "    plot_validation = True\n",
    "    \n",
    "    if plot_validation:\n",
    "        extractKey = valKey\n",
    "    else:\n",
    "        extractKey = trainKey\n",
    "    \n",
    "    if not PC:\n",
    "        auc_val.append(np.mean(all_datasets_dict['dataset' + str(dataset_num)][valKey]))\n",
    "    else:\n",
    "\n",
    "        if plot_train:\n",
    "            ylab_input = \"Train AUC with PCs\"\n",
    "        else:\n",
    "            if plot_validation:\n",
    "                ylab_input = \"Validation AUC with PCs\"\n",
    "            else:\n",
    "                ylab_input = \"Test AUC with PCs\"\n",
    "        for i in pc_range:\n",
    "            pc_num.append(i)\n",
    "            auc_val.append(np.mean(all_datasets_dict['dataset' + str(dataset_num)][\"PC\" + str(i)][valKey]))\n",
    "            if plot_train:\n",
    "                auc.append(np.mean(all_datasets_dict['dataset' + str(dataset_num)][\"PC\" + str(i)][trainKey]))\n",
    "            else:\n",
    "                if plot_validation:\n",
    "                    auc.append(np.mean(all_datasets_dict['dataset' + str(dataset_num)][\"PC\" + str(i)][valKey]))\n",
    "                else:\n",
    "                    auc.append(np.mean(all_datasets_dict['dataset' + str(dataset_num)][\"PC\" + str(i)][testKey]))\n",
    "\n",
    "            #export PC result for plotting\n",
    "            output_dict = dict()\n",
    "            if not pred:\n",
    "                methodkey = \"MINERVA_grid_PC\" + str(i) + \"_trans_clr_scale\"\n",
    "                output_dict[ methodkey]=dict()\n",
    "                output_dict[ methodkey]['Random Forest'] = dict()\n",
    "                output_dict[ methodkey]['Random Forest']['auc_all'] = all_datasets_dict['dataset' + str(dataset_num)][\"PC\" + str(i)][extractKey]\n",
    "                pickle.dump(output_dict , open( data_folders[dataset_num] +  data_type + \"_\" + prefix_name + \"_\" + column_of_interest + \"_\" + \"MINERVA_grid_PC\" + str(i) + \"_trans_clr_scale\" + \"_classification_auc.pkl\", \"wb\" ) )\n",
    "\n",
    "\n",
    "            else:\n",
    "                output_dict['pearson'] = all_datasets_dict['dataset' + str(dataset_num)][\"PC\" + str(i)][extractKey]\n",
    "                pickle.dump(output_dict , open( data_folders[dataset_num] +  data_type + \"_\" + prefix_name + \"_\" + column_of_interest + \"_\" + \"MINERVA_grid_PC\" + str(i) + \"_trans_clr_scale\" + \"_pearson_and_mse.pkl\", \"wb\" ) )\n",
    "\n",
    "\n",
    "        \n",
    "        x = np.array(pc_num)\n",
    "        y = np.array(auc)\n",
    "        plt.scatter( x,  y)\n",
    "\n",
    "        m, b = np.polyfit(x, y, 1)\n",
    "\n",
    "        plt.plot(x, m*x + b)\n",
    "\n",
    "        plt.xlabel(\"# PC\")\n",
    "        plt.ylabel(ylab_input)\n",
    "        plt.title(study_names[dataset_num] + \" MINERVA\")\n",
    "        plt.show()\n",
    "        #auc_collection.append(auc)\n",
    "    \n",
    "    \n",
    "    auc_collection[\"dataset\" + str(dataset_num)] = auc_val\n",
    "    if PC:\n",
    "        pc_number_collection[\"dataset\" + str(dataset_num)] = pc_num\n",
    "    \n",
    "\n",
    "# plt.plot(x1, y1, \"g\")\n",
    "\n",
    "\n",
    "\n",
    "# plt.plot(x2, y2, \"r\")"
   ]
  },
  {
   "cell_type": "code",
   "execution_count": 16,
   "metadata": {},
   "outputs": [
    {
     "data": {
      "text/plain": [
       "dict_keys(['train_best_params', 'train_auc_trained', 'mean_train_cv_auc', 'mean_test_cv_auc', 'test_auc_trained', 'val_auc_trained', 'number samples'])"
      ]
     },
     "execution_count": 16,
     "metadata": {},
     "output_type": "execute_result"
    }
   ],
   "source": [
    "all_datasets_dict['dataset' + str(dataset_num)].keys()\n"
   ]
  },
  {
   "cell_type": "code",
   "execution_count": 17,
   "metadata": {},
   "outputs": [],
   "source": [
    "if PC:\n",
    "    \n",
    "    best_pc_per_dataset = []\n",
    "    best_auc_per_dataset = []\n",
    "\n",
    "    for dataset_num in range(len(study_names)):\n",
    "\n",
    "\n",
    "        index_best_pc = auc_collection[\"dataset\" + str(dataset_num)].index(max(auc_collection[\"dataset\" + str(dataset_num)]))\n",
    "        print(dataset_num)\n",
    "        print(index_best_pc)\n",
    "        best_auc_per_dataset.append(auc_collection[\"dataset\" + str(dataset_num)][index_best_pc])\n",
    "        best_pc_per_dataset.append(index_best_pc)\n",
    "else:\n",
    "    best_auc_per_dataset = []\n",
    "    for dataset_num in range(len(study_names)):\n",
    "        best_auc_per_dataset.append(auc_collection[\"dataset\" + str(dataset_num)])"
   ]
  },
  {
   "cell_type": "code",
   "execution_count": 18,
   "metadata": {},
   "outputs": [
    {
     "data": {
      "text/plain": [
       "[[0.6080642561981874]]"
      ]
     },
     "execution_count": 18,
     "metadata": {},
     "output_type": "execute_result"
    }
   ],
   "source": [
    "best_auc_per_dataset"
   ]
  },
  {
   "cell_type": "code",
   "execution_count": 19,
   "metadata": {},
   "outputs": [
    {
     "data": {
      "text/plain": [
       "[0.6080642561981874]"
      ]
     },
     "execution_count": 19,
     "metadata": {},
     "output_type": "execute_result"
    }
   ],
   "source": [
    "auc_collection[\"dataset\" + str(dataset_num)]"
   ]
  },
  {
   "cell_type": "code",
   "execution_count": 20,
   "metadata": {},
   "outputs": [],
   "source": [
    "if PC:\n",
    "    best_kmer = best_auc_per_dataset.index(max(best_auc_per_dataset))\n",
    "    best_pc = best_pc_per_dataset[best_kmer]\n",
    "else:\n",
    "    best_kmer = best_auc_per_dataset.index(max(best_auc_per_dataset))\n",
    "\n"
   ]
  },
  {
   "cell_type": "code",
   "execution_count": null,
   "metadata": {},
   "outputs": [],
   "source": []
  },
  {
   "cell_type": "code",
   "execution_count": 21,
   "metadata": {},
   "outputs": [],
   "source": [
    "#best_pc =100"
   ]
  },
  {
   "cell_type": "code",
   "execution_count": 22,
   "metadata": {},
   "outputs": [
    {
     "name": "stdout",
     "output_type": "stream",
     "text": [
      "best_kmerAGP_max_k7\n"
     ]
    }
   ],
   "source": [
    "output_dict = dict()\n",
    "pc0_dict = dict()\n",
    "\n",
    "\n",
    "print(\"best_kmer\" + str(study_names[best_kmer]))\n",
    "if pred:\n",
    "    #pc0_dict[method]=dict()\n",
    "    if PC:\n",
    "        all_datasets_dict['dataset' + str(best_kmer)][\"PC\" + str(best_pc)][testKey]\n",
    "        output_dict['pearson'] = all_datasets_dict['dataset' + str(best_kmer)][\"PC\" + str(best_pc)][testKey]\n",
    "        pc0_dict['pearson'] = all_datasets_dict['dataset' + str(best_kmer)][\"PC0\"][testKey]\n",
    "        pickle.dump(pc0_dict , open( data_folders[best_kmer] +  data_type + \"_\" + prefix_name + \"_\" + column_of_interest + \"_MINERVA0_grid_trans_clr_scale\" + \"_pearson_and_mse.pkl\", \"wb\" ) )\n",
    "       \n",
    "    \n",
    "        \n",
    "    else:\n",
    "        output_dict['pearson'] = all_datasets_dict['dataset' + str(best_kmer)][testKey]\n",
    "    \n",
    "    \n",
    "    pickle.dump(output_dict , open( data_folders[best_kmer] +  data_type + \"_\" + prefix_name + \"_\" + column_of_interest + \"_\" + method + \"_pearson_and_mse.pkl\", \"wb\" ) )\n",
    "       \n",
    "else:\n",
    "    output_dict[method]=dict()\n",
    "    output_dict[method]['Random Forest'] = dict()\n",
    "    \n",
    "    pc0_dict['MINERVA0_grid_trans_clr_scale']=dict()\n",
    "    pc0_dict['MINERVA0_grid_trans_clr_scale']['Random Forest'] = dict()\n",
    "    \n",
    "    if PC:\n",
    "        all_datasets_dict['dataset' + str(best_kmer)][\"PC\" + str(best_pc)][testKey]\n",
    "        output_dict[method]['Random Forest']['auc_all'] = all_datasets_dict['dataset' + str(best_kmer)][\"PC\" + str(best_pc)][testKey]\n",
    "        #pc0_dict['MINERVA0_grid_trans_clr_scale']['Random Forest']['auc_all'] = all_datasets_dict['dataset' + str(best_kmer)][\"PC0\"][testKey]\n",
    "        #pickle.dump(pc0_dict , open( data_folders[best_kmer] +  data_type + \"_\" + prefix_name + \"_\" + column_of_interest + \"_MINERVA0_grid_trans_clr_scale\" + \"_classification_auc.pkl\", \"wb\" ) )\n",
    "       \n",
    "    \n",
    "        \n",
    "    else:\n",
    "        output_dict[method]['Random Forest']['auc_all'] = all_datasets_dict['dataset' + str(best_kmer)][testKey]\n",
    "        \n",
    "    \n",
    "    pickle.dump(output_dict , open( data_folders[best_kmer] +  data_type + \"_\" + prefix_name + \"_\" + column_of_interest + \"_\" + method + \"_classification_auc.pkl\", \"wb\" ) )\n",
    "    \n",
    "    \n",
    "    \n",
    "    "
   ]
  },
  {
   "cell_type": "code",
   "execution_count": 23,
   "metadata": {
    "scrolled": true
   },
   "outputs": [
    {
     "data": {
      "text/plain": [
       "'/Users/leahbriscoe/Documents/MicroBatch/microbatch_vc/data/AGP_max_k7/kmer_BatchCorrected_bin_antibiotic_last_year_domaincorr_grid_trans_none_classification_auc.pkl'"
      ]
     },
     "execution_count": 23,
     "metadata": {},
     "output_type": "execute_result"
    }
   ],
   "source": [
    "data_folders[best_kmer] +  data_type + \"_\" + prefix_name + \"_\" + column_of_interest + \"_\" + method + \"_classification_auc.pkl\""
   ]
  },
  {
   "cell_type": "code",
   "execution_count": 24,
   "metadata": {},
   "outputs": [
    {
     "data": {
      "text/plain": [
       "{'domaincorr_grid_trans_none': {'Random Forest': {'auc_all': [0.596882979835438,\n",
       "    0.5888185239202178,\n",
       "    0.621524215956737,\n",
       "    0.5969785141272197,\n",
       "    0.6207861364109758,\n",
       "    0.5971953289496608,\n",
       "    0.6104721884846463,\n",
       "    0.5981628887848699,\n",
       "    0.6171647026162993,\n",
       "    0.617419497859306,\n",
       "    0.6156173934901965,\n",
       "    0.5957463588306445,\n",
       "    0.5973283333665309,\n",
       "    0.6007266218665657,\n",
       "    0.6106336024340178,\n",
       "    0.6071016802142392,\n",
       "    0.6275902576942414,\n",
       "    0.5887474915097252,\n",
       "    0.5993422838092203,\n",
       "    0.6209066292547285,\n",
       "    0.6149259633045789,\n",
       "    0.6116332312080319,\n",
       "    0.5923673736916013,\n",
       "    0.6141602719875708,\n",
       "    0.6034371906922237,\n",
       "    0.5960605745730398,\n",
       "    0.6121504427642026,\n",
       "    0.623281092830324,\n",
       "    0.588122080689978,\n",
       "    0.6132849120230996,\n",
       "    0.6273796398154278,\n",
       "    0.5916657540928933,\n",
       "    0.6143210207750301,\n",
       "    0.6059676859146093,\n",
       "    0.5908209361141961,\n",
       "    0.6173542910048432,\n",
       "    0.6123557718631936,\n",
       "    0.6087114638628012,\n",
       "    0.6000106439661783,\n",
       "    0.5914082998086125,\n",
       "    0.6075446933005471,\n",
       "    0.6278828516603034,\n",
       "    0.589184921172405,\n",
       "    0.6137418271768467,\n",
       "    0.6007203417139687,\n",
       "    0.6240830189101878,\n",
       "    0.5940592380672683,\n",
       "    0.6050645049248573,\n",
       "    0.6147870833291836,\n",
       "    0.5952052254663961]}}}"
      ]
     },
     "execution_count": 24,
     "metadata": {},
     "output_type": "execute_result"
    }
   ],
   "source": [
    "output_dict"
   ]
  }
 ],
 "metadata": {
  "kernelspec": {
   "display_name": "Python 3",
   "language": "python",
   "name": "python3"
  },
  "language_info": {
   "codemirror_mode": {
    "name": "ipython",
    "version": 3
   },
   "file_extension": ".py",
   "mimetype": "text/x-python",
   "name": "python",
   "nbconvert_exporter": "python",
   "pygments_lexer": "ipython3",
   "version": "3.6.8"
  }
 },
 "nbformat": 4,
 "nbformat_minor": 2
}
