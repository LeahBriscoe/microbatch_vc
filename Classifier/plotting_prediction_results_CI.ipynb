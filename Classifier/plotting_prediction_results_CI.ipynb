{
 "cells": [
  {
   "cell_type": "code",
   "execution_count": 1,
   "metadata": {},
   "outputs": [],
   "source": [
    "import pickle\n",
    "import pandas as pd\n",
    "import seaborn as sns\n",
    "import matplotlib.pyplot as plt"
   ]
  },
  {
   "cell_type": "code",
   "execution_count": 2,
   "metadata": {},
   "outputs": [],
   "source": [
    "data_folder = '/Users/leahbriscoe/Documents/MicroBatch/microbatch_vc/data/'\n",
    "plot_folder = '/Users/leahbriscoe/Documents/MicroBatch/microbatch_vc/plots/'"
   ]
  },
  {
   "cell_type": "code",
   "execution_count": 7,
   "metadata": {},
   "outputs": [],
   "source": [
    "file_names =[ 'kmer_BatchCorrected_bmi_corrected_pearson_and_mse',\n",
    "             'kmer_BatchCorrected_bmi_corrected_pearson_and_mse',\n",
    "             'kmer_BatchCorrected_bmi_corrected_pearson_and_mse',\n",
    "             'kmer_BatchCorrected_bmi_corrected_pearson_and_mse']\n",
    "             #'kmer_BatchCorrected_bmi_corrected_pearson_and_mse']\n",
    "\n",
    "    #'otu_BatchCorrected_bmi_corrected_pearson_and_mse'\n",
    "#'kmer_kmer_table_bmi_corrected_pearson_and_mse',\n",
    "\n",
    "#['bmi_corrected_pearson_and_mse','bmi_corrected_pearson_and_mse']\n",
    "    \n",
    "# file_names =[ 'otu_BatchCorrected_antibiotic_classification_auc',\n",
    "#              'kmer_BatchCorrected_antibiotic_classification_auc',\n",
    "#              'kmer_kmer_table_antibiotic_classification_auc']\n",
    "folder_names = ['AGP_Hfilter_k5/cont_pred','AGP_Hfilter_k6/cont_pred',\n",
    "                'AGP_Hfilter_k7/cont_pred','AGP_Hfilter_k8/cont_pred'] #'AGP_Hfilter_k6/cont_pred',\n",
    "nice_names = [\"5-mer\",\"6-mer\",\"7-mer\",\"8-mer\"] \n",
    "\n",
    "# file_names =[ 'kmer_BatchCorrected_antibiotic_classification_auc',\n",
    "#              'kmer_BatchCorrected_antibiotic_classification_auc',\n",
    "#              'kmer_BatchCorrected_antibiotic_classification_auc',\n",
    "#             'kmer_BatchCorrected_antibiotic_classification_auc']\n",
    "#folder_names = ['AGP_Hfilter_k5/robust_k','AGP_Hfilter_k6/robust_k','AGP_Hfilter_k7/robust_k','AGP_Hfilter_k8/robust_k']\n",
    "\n",
    "#folder_names = ['AGP_otumatch_otu','AGP_otumatch_k7','AGP_otumatch_k7'] #,'AGP_otumatch_k7']#['AGP_healthymax_k6', 'AGP_healthymax_k7']\n",
    "#['AGP_otumatch_otu','AGP_otumatch_k7','AGP_otumatch_k7']\n",
    "#['AGP_healthymax_k6', 'AGP_healthymax_k7']\n",
    "#nice_names = [\"5-mer\",\"6-mer\",\"7-mer\",\"8-mer\"] #,\"KMER\"]#, 'KMER old batch correct','KMER MINERVA']\n",
    "\n",
    "metric_word = 'pearson' #auc_all'#''auc_all' # '\n",
    "classifier = 'bmi_prediction'#'  #'Naive Bayes' #'\n",
    "select_columns_bool = True\n",
    "title = 'Pearson correlation of predicted body mass index (BMI)'#'AUC for prediction of antibiotic history' #\n",
    "special_name = \"BMI prediction\"#\"Antibody prediction\"#"
   ]
  },
  {
   "cell_type": "code",
   "execution_count": 8,
   "metadata": {},
   "outputs": [],
   "source": [
    "df_metric = pd.DataFrame()"
   ]
  },
  {
   "cell_type": "code",
   "execution_count": 9,
   "metadata": {},
   "outputs": [],
   "source": [
    "\n",
    "for f in range(len(file_names)):\n",
    "\n",
    "    data_temp = pickle.load( open( data_folder + folder_names[f] +\"/\"+ file_names[f] + \".pkl\" ,\"rb\"))\n",
    "    #methods_lists.append([k for k in data1.keys()])   \n",
    "    for k in data_temp:\n",
    "        if metric_word == \"auc_all\":\n",
    "            df_metric[nice_names[f] + str(k)] = pd.Series(data_temp[k][classifier][metric_word])\n",
    "        else:\n",
    "            df_metric[nice_names[f] + str(k)] = pd.Series(data_temp[k][metric_word])\n",
    "    "
   ]
  },
  {
   "cell_type": "code",
   "execution_count": 10,
   "metadata": {},
   "outputs": [
    {
     "data": {
      "text/plain": [
       "Index(['5-merclr_pca_regress_out_no_scale_first10',\n",
       "       '5-merclr_pca_regress_out_scale_first10', '6-merraw', '6-merbmc',\n",
       "       '6-merComBat', '6-merlimma',\n",
       "       '6-merclr_pca_regress_out_no_scale_first10',\n",
       "       '6-merclr_pca_regress_out_scale_first10', '6-mersmartsva_first10',\n",
       "       '6-merrefactor_first10', '7-merraw', '7-merbmc', '7-merComBat',\n",
       "       '7-merlimma', '7-merclr_pca_regress_out_no_scale_first10',\n",
       "       '7-merclr_pca_regress_out_scale_first10', '7-mersmartsva_first10',\n",
       "       '7-merrefactor_first10', '8-merclr_pca_regress_out_no_scale_first10'],\n",
       "      dtype='object')"
      ]
     },
     "execution_count": 10,
     "metadata": {},
     "output_type": "execute_result"
    }
   ],
   "source": [
    "df_metric.columns\n",
    "#df_metric.sort_values('OTUraw')\n",
    "#In this example, there are NO "
   ]
  },
  {
   "cell_type": "code",
   "execution_count": 14,
   "metadata": {},
   "outputs": [],
   "source": [
    "select_columns_bool = True"
   ]
  },
  {
   "cell_type": "code",
   "execution_count": 13,
   "metadata": {},
   "outputs": [],
   "source": [
    "select_columns = [ i + 'clr_pca_regress_out_no_scale_first10' for i in nice_names ] \n",
    "select_labels = [ i + ' MINERVA' for i in nice_names ] "
   ]
  },
  {
   "cell_type": "code",
   "execution_count": 15,
   "metadata": {},
   "outputs": [
    {
     "data": {
      "text/plain": [
       "['5-mer MINERVA', '6-mer MINERVA', '7-mer MINERVA', '8-mer MINERVA']"
      ]
     },
     "execution_count": 15,
     "metadata": {},
     "output_type": "execute_result"
    }
   ],
   "source": [
    "select_labels"
   ]
  },
  {
   "cell_type": "code",
   "execution_count": 16,
   "metadata": {},
   "outputs": [
    {
     "data": {
      "image/png": "[encoded data removed]",
      "text/plain": [
       "<Figure size 432x288 with 1 Axes>"
      ]
     },
     "metadata": {
      "needs_background": "light"
     },
     "output_type": "display_data"
    }
   ],
   "source": [
    "# ['6-mers norm', '6-mers no_scale_clr','6-mers scale_clr','7-mers norm','7-mers no_scale_clr','7-mers scale_clr']\n",
    "# ['6-mers Raw', '6-mers MINVERVA','6-mers MINERVA-scale', '7-mers Raw','7-mers MINVERVA','7-mers MINVERVA-scale']\n",
    "# Make boxplot for one group only\n",
    "\n",
    "current_palette = sns.color_palette()\n",
    "#sns.palplot(current_palette)\n",
    "palette = sns.color_palette(\"hls\", 8)\n",
    "plot_color = palette.as_hex()\n",
    "\n",
    "\n",
    "# select_columns = ['OTUraw','OTUbmc','OTUComBat','OTUlimma','KMERraw',\n",
    "#                   'KMERbmc','KMERComBat','KMERlimma',\"KMERsmartsva_first10\",\n",
    "#                   \"KMERrefactor_first10\", \"KMERclr_pca_regress_out_no_scale_first10\"]\n",
    "\n",
    "# select_columns = ['OTUraw','OTUbmc','OTUComBat','OTUlimma',\n",
    "#                                  'KMERraw','KMERbmc','KMERComBat','KMERlimma',\n",
    "#                   \"KMERsmartsva_first10\",\"KMERrefactor_first10\",\n",
    "#                  \"KMERno_scale_clr\"] #clr_pca_regress_out_no_scale_first10\n",
    "\n",
    "# ['OTUraw','OTUbmc','OTUComBat','OTUlimma',\n",
    "#                                  'OTUclr_pca_regress_out_no_scale',\"KMERnorm\",\"KMERno_scale_clr\"]\n",
    "\n",
    "# select_labels = ['OTU raw','OTU BMC','OTU ComBat','OTU limma',\n",
    "#                                      \"K-mer raw\",\"K-mer BMC\", \"K-mer ComBat\",\n",
    "#                 \"K-mer limma\",\"K-mer smartsva\",\"K-mer refactor\",\"K-mer MINERVA\"]\n",
    "#['OTU raw','OTU BMC','OTU ComBat','OTU limma',\"OTU MINERVA\",\"K-mer raw\", \"K-mer MINERVA\"]\n",
    "\n",
    "\n",
    "# ['OTU raw','OTU BMC','OTU ComBat','OTU limma',\n",
    "#                                      \"K-mer raw\",\"K-mer ComBat\",\"K-mer smartsva*\",\n",
    "#                                     \"K-mer MINERVA\"]\n",
    "if select_columns_bool:\n",
    "    g=sns.boxplot( data = df_metric[select_columns],palette=plot_color)\n",
    "    #plot_color[0:4] + [plot_color[7]] + [plot_color[4]] + [plot_color[7]\n",
    "    g.set_xticklabels(rotation=90,labels = select_labels) #df_metric.columns\n",
    "else:\n",
    "    g=sns.boxplot( data = df_metric)\n",
    "    g.set_xticklabels(rotation=90,labels = df_metric.columns)\n",
    "    \n",
    "g.set_title(title)\n",
    "plt.savefig(plot_folder + 'boxplots_' + classifier + '_' + metric_word + \"_\" + special_name + '.pdf',bbox_inches='tight')\n",
    "plt.savefig(plot_folder + 'boxplots_' + classifier + '_' + metric_word + \"_\" + special_name + '.png',bbox_inches='tight')"
   ]
  },
  {
   "cell_type": "code",
   "execution_count": 35,
   "metadata": {},
   "outputs": [
    {
     "data": {
      "text/plain": [
       "['#db5f57', '#dbc257', '#91db57', '#db57b2', '#57d3db', '#db57b2']"
      ]
     },
     "execution_count": 35,
     "metadata": {},
     "output_type": "execute_result"
    }
   ],
   "source": []
  },
  {
   "cell_type": "code",
   "execution_count": 33,
   "metadata": {},
   "outputs": [
    {
     "data": {
      "text/plain": [
       "[1.0, 1.0, 1.0, 1.0, 0.0, 0.0, 0.0, 0.0]"
      ]
     },
     "execution_count": 33,
     "metadata": {},
     "output_type": "execute_result"
    }
   ],
   "source": []
  }
 ],
 "metadata": {
  "kernelspec": {
   "display_name": "Python 3",
   "language": "python",
   "name": "python3"
  },
  "language_info": {
   "codemirror_mode": {
    "name": "ipython",
    "version": 3
   },
   "file_extension": ".py",
   "mimetype": "text/x-python",
   "name": "python",
   "nbconvert_exporter": "python",
   "pygments_lexer": "ipython3",
   "version": "3.6.8"
  }
 },
 "nbformat": 4,
 "nbformat_minor": 2
}
