{
 "cells": [
  {
   "cell_type": "code",
   "execution_count": 1,
   "metadata": {},
   "outputs": [],
   "source": [
    "import pickle\n",
    "import pandas as pd\n",
    "import seaborn as sns\n",
    "import matplotlib.pyplot as plt\n",
    "import os"
   ]
  },
  {
   "cell_type": "code",
   "execution_count": 2,
   "metadata": {},
   "outputs": [],
   "source": [
    "data_folder = '/Users/leahbriscoe/Documents/MicroBatch/microbatch_vc/data/'\n",
    "plot_folder = '/Users/leahbriscoe/Documents/MicroBatch/microbatch_vc/plots/'"
   ]
  },
  {
   "cell_type": "code",
   "execution_count": null,
   "metadata": {},
   "outputs": [],
   "source": []
  },
  {
   "cell_type": "code",
   "execution_count": 3,
   "metadata": {},
   "outputs": [],
   "source": [
    "# file_names =[ 'kmer_BatchCorrected_bmi_corrected_pearson_and_mse',\n",
    "#              'kmer_BatchCorrected_bmi_corrected_pearson_and_mse',\n",
    "#              'kmer_BatchCorrected_bmi_corrected_pearson_and_mse',\n",
    "#              'kmer_BatchCorrected_bmi_corrected_pearson_and_mse']\n",
    "             #'kmer_BatchCorrected_bmi_corrected_pearson_and_mse']\n",
    "\n",
    "    #'otu_BatchCorrected_bmi_corrected_pearson_and_mse'\n",
    "#'kmer_kmer_table_bmi_corrected_pearson_and_mse',\n",
    "\n",
    "#['bmi_corrected_pearson_and_mse','bmi_corrected_pearson_and_mse']\n",
    "# folder_names = ['AGP_Hfilter_otu','AGP_Hfilter_k6/robust_k','AGP_Hfilter_k7/robust_k']\n",
    "# file_names =[ 'otu_BatchCorrected_antibiotic_classification_auc',\n",
    "#              'kmer_BatchCorrected_antibiotic_classification_auc',\n",
    "#              'kmer_BatchCorrected_antibiotic_classification_auc']\n",
    "\n",
    "# nice_names = [\"OTU\",\"KMER\",\"KMER\"]\n",
    "select_columns_bool = False\n",
    "select_labels = [0,1,2,3,10,20,30]#[\"raw\",\"MINERVA\",\"Refactor\",\"SmartSVA\"]\n",
    "\n",
    "lin_model = \"reg\"\n",
    "phen = \"preg_outcome\"# \"preg_outcome\"#\"#\"bmi_corrected\"gest_age_delivery_wk\n",
    "phen_pretty = \"Preterm Birth\"#\"colorectal cancer status\"\n",
    "phen_type = \"class\"\n",
    "not_rotate = True\n",
    "data_type = \"kmer\"\n",
    "trans = \"clr_scale\"\n",
    "numPc =  [0,1,2,3,4,5,6,7,8,9, 10,20,30,40,50]##,20,30,40,50,100,120,140] #[0,0,0,0,10,10,1] # [0\n",
    "folder_names = ['PTBmeta_k6' for i in range(len(numPc))]\n",
    "file_names = ['rawfilter_TRUE']+['minerva_first' + str(numPc[i]) + 'filter_TRUE' for i in range(1,len(numPc))] \n",
    "#+['smartsva_first' + str(numPc[i]) + 'filter_TRUE' for i in range(1,len(numPc))]\n",
    "\n",
    "#file_names = ['rawfilter_TRUE']+['refactor_first' + str(numPc[i]) + 'filter_TRUE' for i in range(1,len(numPc))]\n",
    "#\n",
    "# file_names = ['rawfilter_TRUE','ComBatfilter_TRUE','bmcfilter_TRUE','limmafilter_TRUE',\n",
    "#               'smartsva_first1filter_TRUE','smartsva_first2filter_TRUE','smartsva_first3filter_TRUE',\n",
    "#               'refactor_first1filter_TRUE','refactor_first2filter_TRUE','refactor_first3filter_TRUE',\n",
    "#               'minerva_first1filter_TRUE','minerva_first2filter_TRUE','minerva_first3filter_TRUE']   #['smartsva_first10' + str(numPc[i]) + 'filter_TRUE' for i in range(len(numPc))]\n",
    "#'bmcfilter_TRUE','limmafilter_TRUE', ''refactor_first2filter_TRUE',\n",
    "#file_names = ['rawfilter_TRUE','ComBatfilter_TRUE','bmcfilter_TRUE','limmafilter_TRUE', 'smartsva_first4filter_TRUE','refactor_protect_first1filter_TRUE','minerva_first1filter_TRUE']   #['smartsva_first10' + str(numPc[i]) + 'filter_TRUE' for i in range(len(numPc))]\n",
    "#file_names = ['rawfilter_TRUE']+ ['smartsva_first' + str(numPc[i]) + 'filter_TRUE' for i in range(1,len(numPc))]\n",
    "#file_names = ['rawfilter_TRUE']+ ['refactor_first' + str(numPc[i]) + 'filter_TRUE' for i in range(1,len(numPc))]\n",
    "\n",
    "file_names = [f + \"_trans_\" + trans for f in file_names]\n",
    "nice_names = [\"7\" + '-mer' for i in range(len(numPc))]\n",
    "\n",
    "# file_names =[ 'kmer_BatchCorrected_antibiotic_classification_auc',\n",
    "#              'kmer_BatchCorrected_antibiotic_classification_auc',\n",
    "#              'kmer_BatchCorrected_antibiotic_classification_auc',\n",
    "#             'kmer_BatchCorrected_antibiotic_classification_auc']\n",
    "#folder_names = ['AGP_Hfilter_k5/robust_k','AGP_Hfilter_k6/robust_k','AGP_Hfilter_k7/robust_k','AGP_Hfilter_k8/robust_k']\n",
    "\n",
    "#folder_names = ['AGP_otumatch_otu','AGP_otumatch_k7','AGP_otumatch_k7'] #,'AGP_otumatch_k7']#['AGP_healthymax_k6', 'AGP_healthymax_k7']\n",
    "#['AGP_otumatch_otu','AGP_otumatch_k7','AGP_otumatch_k7']\n",
    "#['AGP_healthymax_k6', 'AGP_healthymax_k7']\n",
    "#nice_names = [\"5-mer\",\"6-mer\",\"7-mer\",\"8-mer\"] #,\"KMER\"]#, 'KMER old batch correct','KMER MINERVA']\n",
    "\n",
    "if phen_type == \"cont\":\n",
    "    \n",
    "    metric_word = 'pearson' # 'auc_all'#'pearson' # 'auc_all'#''auc_all' # 'pearson' # \n",
    "    classifier_name = 'bmi_prediction' #'bin_antibiotic_last_year'### #'bin_omnivore_diet'#'' 'bin_antibiotic_last_year'# #'Naive Bayes' #'\n",
    "    classifier = 'Regression'# \"Random Forest\"##\"Random Forest\"#'Regression'#\"Random Forest\"\n",
    "\n",
    "    title = 'Pearson correlation of predicted body mass index (BMI)'# 'AUC for prediction of antibiotic history'#'AUC for prediction of antibiotic history'#'Pearson correlation of predicted body mass index (BMI)'#'AUC for prediction of antibiotic history'#' #AUC for prediction of antibiotic history' #\n",
    "    special_name = phen #\"Antibiotic history class prediction\"#\"Antibiotic history class prediction\"#\"BMI prediction\" #\"Antibiotic history class prediction\"#\"BMI prediction\"# \"Antibody prediction\"# \n",
    "else:\n",
    "    metric_word =  'auc_all'#'pearson' # 'auc_all'#''auc_all' # 'pearson' # \n",
    "    classifier_name = 'bin_antibiotic_last_year'### #'bin_omnivore_diet'#'' 'bin_antibiotic_last_year'# #'Naive Bayes' #'\n",
    "    classifier = \"Naive Bayes\"#\"Random Forest\"#\"Random Forest\"#\"#'Regression'#\"Random Forest\"\n",
    "\n",
    "    title = 'AUC for prediction of ' + phen_pretty #'AUC for prediction of antibiotic history'#'Pearson correlation of predicted body mass index (BMI)'#'AUC for prediction of antibiotic history'#' #AUC for prediction of antibiotic history' #\n",
    "    special_name = phen #\"Antibiotic history class prediction\"#\"BMI prediction\" #\"Antibiotic history class prediction\"#\"BMI prediction\"# \"Antibody prediction\"# \n"
   ]
  },
  {
   "cell_type": "code",
   "execution_count": null,
   "metadata": {},
   "outputs": [],
   "source": []
  },
  {
   "cell_type": "code",
   "execution_count": null,
   "metadata": {},
   "outputs": [],
   "source": []
  },
  {
   "cell_type": "code",
   "execution_count": 4,
   "metadata": {},
   "outputs": [
    {
     "data": {
      "text/plain": [
       "['PTBmeta_k6',\n",
       " 'PTBmeta_k6',\n",
       " 'PTBmeta_k6',\n",
       " 'PTBmeta_k6',\n",
       " 'PTBmeta_k6',\n",
       " 'PTBmeta_k6',\n",
       " 'PTBmeta_k6',\n",
       " 'PTBmeta_k6',\n",
       " 'PTBmeta_k6',\n",
       " 'PTBmeta_k6',\n",
       " 'PTBmeta_k6',\n",
       " 'PTBmeta_k6',\n",
       " 'PTBmeta_k6',\n",
       " 'PTBmeta_k6',\n",
       " 'PTBmeta_k6']"
      ]
     },
     "execution_count": 4,
     "metadata": {},
     "output_type": "execute_result"
    }
   ],
   "source": [
    "folder_names"
   ]
  },
  {
   "cell_type": "code",
   "execution_count": 5,
   "metadata": {},
   "outputs": [],
   "source": [
    "df_metric = pd.DataFrame()"
   ]
  },
  {
   "cell_type": "code",
   "execution_count": 6,
   "metadata": {},
   "outputs": [
    {
     "name": "stdout",
     "output_type": "stream",
     "text": [
      "/Users/leahbriscoe/Documents/MicroBatch/microbatch_vc/data/PTBmeta_k6/class_pred/kmer_BatchCorrected_preg_outcome_rawfilter_TRUE_trans_clr_scale_classification_auc.pkl\n",
      "not file\n",
      "rawfilter_TRUE_trans_clr_scale\n",
      "/Users/leahbriscoe/Documents/MicroBatch/microbatch_vc/data/PTBmeta_k6/class_pred/kmer_BatchCorrected_preg_outcome_minerva_first1filter_TRUE_trans_clr_scale_classification_auc.pkl\n",
      "/Users/leahbriscoe/Documents/MicroBatch/microbatch_vc/data/PTBmeta_k6/class_pred/kmer_BatchCorrected_preg_outcome_minerva_first2filter_TRUE_trans_clr_scale_classification_auc.pkl\n",
      "/Users/leahbriscoe/Documents/MicroBatch/microbatch_vc/data/PTBmeta_k6/class_pred/kmer_BatchCorrected_preg_outcome_minerva_first3filter_TRUE_trans_clr_scale_classification_auc.pkl\n",
      "/Users/leahbriscoe/Documents/MicroBatch/microbatch_vc/data/PTBmeta_k6/class_pred/kmer_BatchCorrected_preg_outcome_minerva_first4filter_TRUE_trans_clr_scale_classification_auc.pkl\n",
      "/Users/leahbriscoe/Documents/MicroBatch/microbatch_vc/data/PTBmeta_k6/class_pred/kmer_BatchCorrected_preg_outcome_minerva_first5filter_TRUE_trans_clr_scale_classification_auc.pkl\n",
      "/Users/leahbriscoe/Documents/MicroBatch/microbatch_vc/data/PTBmeta_k6/class_pred/kmer_BatchCorrected_preg_outcome_minerva_first6filter_TRUE_trans_clr_scale_classification_auc.pkl\n",
      "/Users/leahbriscoe/Documents/MicroBatch/microbatch_vc/data/PTBmeta_k6/class_pred/kmer_BatchCorrected_preg_outcome_minerva_first7filter_TRUE_trans_clr_scale_classification_auc.pkl\n",
      "/Users/leahbriscoe/Documents/MicroBatch/microbatch_vc/data/PTBmeta_k6/class_pred/kmer_BatchCorrected_preg_outcome_minerva_first8filter_TRUE_trans_clr_scale_classification_auc.pkl\n",
      "/Users/leahbriscoe/Documents/MicroBatch/microbatch_vc/data/PTBmeta_k6/class_pred/kmer_BatchCorrected_preg_outcome_minerva_first9filter_TRUE_trans_clr_scale_classification_auc.pkl\n",
      "/Users/leahbriscoe/Documents/MicroBatch/microbatch_vc/data/PTBmeta_k6/class_pred/kmer_BatchCorrected_preg_outcome_minerva_first10filter_TRUE_trans_clr_scale_classification_auc.pkl\n",
      "/Users/leahbriscoe/Documents/MicroBatch/microbatch_vc/data/PTBmeta_k6/class_pred/kmer_BatchCorrected_preg_outcome_minerva_first20filter_TRUE_trans_clr_scale_classification_auc.pkl\n",
      "/Users/leahbriscoe/Documents/MicroBatch/microbatch_vc/data/PTBmeta_k6/class_pred/kmer_BatchCorrected_preg_outcome_minerva_first30filter_TRUE_trans_clr_scale_classification_auc.pkl\n",
      "/Users/leahbriscoe/Documents/MicroBatch/microbatch_vc/data/PTBmeta_k6/class_pred/kmer_BatchCorrected_preg_outcome_minerva_first40filter_TRUE_trans_clr_scale_classification_auc.pkl\n",
      "/Users/leahbriscoe/Documents/MicroBatch/microbatch_vc/data/PTBmeta_k6/class_pred/kmer_BatchCorrected_preg_outcome_minerva_first50filter_TRUE_trans_clr_scale_classification_auc.pkl\n"
     ]
    }
   ],
   "source": [
    "\n",
    "for f in range(len(file_names)):\n",
    "    \n",
    "    if metric_word == 'pearson':\n",
    "        filename_temp = data_folder + folder_names[f] +\"/cont_pred/\"+ data_type + \"_BatchCorrected_\" + phen + \"_\"+ file_names[f] + \"_lin_model_\" + lin_model + \"_pearson_and_mse.pkl\"\n",
    "        \n",
    "    else:\n",
    "        filename_temp = data_folder + folder_names[f] +\"/class_pred/\"+ data_type + \"_BatchCorrected_\"+ phen + \"_\" + file_names[f] + \"_classification_auc.pkl\"\n",
    "    print(filename_temp)\n",
    "    if os.path.isfile(filename_temp):\n",
    "        \n",
    "        data_temp = pickle.load( open( filename_temp ,\"rb\"))\n",
    "    \n",
    "        #methods_lists.append([k for k in data1.keys()]) \n",
    "        index = file_names[f]\n",
    "        if metric_word == \"auc_all\":\n",
    "            #index = nice_names[f] + \"_first_\" + str(numPc[f])\n",
    "            \n",
    "            df_metric[index] = pd.Series(data_temp[file_names[f]][classifier][metric_word])\n",
    "            #nice_names[f] + \"_first_\" + str(numPc[f])\n",
    "        else:\n",
    "            df_metric[index] = pd.Series(data_temp[metric_word])\n",
    "    else:\n",
    "        print(\"not file\")\n",
    "        print(file_names[f])\n",
    "        df_metric[nice_names[f] + file_names[f]] = 0\n",
    "        df_metric[nice_names[f] + file_names[f]] = 0\n",
    "        \n",
    "    "
   ]
  },
  {
   "cell_type": "code",
   "execution_count": null,
   "metadata": {},
   "outputs": [],
   "source": []
  },
  {
   "cell_type": "code",
   "execution_count": 7,
   "metadata": {},
   "outputs": [
    {
     "data": {
      "text/plain": [
       "'/Users/leahbriscoe/Documents/MicroBatch/microbatch_vc/data/PTBmeta_k6/class_pred/kmer_BatchCorrected_preg_outcome_minerva_first50filter_TRUE_trans_clr_scale_classification_auc.pkl'"
      ]
     },
     "execution_count": 7,
     "metadata": {},
     "output_type": "execute_result"
    }
   ],
   "source": [
    "filename_temp"
   ]
  },
  {
   "cell_type": "code",
   "execution_count": 8,
   "metadata": {},
   "outputs": [
    {
     "data": {
      "text/plain": [
       "(50, 15)"
      ]
     },
     "execution_count": 8,
     "metadata": {},
     "output_type": "execute_result"
    }
   ],
   "source": [
    "df_metric.shape\n"
   ]
  },
  {
   "cell_type": "code",
   "execution_count": 9,
   "metadata": {},
   "outputs": [
    {
     "data": {
      "text/plain": [
       "Index(['7-merrawfilter_TRUE_trans_clr_scale',\n",
       "       'minerva_first1filter_TRUE_trans_clr_scale',\n",
       "       'minerva_first2filter_TRUE_trans_clr_scale',\n",
       "       'minerva_first3filter_TRUE_trans_clr_scale',\n",
       "       'minerva_first4filter_TRUE_trans_clr_scale',\n",
       "       'minerva_first5filter_TRUE_trans_clr_scale',\n",
       "       'minerva_first6filter_TRUE_trans_clr_scale',\n",
       "       'minerva_first7filter_TRUE_trans_clr_scale',\n",
       "       'minerva_first8filter_TRUE_trans_clr_scale',\n",
       "       'minerva_first9filter_TRUE_trans_clr_scale',\n",
       "       'minerva_first10filter_TRUE_trans_clr_scale',\n",
       "       'minerva_first20filter_TRUE_trans_clr_scale',\n",
       "       'minerva_first30filter_TRUE_trans_clr_scale',\n",
       "       'minerva_first40filter_TRUE_trans_clr_scale',\n",
       "       'minerva_first50filter_TRUE_trans_clr_scale'],\n",
       "      dtype='object')"
      ]
     },
     "execution_count": 9,
     "metadata": {},
     "output_type": "execute_result"
    }
   ],
   "source": [
    "df_metric.columns\n",
    "#df_metric.sort_values('OTUraw')\n",
    "#In this example, there are NO "
   ]
  },
  {
   "cell_type": "code",
   "execution_count": null,
   "metadata": {},
   "outputs": [],
   "source": []
  },
  {
   "cell_type": "code",
   "execution_count": 10,
   "metadata": {},
   "outputs": [
    {
     "data": {
      "text/plain": [
       "['rawfilter_TRUE_trans_clr_scale',\n",
       " 'minerva_first1filter_TRUE_trans_clr_scale',\n",
       " 'minerva_first2filter_TRUE_trans_clr_scale',\n",
       " 'minerva_first3filter_TRUE_trans_clr_scale',\n",
       " 'minerva_first4filter_TRUE_trans_clr_scale',\n",
       " 'minerva_first5filter_TRUE_trans_clr_scale',\n",
       " 'minerva_first6filter_TRUE_trans_clr_scale',\n",
       " 'minerva_first7filter_TRUE_trans_clr_scale',\n",
       " 'minerva_first8filter_TRUE_trans_clr_scale',\n",
       " 'minerva_first9filter_TRUE_trans_clr_scale',\n",
       " 'minerva_first10filter_TRUE_trans_clr_scale',\n",
       " 'minerva_first20filter_TRUE_trans_clr_scale',\n",
       " 'minerva_first30filter_TRUE_trans_clr_scale',\n",
       " 'minerva_first40filter_TRUE_trans_clr_scale',\n",
       " 'minerva_first50filter_TRUE_trans_clr_scale']"
      ]
     },
     "execution_count": 10,
     "metadata": {},
     "output_type": "execute_result"
    }
   ],
   "source": [
    "file_names"
   ]
  },
  {
   "cell_type": "code",
   "execution_count": null,
   "metadata": {},
   "outputs": [],
   "source": []
  },
  {
   "cell_type": "code",
   "execution_count": 11,
   "metadata": {},
   "outputs": [],
   "source": [
    "select_columns = df_metric.columns #[ i + 'clr_pca_regress_out_no_scale_first10' for i in nice_names ] \n",
    "#select_labels = [\"raw\",\"ComBat\",\"BMC\",\"limma\",\"SmartSVA\",\"Refactor\",\"MINERVA\"]\n",
    "select_labels = numPc\n",
    "#select_labels = [\"raw\",\"MINERVA\",\"Refactor\",\"SmartSVA\"]\n",
    "\n",
    "\n",
    "# ['Refactor CLR 100 SVs','Refactor CLR 220 SVs','MINERVA 100 SVs','MINERVA 220 SVs', \n",
    "#                  \"Refactor 120 SVs\", \"SmartSVA CLR 220 SVs\",\"SmartSVA 120 SVs\"]\n",
    "\n",
    "# select_labels = [\"MINERVA no std 10 SVs\", \"MINERVA std 10 SVs\",\"SmartSVA 10 SVs\", \n",
    "#                  \"MINERVA no std 5 SVs\", \"MINERVA std 5 SVs\",\"SmartSVA 5 SVs\"]\n",
    "\n",
    "\n",
    "\n",
    "\n",
    "\n",
    "\n",
    "#[ i + ' MINERVA' for i in nice_names ] "
   ]
  },
  {
   "cell_type": "code",
   "execution_count": null,
   "metadata": {},
   "outputs": [],
   "source": []
  },
  {
   "cell_type": "code",
   "execution_count": 12,
   "metadata": {},
   "outputs": [
    {
     "data": {
      "image/png": "[encoded data removed]",
      "text/plain": [
       "<Figure size 432x288 with 1 Axes>"
      ]
     },
     "metadata": {
      "needs_background": "light"
     },
     "output_type": "display_data"
    }
   ],
   "source": [
    "# ['6-mers norm', '6-mers no_scale_clr','6-mers scale_clr','7-mers norm','7-mers no_scale_clr','7-mers scale_clr']\n",
    "# ['6-mers Raw', '6-mers MINVERVA','6-mers MINERVA-scale', '7-mers Raw','7-mers MINVERVA','7-mers MINVERVA-scale']\n",
    "# Make boxplot for one group only\n",
    "\n",
    "current_palette = sns.color_palette()\n",
    "#sns.palplot(current_palette)\n",
    "palette = sns.color_palette(\"hls\", 8)\n",
    "plot_color = palette.as_hex()\n",
    "\n",
    "\n",
    "# select_columns = ['7-merclr_pca_regress_out_no_scale_first10filter_FALSE',\n",
    "#        '7-merclr_pca_regress_out_scale_first10filter_FALSE',\n",
    "#        '7-mersmartsva_first10filter_FALSE',\n",
    "#        '7-merclr_pca_regress_out_no_scale_first5filter_FALSE',\n",
    "#        '7-merclr_pca_regress_out_scale_first5filter_FALSE',\n",
    "#        '7-mersmartsva_first5filter_FALSE']\n",
    "\n",
    "# select_labels = [\"KMER MINERVA \"]\n",
    "\n",
    "# select_columns = ['OTUraw','OTUbmc','OTUComBat','OTUlimma',\n",
    "#                                  'KMERraw','KMERbmc','KMERComBat','KMERlimma',\n",
    "#                   \"KMERsmartsva_first10\",\"KMERrefactor_first10\",\n",
    "#                  \"KMERno_scale_clr\"]\n",
    "\n",
    "# select_columns = ['OTUraw','OTUbmc','OTUComBat','OTUlimma','KMERraw',\n",
    "#                   'KMERbmc','KMERComBat','KMERlimma',\"KMERsmartsva_first10\",\n",
    "#                   \"KMERrefactor_first10\", \"KMERclr_pca_regress_out_no_scale_first10\"]\n",
    "\n",
    "# select_columns = ['OTUraw','OTUbmc','OTUComBat','OTUlimma',\n",
    "#                                  'KMERraw','KMERbmc','KMERComBat','KMERlimma',\n",
    "#                   \"KMERsmartsva_first10\",\"KMERrefactor_first10\",\n",
    "#                  \"KMERno_scale_clr\"] #clr_pca_regress_out_no_scale_first10\n",
    "\n",
    "# ['OTUraw','OTUbmc','OTUComBat','OTUlimma',\n",
    "#                                  'OTUclr_pca_regress_out_no_scale',\"KMERnorm\",\"KMERno_scale_clr\"]\n",
    "\n",
    "# select_labels = ['OTU raw','OTU BMC','OTU ComBat','OTU limma',\n",
    "#                                      \"K-mer raw\",\"K-mer BMC\", \"K-mer ComBat\",\n",
    "#                 \"K-mer limma\",\"K-mer smartsva\",\"K-mer refactor\",\"K-mer MINERVA\"]\n",
    "#['OTU raw','OTU BMC','OTU ComBat','OTU limma',\"OTU MINERVA\",\"K-mer raw\", \"K-mer MINERVA\"]\n",
    "\n",
    "\n",
    "# ['OTU raw','OTU BMC','OTU ComBat','OTU limma',\n",
    "#                                      \"K-mer raw\",\"K-mer ComBat\",\"K-mer smartsva*\",\n",
    "#                                     \"K-mer MINERVA\"]\n",
    "if select_columns_bool:\n",
    "    g=sns.boxplot( data = df_metric[select_columns],palette=plot_color)\n",
    "    #plot_color[0:4] + [plot_color[7]] + [plot_color[4]] + [plot_color[7]\n",
    "    if not_rotate:\n",
    "        g.set_xticklabels(labels = select_labels) #df_metric.columns\n",
    "    else:\n",
    "        g.set_xticklabels(rotation=90,labels = select_labels) #df_metric.columns\n",
    "else:\n",
    "    g=sns.boxplot( data = df_metric)\n",
    "    g.set_xticklabels(rotation=90,labels = df_metric.columns)\n",
    "if metric_word == \"pearson\":\n",
    "    g.set(ylim=(-0.3, 0.5))\n",
    "else:\n",
    "    g.set(ylim=(0.3, 0.85))\n",
    "g.set_title(title)\n",
    "plt.savefig(plot_folder + data_type + \"_\" + trans + '_boxplots_' + classifier + '_' + metric_word + \"_\" + special_name + '.pdf',bbox_inches='tight')\n",
    "plt.savefig(plot_folder + data_type + \"_\" + trans +  '_boxplots_' + classifier + '_' + metric_word + \"_\" + special_name + '.png',bbox_inches='tight')\n",
    "\n",
    "\n"
   ]
  },
  {
   "cell_type": "code",
   "execution_count": 13,
   "metadata": {},
   "outputs": [
    {
     "data": {
      "text/plain": [
       "True"
      ]
     },
     "execution_count": 13,
     "metadata": {},
     "output_type": "execute_result"
    }
   ],
   "source": [
    "select_columns_bool"
   ]
  },
  {
   "cell_type": "code",
   "execution_count": null,
   "metadata": {},
   "outputs": [],
   "source": []
  },
  {
   "cell_type": "code",
   "execution_count": 14,
   "metadata": {},
   "outputs": [
    {
     "data": {
      "text/plain": [
       "'/Users/leahbriscoe/Documents/MicroBatch/microbatch_vc/plots/'"
      ]
     },
     "execution_count": 14,
     "metadata": {},
     "output_type": "execute_result"
    }
   ],
   "source": [
    "plot_folder"
   ]
  },
  {
   "cell_type": "code",
   "execution_count": null,
   "metadata": {},
   "outputs": [],
   "source": []
  }
 ],
 "metadata": {
  "kernelspec": {
   "display_name": "Python 3",
   "language": "python",
   "name": "python3"
  },
  "language_info": {
   "codemirror_mode": {
    "name": "ipython",
    "version": 3
   },
   "file_extension": ".py",
   "mimetype": "text/x-python",
   "name": "python",
   "nbconvert_exporter": "python",
   "pygments_lexer": "ipython3",
   "version": "3.6.8"
  }
 },
 "nbformat": 4,
 "nbformat_minor": 2
}
